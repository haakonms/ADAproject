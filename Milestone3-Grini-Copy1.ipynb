{
 "cells": [
  {
   "cell_type": "markdown",
   "metadata": {},
   "source": [
    "# Twitter trolls - how Russia meddles with western democracies\n",
    "\n",
    "\n",
    "## Abstract\n",
    "Over the last several years there has been an attempt from Russian trolls to spread propaganda and fake news over social media in order to spread political ideas among the general population both nationally and internationally. Can these attempts be regarded as undermining the democracy of the affected countries?\n",
    "\n",
    "In this project we are going to analyze a great number of these russian tweets and look into their motivations for this meddling. We will mainly look into their overall political goals in the US, and examine how these goals change over time. Have the trolls achieved their goals? We will also look into how the trolls operate and organize themselves, trying to find patterns in the madness. Such patterns can hopefully help the general population to indicate that a tweet is originating from a troll. As the Russian efforts are increasing every year, a solution is needed to defend the democracy.\n",
    "\n",
    "### Imports used in this notebook\n"
   ]
  },
  {
   "cell_type": "code",
   "execution_count": 1,
   "metadata": {},
   "outputs": [
    {
     "name": "stdout",
     "output_type": "stream",
     "text": [
      "/Library/Java/JavaVirtualMachines/jdk1.8.0_121.jdk/Contents/Home\n"
     ]
    },
    {
     "ename": "KeyError",
     "evalue": "'SPARK_HOME'",
     "output_type": "error",
     "traceback": [
      "\u001b[0;31m---------------------------------------------------------------------------\u001b[0m",
      "\u001b[0;31mKeyError\u001b[0m                                  Traceback (most recent call last)",
      "\u001b[0;32m<ipython-input-1-087a9c0d2497>\u001b[0m in \u001b[0;36m<module>\u001b[0;34m\u001b[0m\n\u001b[1;32m      1\u001b[0m \u001b[0;32mimport\u001b[0m \u001b[0mos\u001b[0m\u001b[0;34m\u001b[0m\u001b[0m\n\u001b[1;32m      2\u001b[0m \u001b[0mprint\u001b[0m\u001b[0;34m(\u001b[0m\u001b[0mos\u001b[0m\u001b[0;34m.\u001b[0m\u001b[0menviron\u001b[0m\u001b[0;34m[\u001b[0m\u001b[0;34m\"JAVA_HOME\"\u001b[0m\u001b[0;34m]\u001b[0m\u001b[0;34m)\u001b[0m\u001b[0;34m\u001b[0m\u001b[0m\n\u001b[0;32m----> 3\u001b[0;31m \u001b[0mprint\u001b[0m\u001b[0;34m(\u001b[0m\u001b[0mos\u001b[0m\u001b[0;34m.\u001b[0m\u001b[0menviron\u001b[0m\u001b[0;34m[\u001b[0m\u001b[0;34m\"SPARK_HOME\"\u001b[0m\u001b[0;34m]\u001b[0m\u001b[0;34m)\u001b[0m\u001b[0;34m\u001b[0m\u001b[0m\n\u001b[0m",
      "\u001b[0;32m~/anaconda3/envs/ada/lib/python3.6/os.py\u001b[0m in \u001b[0;36m__getitem__\u001b[0;34m(self, key)\u001b[0m\n\u001b[1;32m    667\u001b[0m         \u001b[0;32mexcept\u001b[0m \u001b[0mKeyError\u001b[0m\u001b[0;34m:\u001b[0m\u001b[0;34m\u001b[0m\u001b[0m\n\u001b[1;32m    668\u001b[0m             \u001b[0;31m# raise KeyError with the original key value\u001b[0m\u001b[0;34m\u001b[0m\u001b[0;34m\u001b[0m\u001b[0m\n\u001b[0;32m--> 669\u001b[0;31m             \u001b[0;32mraise\u001b[0m \u001b[0mKeyError\u001b[0m\u001b[0;34m(\u001b[0m\u001b[0mkey\u001b[0m\u001b[0;34m)\u001b[0m \u001b[0;32mfrom\u001b[0m \u001b[0;32mNone\u001b[0m\u001b[0;34m\u001b[0m\u001b[0m\n\u001b[0m\u001b[1;32m    670\u001b[0m         \u001b[0;32mreturn\u001b[0m \u001b[0mself\u001b[0m\u001b[0;34m.\u001b[0m\u001b[0mdecodevalue\u001b[0m\u001b[0;34m(\u001b[0m\u001b[0mvalue\u001b[0m\u001b[0;34m)\u001b[0m\u001b[0;34m\u001b[0m\u001b[0m\n\u001b[1;32m    671\u001b[0m \u001b[0;34m\u001b[0m\u001b[0m\n",
      "\u001b[0;31mKeyError\u001b[0m: 'SPARK_HOME'"
     ]
    }
   ],
   "source": [
    "import os\n",
    "print(os.environ[\"JAVA_HOME\"])\n",
    "print(os.environ[\"SPARK_HOME\"])"
   ]
  },
  {
   "cell_type": "code",
   "execution_count": 5,
   "metadata": {},
   "outputs": [],
   "source": [
    "import pandas as pd\n",
    "import numpy as np\n",
    "from zipfile import ZipFile\n",
    "import scipy as sp\n",
    "from pyspark.sql import *\n",
    "import matplotlib.pyplot as plt\n",
    "from statistics import median \n",
    "#from langdetect import detect\n",
    "%matplotlib inline\n",
    "from datetime import datetime\n",
    "from pyspark.sql.functions import *\n",
    "from pyspark.sql.types import *\n",
    "from matplotlib.pyplot import figure\n",
    "#import pyspark.sql.SQLContext\n",
    "from ipywidgets import *\n",
    "import pyspark.sql.functions as func\n",
    "import seaborn as sns\n",
    "#import plotly\n",
    "#plotly.tools.set_credentials_file(username='haakonms', api_key='oYz1dEh5JqxsGGF4EMQd')\n",
    "#import plotly.plotly as py\n",
    "#import plotly.graph_objs as go\n",
    "%matplotlib inline\n",
    "import warnings\n",
    "#import findspark\n",
    "#findspark.init()\n",
    "warnings.filterwarnings('ignore')\n",
    "#Want to ignore this since we had the same error running over and over regarding to whether use loc or make a copy. In our notebook the difference does not matter.\n",
    "\n",
    "spark = SparkSession.builder.getOrCreate()"
   ]
  },
  {
   "cell_type": "markdown",
   "metadata": {},
   "source": [
    "# 1) Preprocessing the data\n",
    "The data sets are of different shape and quality. The first one, provided by two researchers from Clemson University has already been preprocessed a bit. The second one is still quite raw, even though it has certain features as for example language. We have been cleaning some of it, and also processing and enriching to make new data frames that we want to use in our analysis.\n",
    "\n",
    "## 1.1) The first dataset - IRA tweets from Kaggle.\n",
    "The first dataset has the following features:\n",
    "- external_author_id | An author account ID from Twitter \n",
    "- author | The handle sending the tweet\n",
    "- content | The text of the tweet\n",
    "- region | A region classification based on following criterias:\n",
    "     - 1. Geographical coordinates\n",
    "     - 2. Location listed in the user's profile\n",
    "     - 3. Time zone set by the user in their Twitter account settings.\n",
    "- language | The language of the tweet\n",
    "- publish_date | The date and time the tweet was sent\n",
    "- harvested_date | The date and time the tweet was collected by Social Studio\n",
    "- following | The number of accounts the handle was following at the time of the tweet\n",
    "- followers | The number of followers the handle had at the time of the tweet\n",
    "- updates | The number of “update actions” on the account that authored the tweet, including tweets, retweets and likes\n",
    "- post_type | Indicates if the tweet was a retweet or a quote-tweet\n",
    "- account_type | Specific account theme, as coded by Linvill and Warren\n",
    "- retweet | A binary indicator of whether or not the tweet is a retweet\n",
    "- account_category` | General account theme, as coded by Linvill and Warren\n",
    "- new_june_2018 | A binary indicator of whether the handle was newly listed in June 2018\n",
    "\n",
    "\n",
    "### 1.1.1) Loading the first dataset\n",
    "We loaded the 9 files into a unified dataframe. We decided to use pandas, since the dataset is not too large, and especially with the fact that we will be focusing on subsets of these tweets."
   ]
  },
  {
   "cell_type": "code",
   "execution_count": 3,
   "metadata": {},
   "outputs": [
    {
     "data": {
      "text/html": [
       "<div>\n",
       "<style scoped>\n",
       "    .dataframe tbody tr th:only-of-type {\n",
       "        vertical-align: middle;\n",
       "    }\n",
       "\n",
       "    .dataframe tbody tr th {\n",
       "        vertical-align: top;\n",
       "    }\n",
       "\n",
       "    .dataframe thead th {\n",
       "        text-align: right;\n",
       "    }\n",
       "</style>\n",
       "<table border=\"1\" class=\"dataframe\">\n",
       "  <thead>\n",
       "    <tr style=\"text-align: right;\">\n",
       "      <th></th>\n",
       "      <th>index</th>\n",
       "      <th>external_author_id</th>\n",
       "      <th>author</th>\n",
       "      <th>content</th>\n",
       "      <th>region</th>\n",
       "      <th>language</th>\n",
       "      <th>publish_date</th>\n",
       "      <th>harvested_date</th>\n",
       "      <th>following</th>\n",
       "      <th>followers</th>\n",
       "      <th>updates</th>\n",
       "      <th>post_type</th>\n",
       "      <th>account_type</th>\n",
       "      <th>new_june_2018</th>\n",
       "      <th>retweet</th>\n",
       "      <th>account_category</th>\n",
       "    </tr>\n",
       "  </thead>\n",
       "  <tbody>\n",
       "    <tr>\n",
       "      <th>2935811</th>\n",
       "      <td>378290</td>\n",
       "      <td>1.513801e+09</td>\n",
       "      <td>YOUJUSTCTRLC</td>\n",
       "      <td>They'll say some shit anonymously like a cowar...</td>\n",
       "      <td>United States</td>\n",
       "      <td>English</td>\n",
       "      <td>1/7/2017 7:47</td>\n",
       "      <td>1/7/2017 7:48</td>\n",
       "      <td>2655</td>\n",
       "      <td>2724</td>\n",
       "      <td>3007</td>\n",
       "      <td>RETWEET</td>\n",
       "      <td>left</td>\n",
       "      <td>0</td>\n",
       "      <td>1</td>\n",
       "      <td>LeftTroll</td>\n",
       "    </tr>\n",
       "    <tr>\n",
       "      <th>2935812</th>\n",
       "      <td>378291</td>\n",
       "      <td>1.513801e+09</td>\n",
       "      <td>YOUJUSTCTRLC</td>\n",
       "      <td>Mr. Brown knees https://t.co/LmAiHCnFlz</td>\n",
       "      <td>United States</td>\n",
       "      <td>English</td>\n",
       "      <td>1/7/2017 7:47</td>\n",
       "      <td>1/7/2017 7:48</td>\n",
       "      <td>2655</td>\n",
       "      <td>2724</td>\n",
       "      <td>3006</td>\n",
       "      <td>RETWEET</td>\n",
       "      <td>left</td>\n",
       "      <td>0</td>\n",
       "      <td>1</td>\n",
       "      <td>LeftTroll</td>\n",
       "    </tr>\n",
       "    <tr>\n",
       "      <th>2935813</th>\n",
       "      <td>378292</td>\n",
       "      <td>1.513801e+09</td>\n",
       "      <td>YOUJUSTCTRLC</td>\n",
       "      <td>Like, you want somebody who follows you regula...</td>\n",
       "      <td>United States</td>\n",
       "      <td>English</td>\n",
       "      <td>1/7/2017 7:47</td>\n",
       "      <td>1/7/2017 7:47</td>\n",
       "      <td>2655</td>\n",
       "      <td>2724</td>\n",
       "      <td>3005</td>\n",
       "      <td>RETWEET</td>\n",
       "      <td>left</td>\n",
       "      <td>0</td>\n",
       "      <td>1</td>\n",
       "      <td>LeftTroll</td>\n",
       "    </tr>\n",
       "    <tr>\n",
       "      <th>2935814</th>\n",
       "      <td>378293</td>\n",
       "      <td>1.513801e+09</td>\n",
       "      <td>YOUJUSTCTRLC</td>\n",
       "      <td>If you wanna ask me something, ask it here so ...</td>\n",
       "      <td>United States</td>\n",
       "      <td>English</td>\n",
       "      <td>1/7/2017 7:48</td>\n",
       "      <td>1/7/2017 7:48</td>\n",
       "      <td>2655</td>\n",
       "      <td>2724</td>\n",
       "      <td>3008</td>\n",
       "      <td>RETWEET</td>\n",
       "      <td>left</td>\n",
       "      <td>0</td>\n",
       "      <td>1</td>\n",
       "      <td>LeftTroll</td>\n",
       "    </tr>\n",
       "    <tr>\n",
       "      <th>2935815</th>\n",
       "      <td>378294</td>\n",
       "      <td>1.513801e+09</td>\n",
       "      <td>YOUJUSTCTRLC</td>\n",
       "      <td>And there he is again ... Inside the KGB Playb...</td>\n",
       "      <td>United States</td>\n",
       "      <td>English</td>\n",
       "      <td>1/8/2017 1:56</td>\n",
       "      <td>1/8/2017 1:57</td>\n",
       "      <td>2655</td>\n",
       "      <td>2724</td>\n",
       "      <td>3013</td>\n",
       "      <td>RETWEET</td>\n",
       "      <td>left</td>\n",
       "      <td>0</td>\n",
       "      <td>1</td>\n",
       "      <td>LeftTroll</td>\n",
       "    </tr>\n",
       "  </tbody>\n",
       "</table>\n",
       "</div>"
      ],
      "text/plain": [
       "          index  external_author_id        author  \\\n",
       "2935811  378290        1.513801e+09  YOUJUSTCTRLC   \n",
       "2935812  378291        1.513801e+09  YOUJUSTCTRLC   \n",
       "2935813  378292        1.513801e+09  YOUJUSTCTRLC   \n",
       "2935814  378293        1.513801e+09  YOUJUSTCTRLC   \n",
       "2935815  378294        1.513801e+09  YOUJUSTCTRLC   \n",
       "\n",
       "                                                   content         region  \\\n",
       "2935811  They'll say some shit anonymously like a cowar...  United States   \n",
       "2935812            Mr. Brown knees https://t.co/LmAiHCnFlz  United States   \n",
       "2935813  Like, you want somebody who follows you regula...  United States   \n",
       "2935814  If you wanna ask me something, ask it here so ...  United States   \n",
       "2935815  And there he is again ... Inside the KGB Playb...  United States   \n",
       "\n",
       "        language   publish_date harvested_date  following  followers  updates  \\\n",
       "2935811  English  1/7/2017 7:47  1/7/2017 7:48       2655       2724     3007   \n",
       "2935812  English  1/7/2017 7:47  1/7/2017 7:48       2655       2724     3006   \n",
       "2935813  English  1/7/2017 7:47  1/7/2017 7:47       2655       2724     3005   \n",
       "2935814  English  1/7/2017 7:48  1/7/2017 7:48       2655       2724     3008   \n",
       "2935815  English  1/8/2017 1:56  1/8/2017 1:57       2655       2724     3013   \n",
       "\n",
       "        post_type account_type  new_june_2018  retweet account_category  \n",
       "2935811   RETWEET         left              0        1        LeftTroll  \n",
       "2935812   RETWEET         left              0        1        LeftTroll  \n",
       "2935813   RETWEET         left              0        1        LeftTroll  \n",
       "2935814   RETWEET         left              0        1        LeftTroll  \n",
       "2935815   RETWEET         left              0        1        LeftTroll  "
      ]
     },
     "execution_count": 3,
     "metadata": {},
     "output_type": "execute_result"
    }
   ],
   "source": [
    "zip_file = ZipFile('russian-troll-tweets.zip')\n",
    "data = pd.DataFrame()\n",
    "for i in range(1,9):\n",
    "    data = data.append(pd.read_csv(zip_file.open(\"IRAhandle_tweets_\"+str(i)+\".csv\")))\n",
    "first_set_data=data.reset_index()\n",
    "first_set_data.tail(5)"
   ]
  },
  {
   "cell_type": "code",
   "execution_count": 4,
   "metadata": {},
   "outputs": [
    {
     "data": {
      "text/html": [
       "<div>\n",
       "<style scoped>\n",
       "    .dataframe tbody tr th:only-of-type {\n",
       "        vertical-align: middle;\n",
       "    }\n",
       "\n",
       "    .dataframe tbody tr th {\n",
       "        vertical-align: top;\n",
       "    }\n",
       "\n",
       "    .dataframe thead th {\n",
       "        text-align: right;\n",
       "    }\n",
       "</style>\n",
       "<table border=\"1\" class=\"dataframe\">\n",
       "  <thead>\n",
       "    <tr style=\"text-align: right;\">\n",
       "      <th></th>\n",
       "      <th>index</th>\n",
       "      <th>external_author_id</th>\n",
       "      <th>author</th>\n",
       "      <th>content</th>\n",
       "      <th>region</th>\n",
       "      <th>language</th>\n",
       "      <th>publish_date</th>\n",
       "      <th>harvested_date</th>\n",
       "      <th>following</th>\n",
       "      <th>followers</th>\n",
       "      <th>updates</th>\n",
       "      <th>post_type</th>\n",
       "      <th>account_type</th>\n",
       "      <th>new_june_2018</th>\n",
       "      <th>retweet</th>\n",
       "      <th>account_category</th>\n",
       "    </tr>\n",
       "  </thead>\n",
       "  <tbody>\n",
       "    <tr>\n",
       "      <th>0</th>\n",
       "      <td>0</td>\n",
       "      <td>9.060000e+17</td>\n",
       "      <td>10_GOP</td>\n",
       "      <td>\"We have a sitting Democrat US Senator on tria...</td>\n",
       "      <td>Unknown</td>\n",
       "      <td>English</td>\n",
       "      <td>10/1/2017 19:58</td>\n",
       "      <td>10/1/2017 19:59</td>\n",
       "      <td>1052</td>\n",
       "      <td>9636</td>\n",
       "      <td>253</td>\n",
       "      <td>NaN</td>\n",
       "      <td>Right</td>\n",
       "      <td>0</td>\n",
       "      <td>0</td>\n",
       "      <td>RightTroll</td>\n",
       "    </tr>\n",
       "    <tr>\n",
       "      <th>1</th>\n",
       "      <td>1</td>\n",
       "      <td>9.060000e+17</td>\n",
       "      <td>10_GOP</td>\n",
       "      <td>Marshawn Lynch arrives to game in anti-Trump s...</td>\n",
       "      <td>Unknown</td>\n",
       "      <td>English</td>\n",
       "      <td>10/1/2017 22:43</td>\n",
       "      <td>10/1/2017 22:43</td>\n",
       "      <td>1054</td>\n",
       "      <td>9637</td>\n",
       "      <td>254</td>\n",
       "      <td>NaN</td>\n",
       "      <td>Right</td>\n",
       "      <td>0</td>\n",
       "      <td>0</td>\n",
       "      <td>RightTroll</td>\n",
       "    </tr>\n",
       "    <tr>\n",
       "      <th>2</th>\n",
       "      <td>2</td>\n",
       "      <td>9.060000e+17</td>\n",
       "      <td>10_GOP</td>\n",
       "      <td>Daughter of fallen Navy Sailor delivers powerf...</td>\n",
       "      <td>Unknown</td>\n",
       "      <td>English</td>\n",
       "      <td>10/1/2017 22:50</td>\n",
       "      <td>10/1/2017 22:51</td>\n",
       "      <td>1054</td>\n",
       "      <td>9637</td>\n",
       "      <td>255</td>\n",
       "      <td>RETWEET</td>\n",
       "      <td>Right</td>\n",
       "      <td>0</td>\n",
       "      <td>1</td>\n",
       "      <td>RightTroll</td>\n",
       "    </tr>\n",
       "    <tr>\n",
       "      <th>3</th>\n",
       "      <td>3</td>\n",
       "      <td>9.060000e+17</td>\n",
       "      <td>10_GOP</td>\n",
       "      <td>JUST IN: President Trump dedicates Presidents ...</td>\n",
       "      <td>Unknown</td>\n",
       "      <td>English</td>\n",
       "      <td>10/1/2017 23:52</td>\n",
       "      <td>10/1/2017 23:52</td>\n",
       "      <td>1062</td>\n",
       "      <td>9642</td>\n",
       "      <td>256</td>\n",
       "      <td>NaN</td>\n",
       "      <td>Right</td>\n",
       "      <td>0</td>\n",
       "      <td>0</td>\n",
       "      <td>RightTroll</td>\n",
       "    </tr>\n",
       "    <tr>\n",
       "      <th>4</th>\n",
       "      <td>4</td>\n",
       "      <td>9.060000e+17</td>\n",
       "      <td>10_GOP</td>\n",
       "      <td>19,000 RESPECTING our National Anthem! #StandF...</td>\n",
       "      <td>Unknown</td>\n",
       "      <td>English</td>\n",
       "      <td>10/1/2017 2:13</td>\n",
       "      <td>10/1/2017 2:13</td>\n",
       "      <td>1050</td>\n",
       "      <td>9645</td>\n",
       "      <td>246</td>\n",
       "      <td>RETWEET</td>\n",
       "      <td>Right</td>\n",
       "      <td>0</td>\n",
       "      <td>1</td>\n",
       "      <td>RightTroll</td>\n",
       "    </tr>\n",
       "  </tbody>\n",
       "</table>\n",
       "</div>"
      ],
      "text/plain": [
       "   index  external_author_id  author  \\\n",
       "0      0        9.060000e+17  10_GOP   \n",
       "1      1        9.060000e+17  10_GOP   \n",
       "2      2        9.060000e+17  10_GOP   \n",
       "3      3        9.060000e+17  10_GOP   \n",
       "4      4        9.060000e+17  10_GOP   \n",
       "\n",
       "                                             content   region language  \\\n",
       "0  \"We have a sitting Democrat US Senator on tria...  Unknown  English   \n",
       "1  Marshawn Lynch arrives to game in anti-Trump s...  Unknown  English   \n",
       "2  Daughter of fallen Navy Sailor delivers powerf...  Unknown  English   \n",
       "3  JUST IN: President Trump dedicates Presidents ...  Unknown  English   \n",
       "4  19,000 RESPECTING our National Anthem! #StandF...  Unknown  English   \n",
       "\n",
       "      publish_date   harvested_date  following  followers  updates post_type  \\\n",
       "0  10/1/2017 19:58  10/1/2017 19:59       1052       9636      253       NaN   \n",
       "1  10/1/2017 22:43  10/1/2017 22:43       1054       9637      254       NaN   \n",
       "2  10/1/2017 22:50  10/1/2017 22:51       1054       9637      255   RETWEET   \n",
       "3  10/1/2017 23:52  10/1/2017 23:52       1062       9642      256       NaN   \n",
       "4   10/1/2017 2:13   10/1/2017 2:13       1050       9645      246   RETWEET   \n",
       "\n",
       "  account_type  new_june_2018  retweet account_category  \n",
       "0        Right              0        0       RightTroll  \n",
       "1        Right              0        0       RightTroll  \n",
       "2        Right              0        1       RightTroll  \n",
       "3        Right              0        0       RightTroll  \n",
       "4        Right              0        1       RightTroll  "
      ]
     },
     "execution_count": 4,
     "metadata": {},
     "output_type": "execute_result"
    }
   ],
   "source": [
    "first_set_data.head(5)"
   ]
  },
  {
   "cell_type": "markdown",
   "metadata": {},
   "source": [
    "### 1.1.2) Cleaning and filtering the first dataset\n",
    "The first dataset is pretty clean as it is, but it contains some nan-values and duplicates. We are also working with some parts of the data set, so it's filtered a bit as well.\n",
    "\n",
    "#### 1.1.2.1) Dropping the data we don't want."
   ]
  },
  {
   "cell_type": "markdown",
   "metadata": {},
   "source": [
    "The index column is unnecessary as pandas assigns an index anyway. \"new_june_2018\" and \"harvested_date\" does not add anything that we are going to use, and we already have a \"post_type\", so we don't need a binary indicator for that."
   ]
  },
  {
   "cell_type": "code",
   "execution_count": 5,
   "metadata": {},
   "outputs": [],
   "source": [
    "data1_drop_step = first_set_data.drop(columns=[\"retweet\", \"index\", \"new_june_2018\", \"harvested_date\"]) "
   ]
  },
  {
   "cell_type": "markdown",
   "metadata": {},
   "source": [
    "#### 1.1.2.2) Filtering out the english tweets.\n",
    "After inspecting some of the tweets we concluded that a lot of the language stamps do not match the actual tweets. For instance, most of the tweets labeled to our mothertongue Norwegian was English. The same went for different languages, such as those of neighbouring countries like Danish and Swedish. For this reason we decide to discard all tweets in other languages than english, in order to avoid confusion. We could have included tweets in other languages of which we have some knowledge of, we decide not to as we have limited knowledge of the political climate in these countries. The labeling of english tweets are also better, and our decision also helps keeping the scope of the project limited."
   ]
  },
  {
   "cell_type": "code",
   "execution_count": 6,
   "metadata": {},
   "outputs": [
    {
     "data": {
      "text/html": [
       "<div>\n",
       "<style scoped>\n",
       "    .dataframe tbody tr th:only-of-type {\n",
       "        vertical-align: middle;\n",
       "    }\n",
       "\n",
       "    .dataframe tbody tr th {\n",
       "        vertical-align: top;\n",
       "    }\n",
       "\n",
       "    .dataframe thead th {\n",
       "        text-align: right;\n",
       "    }\n",
       "</style>\n",
       "<table border=\"1\" class=\"dataframe\">\n",
       "  <thead>\n",
       "    <tr style=\"text-align: right;\">\n",
       "      <th></th>\n",
       "      <th>external_author_id</th>\n",
       "      <th>author</th>\n",
       "      <th>content</th>\n",
       "      <th>region</th>\n",
       "      <th>language</th>\n",
       "      <th>publish_date</th>\n",
       "      <th>following</th>\n",
       "      <th>followers</th>\n",
       "      <th>updates</th>\n",
       "      <th>post_type</th>\n",
       "      <th>account_type</th>\n",
       "      <th>account_category</th>\n",
       "    </tr>\n",
       "  </thead>\n",
       "  <tbody>\n",
       "    <tr>\n",
       "      <th>0</th>\n",
       "      <td>9.060000e+17</td>\n",
       "      <td>10_GOP</td>\n",
       "      <td>\"We have a sitting Democrat US Senator on tria...</td>\n",
       "      <td>Unknown</td>\n",
       "      <td>English</td>\n",
       "      <td>10/1/2017 19:58</td>\n",
       "      <td>1052</td>\n",
       "      <td>9636</td>\n",
       "      <td>253</td>\n",
       "      <td>NaN</td>\n",
       "      <td>Right</td>\n",
       "      <td>RightTroll</td>\n",
       "    </tr>\n",
       "    <tr>\n",
       "      <th>1</th>\n",
       "      <td>9.060000e+17</td>\n",
       "      <td>10_GOP</td>\n",
       "      <td>Marshawn Lynch arrives to game in anti-Trump s...</td>\n",
       "      <td>Unknown</td>\n",
       "      <td>English</td>\n",
       "      <td>10/1/2017 22:43</td>\n",
       "      <td>1054</td>\n",
       "      <td>9637</td>\n",
       "      <td>254</td>\n",
       "      <td>NaN</td>\n",
       "      <td>Right</td>\n",
       "      <td>RightTroll</td>\n",
       "    </tr>\n",
       "    <tr>\n",
       "      <th>2</th>\n",
       "      <td>9.060000e+17</td>\n",
       "      <td>10_GOP</td>\n",
       "      <td>Daughter of fallen Navy Sailor delivers powerf...</td>\n",
       "      <td>Unknown</td>\n",
       "      <td>English</td>\n",
       "      <td>10/1/2017 22:50</td>\n",
       "      <td>1054</td>\n",
       "      <td>9637</td>\n",
       "      <td>255</td>\n",
       "      <td>RETWEET</td>\n",
       "      <td>Right</td>\n",
       "      <td>RightTroll</td>\n",
       "    </tr>\n",
       "  </tbody>\n",
       "</table>\n",
       "</div>"
      ],
      "text/plain": [
       "   external_author_id  author  \\\n",
       "0        9.060000e+17  10_GOP   \n",
       "1        9.060000e+17  10_GOP   \n",
       "2        9.060000e+17  10_GOP   \n",
       "\n",
       "                                             content   region language  \\\n",
       "0  \"We have a sitting Democrat US Senator on tria...  Unknown  English   \n",
       "1  Marshawn Lynch arrives to game in anti-Trump s...  Unknown  English   \n",
       "2  Daughter of fallen Navy Sailor delivers powerf...  Unknown  English   \n",
       "\n",
       "      publish_date  following  followers  updates post_type account_type  \\\n",
       "0  10/1/2017 19:58       1052       9636      253       NaN        Right   \n",
       "1  10/1/2017 22:43       1054       9637      254       NaN        Right   \n",
       "2  10/1/2017 22:50       1054       9637      255   RETWEET        Right   \n",
       "\n",
       "  account_category  \n",
       "0       RightTroll  \n",
       "1       RightTroll  \n",
       "2       RightTroll  "
      ]
     },
     "execution_count": 6,
     "metadata": {},
     "output_type": "execute_result"
    }
   ],
   "source": [
    "data1_filter_english = data1_drop_step.loc[data1_drop_step['language'] == \"English\"]\n",
    "data1_filter_english.head(3)"
   ]
  },
  {
   "cell_type": "markdown",
   "metadata": {},
   "source": [
    "#### 1.1.2.3) Cleaning empty data and duplicates, plus some small format changes."
   ]
  },
  {
   "cell_type": "code",
   "execution_count": 7,
   "metadata": {},
   "outputs": [
    {
     "name": "stdout",
     "output_type": "stream",
     "text": [
      "content : 1\n",
      "region : 1145\n",
      "post_type : 1270631\n",
      "account_type : 354\n"
     ]
    }
   ],
   "source": [
    "isna_columns = data1_filter_english.isna().any(axis=0)\n",
    "column_nan_list = isna_columns[isna_columns== True].index.tolist()\n",
    "for x in column_nan_list:\n",
    "    print(x, \":\", data1_filter_english[x].isnull().sum())\n",
    "    #clean"
   ]
  },
  {
   "cell_type": "markdown",
   "metadata": {},
   "source": [
    "For content we are going to eliminate the only empty one. For region and account_type, we are going to change it to an string that shows that it is unknown. When the post_type is nan, it only means that it is a original tweet so we change it to that."
   ]
  },
  {
   "cell_type": "code",
   "execution_count": 8,
   "metadata": {},
   "outputs": [],
   "source": [
    "data1_filter_english[\"account_type\"] = data1_filter_english[\"account_type\"].fillna(\"?\") #gjøre om right til Right?\n",
    "data1_filter_english[\"region\"] = data1_filter_english[\"region\"].fillna(\"Unknown\")\n",
    "data1_filter_english[\"content\"] = data1_filter_english[\"content\"].dropna()\n",
    "data1_filter_english[\"post_type\"] = data1_filter_english[\"post_type\"].fillna(\"ORIGINAL\")\n",
    "#clea\n"
   ]
  },
  {
   "cell_type": "code",
   "execution_count": 9,
   "metadata": {},
   "outputs": [],
   "source": [
    "#We also found out that there are two account_types that are equal. \"Right\" and \"right\". T\n",
    "data1_filter_english[\"account_type\"] = data1_filter_english[\"account_type\"].str.lower()\n"
   ]
  },
  {
   "cell_type": "markdown",
   "metadata": {},
   "source": [
    "The time stamps in this dataset is in string format. For further calculations, it would be better to have them as datetime."
   ]
  },
  {
   "cell_type": "code",
   "execution_count": 10,
   "metadata": {},
   "outputs": [],
   "source": [
    "data1_filter_english[\"publish_date\"] = pd.to_datetime(data1_filter_english[\"publish_date\"], format='%m/%d/%Y\\n%H:%M')"
   ]
  },
  {
   "cell_type": "code",
   "execution_count": 11,
   "metadata": {},
   "outputs": [
    {
     "name": "stdout",
     "output_type": "stream",
     "text": [
      "Full duplicates: 13692 \n",
      "Duplicates in all forms except time stamp: 358\n"
     ]
    }
   ],
   "source": [
    "data1_dup_step = data1_filter_english.drop_duplicates()\n",
    "duplicates_number = data1_filter_english.shape[0]-data1_dup_step.shape[0] \n",
    "#drop duplicates in everything\n",
    "dropdup_specific = data1_filter_english.drop_duplicates(subset= [\"external_author_id\", \"content\", \"following\", \"followers\", \"updates\", \"post_type\"])\n",
    "duplicates_except_timestamp = data1_dup_step.shape[0]-dropdup_specific.shape[0]\n",
    "print(\"Full duplicates:\", duplicates_number, \"\\nDuplicates in all forms except time stamp:\", duplicates_except_timestamp)"
   ]
  },
  {
   "cell_type": "code",
   "execution_count": 12,
   "metadata": {},
   "outputs": [],
   "source": [
    "data_sub_dropped = data1_filter_english.drop_duplicates(subset= [\"external_author_id\", \"content\", \"following\", \"followers\", \"updates\", \"post_type\"])"
   ]
  },
  {
   "cell_type": "markdown",
   "metadata": {},
   "source": [
    "The creators of this dataset also states that they did not sample anything in 2018. There are still a few tweets that have slipped in with the date tag being 2018. These are in so few numbers so we limit our data set to the period before that."
   ]
  },
  {
   "cell_type": "code",
   "execution_count": 13,
   "metadata": {},
   "outputs": [
    {
     "data": {
      "text/html": [
       "<div>\n",
       "<style scoped>\n",
       "    .dataframe tbody tr th:only-of-type {\n",
       "        vertical-align: middle;\n",
       "    }\n",
       "\n",
       "    .dataframe tbody tr th {\n",
       "        vertical-align: top;\n",
       "    }\n",
       "\n",
       "    .dataframe thead th {\n",
       "        text-align: right;\n",
       "    }\n",
       "</style>\n",
       "<table border=\"1\" class=\"dataframe\">\n",
       "  <thead>\n",
       "    <tr style=\"text-align: right;\">\n",
       "      <th></th>\n",
       "      <th>external_author_id</th>\n",
       "      <th>author</th>\n",
       "      <th>content</th>\n",
       "      <th>region</th>\n",
       "      <th>language</th>\n",
       "      <th>publish_date</th>\n",
       "      <th>following</th>\n",
       "      <th>followers</th>\n",
       "      <th>updates</th>\n",
       "      <th>post_type</th>\n",
       "      <th>account_type</th>\n",
       "      <th>account_category</th>\n",
       "    </tr>\n",
       "  </thead>\n",
       "  <tbody>\n",
       "    <tr>\n",
       "      <th>0</th>\n",
       "      <td>9.060000e+17</td>\n",
       "      <td>10_GOP</td>\n",
       "      <td>\"We have a sitting Democrat US Senator on tria...</td>\n",
       "      <td>Unknown</td>\n",
       "      <td>English</td>\n",
       "      <td>2017-10-01 19:58:00</td>\n",
       "      <td>1052</td>\n",
       "      <td>9636</td>\n",
       "      <td>253</td>\n",
       "      <td>ORIGINAL</td>\n",
       "      <td>right</td>\n",
       "      <td>RightTroll</td>\n",
       "    </tr>\n",
       "    <tr>\n",
       "      <th>1</th>\n",
       "      <td>9.060000e+17</td>\n",
       "      <td>10_GOP</td>\n",
       "      <td>Marshawn Lynch arrives to game in anti-Trump s...</td>\n",
       "      <td>Unknown</td>\n",
       "      <td>English</td>\n",
       "      <td>2017-10-01 22:43:00</td>\n",
       "      <td>1054</td>\n",
       "      <td>9637</td>\n",
       "      <td>254</td>\n",
       "      <td>ORIGINAL</td>\n",
       "      <td>right</td>\n",
       "      <td>RightTroll</td>\n",
       "    </tr>\n",
       "    <tr>\n",
       "      <th>2</th>\n",
       "      <td>9.060000e+17</td>\n",
       "      <td>10_GOP</td>\n",
       "      <td>Daughter of fallen Navy Sailor delivers powerf...</td>\n",
       "      <td>Unknown</td>\n",
       "      <td>English</td>\n",
       "      <td>2017-10-01 22:50:00</td>\n",
       "      <td>1054</td>\n",
       "      <td>9637</td>\n",
       "      <td>255</td>\n",
       "      <td>RETWEET</td>\n",
       "      <td>right</td>\n",
       "      <td>RightTroll</td>\n",
       "    </tr>\n",
       "    <tr>\n",
       "      <th>3</th>\n",
       "      <td>9.060000e+17</td>\n",
       "      <td>10_GOP</td>\n",
       "      <td>JUST IN: President Trump dedicates Presidents ...</td>\n",
       "      <td>Unknown</td>\n",
       "      <td>English</td>\n",
       "      <td>2017-10-01 23:52:00</td>\n",
       "      <td>1062</td>\n",
       "      <td>9642</td>\n",
       "      <td>256</td>\n",
       "      <td>ORIGINAL</td>\n",
       "      <td>right</td>\n",
       "      <td>RightTroll</td>\n",
       "    </tr>\n",
       "    <tr>\n",
       "      <th>4</th>\n",
       "      <td>9.060000e+17</td>\n",
       "      <td>10_GOP</td>\n",
       "      <td>19,000 RESPECTING our National Anthem! #StandF...</td>\n",
       "      <td>Unknown</td>\n",
       "      <td>English</td>\n",
       "      <td>2017-10-01 02:13:00</td>\n",
       "      <td>1050</td>\n",
       "      <td>9645</td>\n",
       "      <td>246</td>\n",
       "      <td>RETWEET</td>\n",
       "      <td>right</td>\n",
       "      <td>RightTroll</td>\n",
       "    </tr>\n",
       "  </tbody>\n",
       "</table>\n",
       "</div>"
      ],
      "text/plain": [
       "   external_author_id  author  \\\n",
       "0        9.060000e+17  10_GOP   \n",
       "1        9.060000e+17  10_GOP   \n",
       "2        9.060000e+17  10_GOP   \n",
       "3        9.060000e+17  10_GOP   \n",
       "4        9.060000e+17  10_GOP   \n",
       "\n",
       "                                             content   region language  \\\n",
       "0  \"We have a sitting Democrat US Senator on tria...  Unknown  English   \n",
       "1  Marshawn Lynch arrives to game in anti-Trump s...  Unknown  English   \n",
       "2  Daughter of fallen Navy Sailor delivers powerf...  Unknown  English   \n",
       "3  JUST IN: President Trump dedicates Presidents ...  Unknown  English   \n",
       "4  19,000 RESPECTING our National Anthem! #StandF...  Unknown  English   \n",
       "\n",
       "         publish_date  following  followers  updates post_type account_type  \\\n",
       "0 2017-10-01 19:58:00       1052       9636      253  ORIGINAL        right   \n",
       "1 2017-10-01 22:43:00       1054       9637      254  ORIGINAL        right   \n",
       "2 2017-10-01 22:50:00       1054       9637      255   RETWEET        right   \n",
       "3 2017-10-01 23:52:00       1062       9642      256  ORIGINAL        right   \n",
       "4 2017-10-01 02:13:00       1050       9645      246   RETWEET        right   \n",
       "\n",
       "  account_category  \n",
       "0       RightTroll  \n",
       "1       RightTroll  \n",
       "2       RightTroll  \n",
       "3       RightTroll  \n",
       "4       RightTroll  "
      ]
     },
     "execution_count": 13,
     "metadata": {},
     "output_type": "execute_result"
    }
   ],
   "source": [
    "data1 = data_sub_dropped.loc[data_sub_dropped[\"publish_date\"] < \"2018-01-01\"]\n",
    "data1.head(5)"
   ]
  },
  {
   "cell_type": "markdown",
   "metadata": {},
   "source": [
    "This dataset is ready to go!"
   ]
  },
  {
   "cell_type": "markdown",
   "metadata": {},
   "source": [
    "## 1.2) The second dataset\n",
    "Twitter released nine million tweets that they had traced to russian troll accounts on 17th October 2018. This dataset was in a much more raw format than the one provided on Kaggle, and consisted of eigth csv-files. Four of them was tweets from the Iranian agency, who also does this on a major scale. The other four was tweets produced by the IRA:\n",
    "- rus_troll_user.csv : Contains user specific features. \n",
    "- rus_troll_tweet_text.csv: Contains text and language of the given tweet.\n",
    "- rus_troll_tweet_metadata.csv: Contains features that are user specific, but may change tweet to tweet.\n",
    "- rus_troll_tweet_stats.csv: Contains other tweet features like retweet count, like count, if it is a retweet, quote tweet etc.\n",
    "\n",
    "The whole dataset can be downloaded at this link: https://drive.google.com/open?id=1GBsVXYvPrGcYI-wR4mWGO39fly1TMqjO."
   ]
  },
  {
   "cell_type": "markdown",
   "metadata": {},
   "source": [
    "### 1.2.1) Loading the second dataset\n",
    "We loaded the second dataset in as pandas data frames as well. After that we merged all of them together and created a new one for our preliminary analysis. For our research question we used the original format of it as mentioned in the markdown cell under."
   ]
  },
  {
   "cell_type": "code",
   "execution_count": 14,
   "metadata": {},
   "outputs": [],
   "source": [
    "zip_file_new = ZipFile(\"New_russian_tweets.zip\")\n",
    "new_text = pd.read_csv(zip_file_new.open(\"rus_troll_tweet_text.csv\"))\n",
    "new_metadata = pd.read_csv(zip_file_new.open(\"rus_troll_tweet_metadata.csv\")).drop(columns=[\"latitude\",\"longitude\",\"tweet_client_name\"])\n",
    "new_user = pd.read_csv(zip_file_new.open(\"rus_troll_user.csv\")).drop(columns=[\"user_display_name\",\"user_screen_name\",\"user_profile_description\",\"user_profile_url\"])\n",
    "new_stats = pd.read_csv(zip_file_new.open(\"rus_troll_tweet_stats.csv\")).drop(columns=[\"poll_choices\",\"urls\"])"
   ]
  },
  {
   "cell_type": "markdown",
   "metadata": {},
   "source": [
    "When we first worked with the second dataset for milestone 2, we were not sure what to do with it. When performing further analysis after milestone 2 we wanted to use the original files in spark, so we wrote them to parquet and loaded them back."
   ]
  },
  {
   "cell_type": "code",
   "execution_count": 15,
   "metadata": {},
   "outputs": [],
   "source": [
    "#data2.to_parquet('data2.parquet.gzip', compression='gzip')\n",
    "#new_stats.to_parquet('stats.parquet.gzip', compression='gzip')\n",
    "#new_tweets.to_parquet('tweets.parquet.gzip', compression='gzip')\n",
    "#new_text.to_parquet('text.parquet.gzip', compression='gzip')\n",
    "#new_user.to_parquet('user.parquet.gzip', compression='gzip')\n",
    "#This cell need to be run if you don't have these files."
   ]
  },
  {
   "cell_type": "code",
   "execution_count": 6,
   "metadata": {
    "scrolled": true
   },
   "outputs": [],
   "source": [
    "#tweets = spark.read.parquet('tweets.parquet.gzip')\n",
    "text = spark.read.parquet('text.parquet.gzip')\n",
    "stats = spark.read.parquet('stats.parquet.gzip')\n",
    "users = spark.read.parquet('user.parquet.gzip')\n"
   ]
  },
  {
   "cell_type": "markdown",
   "metadata": {},
   "source": [
    "### 1.2.2) Cleaning, merging and filtering the second dataset\n",
    "\n",
    "The data set did not have suitable column names, so we manually created column names under. We also merged all of the different files together, since we had dropped a bunch of columns which we found unnecessary for the first analysis. "
   ]
  },
  {
   "cell_type": "code",
   "execution_count": 17,
   "metadata": {},
   "outputs": [],
   "source": [
    "new_english_text = new_text[new_text[\"tweet_language\"]==\"en\"].drop(columns=[\"tweet_language\"])\n",
    "#To create a data frame that only had english tweets in it.\n",
    "new_metadata.columns=[\"tweetid\",\"following\",\"followers\"]"
   ]
  },
  {
   "cell_type": "code",
   "execution_count": 18,
   "metadata": {},
   "outputs": [],
   "source": [
    "merge_step = pd.merge(new_english_text, new_metadata, on='tweetid')\n",
    "new_tweets = pd.merge(merge_step,new_stats.filter([\"tweetid\",\"userid\",\"tweet_time\"]) , on='tweetid')"
   ]
  },
  {
   "cell_type": "markdown",
   "metadata": {},
   "source": [
    "In the first data set we had a column that showed whether the tweet was original, retweet etc. The second set had not the same features, so we wanted to create this. "
   ]
  },
  {
   "cell_type": "code",
   "execution_count": 19,
   "metadata": {},
   "outputs": [
    {
     "data": {
      "text/html": [
       "<div>\n",
       "<style scoped>\n",
       "    .dataframe tbody tr th:only-of-type {\n",
       "        vertical-align: middle;\n",
       "    }\n",
       "\n",
       "    .dataframe tbody tr th {\n",
       "        vertical-align: top;\n",
       "    }\n",
       "\n",
       "    .dataframe thead th {\n",
       "        text-align: right;\n",
       "    }\n",
       "</style>\n",
       "<table border=\"1\" class=\"dataframe\">\n",
       "  <thead>\n",
       "    <tr style=\"text-align: right;\">\n",
       "      <th></th>\n",
       "      <th>tweetid</th>\n",
       "      <th>tweet_text</th>\n",
       "      <th>following</th>\n",
       "      <th>followers</th>\n",
       "      <th>userid</th>\n",
       "      <th>tweet_time</th>\n",
       "      <th>post_type</th>\n",
       "    </tr>\n",
       "  </thead>\n",
       "  <tbody>\n",
       "    <tr>\n",
       "      <th>12</th>\n",
       "      <td>653251376760295425</td>\n",
       "      <td>I need this skill https://t.co/2X4DHRVp2W</td>\n",
       "      <td>22035</td>\n",
       "      <td>9795</td>\n",
       "      <td>2882350436</td>\n",
       "      <td>2015-10-11 16:50</td>\n",
       "      <td>QUOTE_TWEET</td>\n",
       "    </tr>\n",
       "    <tr>\n",
       "      <th>42</th>\n",
       "      <td>748448356297498626</td>\n",
       "      <td>Getting richer will provide our communities mo...</td>\n",
       "      <td>20019</td>\n",
       "      <td>14112</td>\n",
       "      <td>3978316814</td>\n",
       "      <td>2016-06-30 09:29</td>\n",
       "      <td>QUOTE_TWEET</td>\n",
       "    </tr>\n",
       "    <tr>\n",
       "      <th>199</th>\n",
       "      <td>815037019973763073</td>\n",
       "      <td>Can't blame @realDonaldTrump for blocking you!...</td>\n",
       "      <td>2748</td>\n",
       "      <td>265</td>\n",
       "      <td>a95a911dd6ae864c48ed062cdbe75e5c28dbe0cf57c6db...</td>\n",
       "      <td>2016-12-31 03:29</td>\n",
       "      <td>QUOTE_TWEET</td>\n",
       "    </tr>\n",
       "    <tr>\n",
       "      <th>277</th>\n",
       "      <td>805940400229740545</td>\n",
       "      <td>Damn, look at disgusting fatass @CBRangel... h...</td>\n",
       "      <td>2748</td>\n",
       "      <td>265</td>\n",
       "      <td>a95a911dd6ae864c48ed062cdbe75e5c28dbe0cf57c6db...</td>\n",
       "      <td>2016-12-06 01:02</td>\n",
       "      <td>QUOTE_TWEET</td>\n",
       "    </tr>\n",
       "    <tr>\n",
       "      <th>346</th>\n",
       "      <td>786297829459308544</td>\n",
       "      <td>4 days and 5 hours left!  Take the poll!  http...</td>\n",
       "      <td>2748</td>\n",
       "      <td>265</td>\n",
       "      <td>a95a911dd6ae864c48ed062cdbe75e5c28dbe0cf57c6db...</td>\n",
       "      <td>2016-10-12 20:09</td>\n",
       "      <td>QUOTE_TWEET</td>\n",
       "    </tr>\n",
       "  </tbody>\n",
       "</table>\n",
       "</div>"
      ],
      "text/plain": [
       "                tweetid                                         tweet_text  \\\n",
       "12   653251376760295425          I need this skill https://t.co/2X4DHRVp2W   \n",
       "42   748448356297498626  Getting richer will provide our communities mo...   \n",
       "199  815037019973763073  Can't blame @realDonaldTrump for blocking you!...   \n",
       "277  805940400229740545  Damn, look at disgusting fatass @CBRangel... h...   \n",
       "346  786297829459308544  4 days and 5 hours left!  Take the poll!  http...   \n",
       "\n",
       "     following  followers                                             userid  \\\n",
       "12       22035       9795                                         2882350436   \n",
       "42       20019      14112                                         3978316814   \n",
       "199       2748        265  a95a911dd6ae864c48ed062cdbe75e5c28dbe0cf57c6db...   \n",
       "277       2748        265  a95a911dd6ae864c48ed062cdbe75e5c28dbe0cf57c6db...   \n",
       "346       2748        265  a95a911dd6ae864c48ed062cdbe75e5c28dbe0cf57c6db...   \n",
       "\n",
       "           tweet_time    post_type  \n",
       "12   2015-10-11 16:50  QUOTE_TWEET  \n",
       "42   2016-06-30 09:29  QUOTE_TWEET  \n",
       "199  2016-12-31 03:29  QUOTE_TWEET  \n",
       "277  2016-12-06 01:02  QUOTE_TWEET  \n",
       "346  2016-10-12 20:09  QUOTE_TWEET  "
      ]
     },
     "execution_count": 19,
     "metadata": {},
     "output_type": "execute_result"
    }
   ],
   "source": [
    "#we sort out retweets from one set\n",
    "retweets = new_stats[new_stats[\"is_retweet\"]==True]\n",
    "#Select retweets in tweet set\n",
    "retweets = new_tweets[new_tweets[\"tweetid\"].isin(retweets[\"tweetid\"].tolist())]\n",
    "#add extra column stating that this is a retweet\n",
    "retweets[\"post_type\"] =\"RETWEET\"\n",
    "#We follow same procedure for quote tweets, after finding tweets with quoted tweetid\n",
    "quote_tweets = new_stats[np.isfinite(new_stats['quoted_tweet_tweetid'])]\n",
    "quote_tweets = new_tweets[new_tweets[\"tweetid\"].isin(quote_tweets[\"tweetid\"].tolist())]\n",
    "#we only regard a retweeted quotetweet as a retweet\n",
    "quote_tweets = quote_tweets[~quote_tweets[\"tweetid\"].isin(retweets[\"tweetid\"].tolist())]\n",
    "quote_tweets[\"post_type\"] = \"QUOTE_TWEET\"\n",
    "unoriginal_tweets = quote_tweets.append(retweets)\n",
    "#we label all other tweets as original tweets\n",
    "orig_tweets= new_tweets[~new_tweets[\"tweetid\"].isin(unoriginal_tweets[\"tweetid\"])]\n",
    "orig_tweets[\"post_type\"] = \"ORIGINAL\"\n",
    "data2 = unoriginal_tweets.append(orig_tweets)\n",
    "data2.head(5)"
   ]
  },
  {
   "cell_type": "markdown",
   "metadata": {},
   "source": [
    "The second dataset now have the following features: \n",
    "- tweetid | The ID of the tweet.\n",
    "- tweet_text | The text of the tweet \n",
    "- tweet_time | The date and time the tweet was sent\n",
    "- following | The number of accounts the handle was following at the time of the tweet\n",
    "- followers | The number of followers the handle had at the time of the tweet\n",
    "- user_id | The unique ID of the user who posted the tweet.\n",
    "- post_type | Indicates if the tweet was a retweet, original tweet or a quote-tweet.\n"
   ]
  },
  {
   "cell_type": "markdown",
   "metadata": {},
   "source": [
    "# 2) An overview of the data."
   ]
  },
  {
   "cell_type": "markdown",
   "metadata": {},
   "source": [
    "## 2.1) Enriching the data"
   ]
  },
  {
   "cell_type": "markdown",
   "metadata": {},
   "source": [
    "We want to enrich the data set by making some new frames for possible use, where we also are going to add some new features. As follows:"
   ]
  },
  {
   "cell_type": "markdown",
   "metadata": {},
   "source": [
    "#### Authors\n",
    "There are 2.1 million english tweets in this dataset but only a number of unique usernames. We want to take a look at who the unique authors are, what category they are and how they became so prominent. "
   ]
  },
  {
   "cell_type": "code",
   "execution_count": 20,
   "metadata": {},
   "outputs": [],
   "source": [
    "authors_step = data1[[\"external_author_id\", \"author\", \"account_category\"]].drop_duplicates(subset = [\"external_author_id\", \"author\"])\n",
    "authors = authors_step[authors_step.account_category != \"NonEnglish\"]\n",
    "authors[\"tweet_count\"] = data1.groupby('author')['author'].transform('count')\n",
    "authors[\"peak_followers\"] = data1.groupby(['author'], sort=True)['followers'].transform(\"max\")\n",
    "rtcountstep = data1[data1[\"post_type\"] == \"RETWEET\"][\"author\"].value_counts().to_frame()\n",
    "authors = rtcountstep.merge(authors, right_on = \"author\", left_on = rtcountstep.index, how= \"right\").fillna(0)\n",
    "authors = authors.drop(columns=\"author_y\").drop_duplicates(subset = [\"tweet_count\", \"author\", \"peak_followers\", \"author_x\"])\n",
    "authors = authors.rename(index=str, columns={\"author_x\": \"retweet_count\"})\n",
    "\n"
   ]
  },
  {
   "cell_type": "code",
   "execution_count": 21,
   "metadata": {},
   "outputs": [
    {
     "data": {
      "text/html": [
       "<div>\n",
       "<style scoped>\n",
       "    .dataframe tbody tr th:only-of-type {\n",
       "        vertical-align: middle;\n",
       "    }\n",
       "\n",
       "    .dataframe tbody tr th {\n",
       "        vertical-align: top;\n",
       "    }\n",
       "\n",
       "    .dataframe thead th {\n",
       "        text-align: right;\n",
       "    }\n",
       "</style>\n",
       "<table border=\"1\" class=\"dataframe\">\n",
       "  <thead>\n",
       "    <tr style=\"text-align: right;\">\n",
       "      <th></th>\n",
       "      <th>author</th>\n",
       "      <th>retweet_count</th>\n",
       "      <th>external_author_id</th>\n",
       "      <th>account_category</th>\n",
       "      <th>tweet_count</th>\n",
       "      <th>peak_followers</th>\n",
       "    </tr>\n",
       "  </thead>\n",
       "  <tbody>\n",
       "    <tr>\n",
       "      <th>384</th>\n",
       "      <td>BLACKNEWSOUTLET</td>\n",
       "      <td>42.0</td>\n",
       "      <td>4.301963e+09</td>\n",
       "      <td>LeftTroll</td>\n",
       "      <td>2482</td>\n",
       "      <td>40788</td>\n",
       "    </tr>\n",
       "    <tr>\n",
       "      <th>181</th>\n",
       "      <td>THEFOUNDINGSON</td>\n",
       "      <td>951.0</td>\n",
       "      <td>4.508631e+09</td>\n",
       "      <td>RightTroll</td>\n",
       "      <td>8798</td>\n",
       "      <td>42000</td>\n",
       "    </tr>\n",
       "    <tr>\n",
       "      <th>253</th>\n",
       "      <td>USA_GUNSLINGER</td>\n",
       "      <td>281.0</td>\n",
       "      <td>4.332741e+09</td>\n",
       "      <td>RightTroll</td>\n",
       "      <td>3234</td>\n",
       "      <td>43895</td>\n",
       "    </tr>\n",
       "    <tr>\n",
       "      <th>292</th>\n",
       "      <td>SOUTHLONESTAR</td>\n",
       "      <td>151.0</td>\n",
       "      <td>4.355797e+09</td>\n",
       "      <td>RightTroll</td>\n",
       "      <td>3647</td>\n",
       "      <td>53782</td>\n",
       "    </tr>\n",
       "    <tr>\n",
       "      <th>212</th>\n",
       "      <td>CRYSTAL1JOHNSON</td>\n",
       "      <td>624.0</td>\n",
       "      <td>4.437234e+09</td>\n",
       "      <td>LeftTroll</td>\n",
       "      <td>8037</td>\n",
       "      <td>56725</td>\n",
       "    </tr>\n",
       "    <tr>\n",
       "      <th>493</th>\n",
       "      <td>ELEVEN_GOP</td>\n",
       "      <td>20.0</td>\n",
       "      <td>4.218156e+09</td>\n",
       "      <td>RightTroll</td>\n",
       "      <td>101</td>\n",
       "      <td>59100</td>\n",
       "    </tr>\n",
       "    <tr>\n",
       "      <th>513</th>\n",
       "      <td>TODAYNYCITY</td>\n",
       "      <td>17.0</td>\n",
       "      <td>2.752678e+09</td>\n",
       "      <td>NewsFeed</td>\n",
       "      <td>18478</td>\n",
       "      <td>62088</td>\n",
       "    </tr>\n",
       "    <tr>\n",
       "      <th>236</th>\n",
       "      <td>PAMELA_MOORE13</td>\n",
       "      <td>361.0</td>\n",
       "      <td>4.272871e+09</td>\n",
       "      <td>RightTroll</td>\n",
       "      <td>6197</td>\n",
       "      <td>70734</td>\n",
       "    </tr>\n",
       "    <tr>\n",
       "      <th>215</th>\n",
       "      <td>JENN_ABRAMS</td>\n",
       "      <td>596.0</td>\n",
       "      <td>2.882332e+09</td>\n",
       "      <td>RightTroll</td>\n",
       "      <td>22512</td>\n",
       "      <td>71022</td>\n",
       "    </tr>\n",
       "    <tr>\n",
       "      <th>201</th>\n",
       "      <td>TEN_GOP</td>\n",
       "      <td>769.0</td>\n",
       "      <td>4.224730e+09</td>\n",
       "      <td>RightTroll</td>\n",
       "      <td>11274</td>\n",
       "      <td>145244</td>\n",
       "    </tr>\n",
       "  </tbody>\n",
       "</table>\n",
       "</div>"
      ],
      "text/plain": [
       "              author  retweet_count  external_author_id account_category  \\\n",
       "384  BLACKNEWSOUTLET           42.0        4.301963e+09        LeftTroll   \n",
       "181   THEFOUNDINGSON          951.0        4.508631e+09       RightTroll   \n",
       "253   USA_GUNSLINGER          281.0        4.332741e+09       RightTroll   \n",
       "292    SOUTHLONESTAR          151.0        4.355797e+09       RightTroll   \n",
       "212  CRYSTAL1JOHNSON          624.0        4.437234e+09        LeftTroll   \n",
       "493       ELEVEN_GOP           20.0        4.218156e+09       RightTroll   \n",
       "513      TODAYNYCITY           17.0        2.752678e+09         NewsFeed   \n",
       "236   PAMELA_MOORE13          361.0        4.272871e+09       RightTroll   \n",
       "215      JENN_ABRAMS          596.0        2.882332e+09       RightTroll   \n",
       "201          TEN_GOP          769.0        4.224730e+09       RightTroll   \n",
       "\n",
       "     tweet_count  peak_followers  \n",
       "384         2482           40788  \n",
       "181         8798           42000  \n",
       "253         3234           43895  \n",
       "292         3647           53782  \n",
       "212         8037           56725  \n",
       "493          101           59100  \n",
       "513        18478           62088  \n",
       "236         6197           70734  \n",
       "215        22512           71022  \n",
       "201        11274          145244  "
      ]
     },
     "execution_count": 21,
     "metadata": {},
     "output_type": "execute_result"
    }
   ],
   "source": [
    "most_pop_authors = authors.sort_values(by = \"peak_followers\", axis = 0)\n",
    "most_pop_authors.tail(10)"
   ]
  },
  {
   "cell_type": "code",
   "execution_count": 22,
   "metadata": {},
   "outputs": [
    {
     "data": {
      "text/html": [
       "<div>\n",
       "<style scoped>\n",
       "    .dataframe tbody tr th:only-of-type {\n",
       "        vertical-align: middle;\n",
       "    }\n",
       "\n",
       "    .dataframe tbody tr th {\n",
       "        vertical-align: top;\n",
       "    }\n",
       "\n",
       "    .dataframe thead th {\n",
       "        text-align: right;\n",
       "    }\n",
       "</style>\n",
       "<table border=\"1\" class=\"dataframe\">\n",
       "  <thead>\n",
       "    <tr style=\"text-align: right;\">\n",
       "      <th></th>\n",
       "      <th>author</th>\n",
       "      <th>retweet_count</th>\n",
       "      <th>external_author_id</th>\n",
       "      <th>account_category</th>\n",
       "      <th>tweet_count</th>\n",
       "      <th>peak_followers</th>\n",
       "    </tr>\n",
       "  </thead>\n",
       "  <tbody>\n",
       "    <tr>\n",
       "      <th>460</th>\n",
       "      <td>TODAYPITTSBURGH</td>\n",
       "      <td>25.0</td>\n",
       "      <td>2.601236e+09</td>\n",
       "      <td>NewsFeed</td>\n",
       "      <td>33376</td>\n",
       "      <td>20608</td>\n",
       "    </tr>\n",
       "    <tr>\n",
       "      <th>0</th>\n",
       "      <td>AMELIEBALDWIN</td>\n",
       "      <td>32780.0</td>\n",
       "      <td>1.679279e+09</td>\n",
       "      <td>RightTroll</td>\n",
       "      <td>34307</td>\n",
       "      <td>2860</td>\n",
       "    </tr>\n",
       "    <tr>\n",
       "      <th>1361</th>\n",
       "      <td>WORLDNEWSPOLI</td>\n",
       "      <td>0.0</td>\n",
       "      <td>7.890000e+17</td>\n",
       "      <td>RightTroll</td>\n",
       "      <td>35082</td>\n",
       "      <td>3855</td>\n",
       "    </tr>\n",
       "    <tr>\n",
       "      <th>1319</th>\n",
       "      <td>SCREAMYMONKEY</td>\n",
       "      <td>0.0</td>\n",
       "      <td>2.943515e+09</td>\n",
       "      <td>NewsFeed</td>\n",
       "      <td>43685</td>\n",
       "      <td>13295</td>\n",
       "    </tr>\n",
       "    <tr>\n",
       "      <th>1160</th>\n",
       "      <td>EXQUOTE</td>\n",
       "      <td>0.0</td>\n",
       "      <td>1.964340e+09</td>\n",
       "      <td>Commercial</td>\n",
       "      <td>53158</td>\n",
       "      <td>858</td>\n",
       "    </tr>\n",
       "  </tbody>\n",
       "</table>\n",
       "</div>"
      ],
      "text/plain": [
       "               author  retweet_count  external_author_id account_category  \\\n",
       "460   TODAYPITTSBURGH           25.0        2.601236e+09         NewsFeed   \n",
       "0       AMELIEBALDWIN        32780.0        1.679279e+09       RightTroll   \n",
       "1361    WORLDNEWSPOLI            0.0        7.890000e+17       RightTroll   \n",
       "1319    SCREAMYMONKEY            0.0        2.943515e+09         NewsFeed   \n",
       "1160          EXQUOTE            0.0        1.964340e+09       Commercial   \n",
       "\n",
       "      tweet_count  peak_followers  \n",
       "460         33376           20608  \n",
       "0           34307            2860  \n",
       "1361        35082            3855  \n",
       "1319        43685           13295  \n",
       "1160        53158             858  "
      ]
     },
     "execution_count": 22,
     "metadata": {},
     "output_type": "execute_result"
    }
   ],
   "source": [
    "most_active_authors = authors.sort_values(by = \"tweet_count\", axis = 0)#.drop_duplicates(subset = [\"author\", \"account_category\", \"tweet_count\", \"peak_followers\"])\n",
    "#For some reason, the author with the most tweets appeared with two different author IDs, and every other column was equal.\n",
    "most_active_authors.tail(5)"
   ]
  },
  {
   "cell_type": "markdown",
   "metadata": {},
   "source": [
    "#### Data sets tailored for specific themes."
   ]
  },
  {
   "cell_type": "code",
   "execution_count": 23,
   "metadata": {},
   "outputs": [
    {
     "data": {
      "text/html": [
       "<div>\n",
       "<style scoped>\n",
       "    .dataframe tbody tr th:only-of-type {\n",
       "        vertical-align: middle;\n",
       "    }\n",
       "\n",
       "    .dataframe tbody tr th {\n",
       "        vertical-align: top;\n",
       "    }\n",
       "\n",
       "    .dataframe thead th {\n",
       "        text-align: right;\n",
       "    }\n",
       "</style>\n",
       "<table border=\"1\" class=\"dataframe\">\n",
       "  <thead>\n",
       "    <tr style=\"text-align: right;\">\n",
       "      <th></th>\n",
       "      <th>external_author_id</th>\n",
       "      <th>author</th>\n",
       "      <th>content</th>\n",
       "      <th>region</th>\n",
       "      <th>language</th>\n",
       "      <th>publish_date</th>\n",
       "      <th>following</th>\n",
       "      <th>followers</th>\n",
       "      <th>updates</th>\n",
       "      <th>post_type</th>\n",
       "      <th>account_type</th>\n",
       "      <th>account_category</th>\n",
       "    </tr>\n",
       "  </thead>\n",
       "  <tbody>\n",
       "    <tr>\n",
       "      <th>0</th>\n",
       "      <td>9.060000e+17</td>\n",
       "      <td>10_GOP</td>\n",
       "      <td>\"We have a sitting Democrat US Senator on tria...</td>\n",
       "      <td>Unknown</td>\n",
       "      <td>English</td>\n",
       "      <td>2017-10-01 19:58:00</td>\n",
       "      <td>1052</td>\n",
       "      <td>9636</td>\n",
       "      <td>253</td>\n",
       "      <td>ORIGINAL</td>\n",
       "      <td>right</td>\n",
       "      <td>RightTroll</td>\n",
       "    </tr>\n",
       "    <tr>\n",
       "      <th>1</th>\n",
       "      <td>9.060000e+17</td>\n",
       "      <td>10_GOP</td>\n",
       "      <td>Marshawn Lynch arrives to game in anti-Trump s...</td>\n",
       "      <td>Unknown</td>\n",
       "      <td>English</td>\n",
       "      <td>2017-10-01 22:43:00</td>\n",
       "      <td>1054</td>\n",
       "      <td>9637</td>\n",
       "      <td>254</td>\n",
       "      <td>ORIGINAL</td>\n",
       "      <td>right</td>\n",
       "      <td>RightTroll</td>\n",
       "    </tr>\n",
       "    <tr>\n",
       "      <th>2</th>\n",
       "      <td>9.060000e+17</td>\n",
       "      <td>10_GOP</td>\n",
       "      <td>Daughter of fallen Navy Sailor delivers powerf...</td>\n",
       "      <td>Unknown</td>\n",
       "      <td>English</td>\n",
       "      <td>2017-10-01 22:50:00</td>\n",
       "      <td>1054</td>\n",
       "      <td>9637</td>\n",
       "      <td>255</td>\n",
       "      <td>RETWEET</td>\n",
       "      <td>right</td>\n",
       "      <td>RightTroll</td>\n",
       "    </tr>\n",
       "    <tr>\n",
       "      <th>3</th>\n",
       "      <td>9.060000e+17</td>\n",
       "      <td>10_GOP</td>\n",
       "      <td>JUST IN: President Trump dedicates Presidents ...</td>\n",
       "      <td>Unknown</td>\n",
       "      <td>English</td>\n",
       "      <td>2017-10-01 23:52:00</td>\n",
       "      <td>1062</td>\n",
       "      <td>9642</td>\n",
       "      <td>256</td>\n",
       "      <td>ORIGINAL</td>\n",
       "      <td>right</td>\n",
       "      <td>RightTroll</td>\n",
       "    </tr>\n",
       "  </tbody>\n",
       "</table>\n",
       "</div>"
      ],
      "text/plain": [
       "   external_author_id  author  \\\n",
       "0        9.060000e+17  10_GOP   \n",
       "1        9.060000e+17  10_GOP   \n",
       "2        9.060000e+17  10_GOP   \n",
       "3        9.060000e+17  10_GOP   \n",
       "\n",
       "                                             content   region language  \\\n",
       "0  \"We have a sitting Democrat US Senator on tria...  Unknown  English   \n",
       "1  Marshawn Lynch arrives to game in anti-Trump s...  Unknown  English   \n",
       "2  Daughter of fallen Navy Sailor delivers powerf...  Unknown  English   \n",
       "3  JUST IN: President Trump dedicates Presidents ...  Unknown  English   \n",
       "\n",
       "         publish_date  following  followers  updates post_type account_type  \\\n",
       "0 2017-10-01 19:58:00       1052       9636      253  ORIGINAL        right   \n",
       "1 2017-10-01 22:43:00       1054       9637      254  ORIGINAL        right   \n",
       "2 2017-10-01 22:50:00       1054       9637      255   RETWEET        right   \n",
       "3 2017-10-01 23:52:00       1062       9642      256  ORIGINAL        right   \n",
       "\n",
       "  account_category  \n",
       "0       RightTroll  \n",
       "1       RightTroll  \n",
       "2       RightTroll  \n",
       "3       RightTroll  "
      ]
     },
     "execution_count": 23,
     "metadata": {},
     "output_type": "execute_result"
    }
   ],
   "source": [
    "data1_political = data1[data1[\"account_category\"].isin([\"RightTroll\",\"LeftTroll\",\"NewsFeed\"])]\n",
    "data1_political.head(4)"
   ]
  },
  {
   "cell_type": "markdown",
   "metadata": {},
   "source": [
    "#### Data frames with different time periods"
   ]
  },
  {
   "cell_type": "markdown",
   "metadata": {},
   "source": [
    "Here we will be making some data frames used for the task 3.2. \n",
    "\n",
    "The first person that entered and started the primaries was Ted Cruz who officially entered the campaign on th 23th of March 2015. Hillary joined in as the first Democratic candidat on 12th April 2015. Donald Trump announced his candidacy on 16th June 2015.\n",
    "\n",
    "Therefore it is interesting to look at the amount of tweets from each side, starting with Ted Cruz' announcement. We have been looking into which party that has seen the most meddling, building up to the first primaries, the period between primaries and election and after the election. "
   ]
  },
  {
   "cell_type": "code",
   "execution_count": 24,
   "metadata": {},
   "outputs": [],
   "source": [
    "before_primaries1 = data1.loc[data1[\"publish_date\"] < \"2016-06-14\"]\n",
    "before_primaries1 = before_primaries1.loc[before_primaries1[\"publish_date\"] > \"2015-03-23\"]\n",
    "before_primaries_time1 = before_primaries1[\"publish_date\"].map(lambda x: str(x)[:7]).value_counts()\n",
    "#left\n",
    "before_primaries_left1 = before_primaries1.loc[before_primaries1[\"account_type\"] == \"left\"]\n",
    "bp_left_count1 = before_primaries_left1[\"publish_date\"].map(lambda x: str(x)[:7]).value_counts()\n",
    "#right\n",
    "before_primaries_right1 = before_primaries1.loc[before_primaries1[\"account_type\"] == \"right\"]\n",
    "bp_right_count1 = before_primaries_right1[\"publish_date\"].map(lambda x: str(x)[:7]).value_counts()\n"
   ]
  },
  {
   "cell_type": "markdown",
   "metadata": {},
   "source": [
    "After the primaries, things changed. Now it was a run between Clinton and Trump."
   ]
  },
  {
   "cell_type": "code",
   "execution_count": 25,
   "metadata": {},
   "outputs": [],
   "source": [
    "after_primaries1 = data1.loc[data1[\"publish_date\"] > \"2016-06-14\"]\n",
    "after_primaries_time1 = after_primaries1[\"publish_date\"].map(lambda x: str(x)[:7]).value_counts()\n",
    "#left\n",
    "after_primaries_left1 = after_primaries1.loc[after_primaries1[\"account_type\"] == \"left\"]\n",
    "ap_left_count1 = after_primaries_left1[\"publish_date\"].map(lambda x: str(x)[:7]).value_counts()\n",
    "#right\n",
    "after_primaries_right1 = after_primaries1.loc[after_primaries1[\"account_type\"] == \"right\"]\n",
    "ap_right_count1 = after_primaries_right1[\"publish_date\"].map(lambda x: str(x)[:7]).value_counts()"
   ]
  },
  {
   "cell_type": "markdown",
   "metadata": {},
   "source": [
    "As mentioned, these frames are made for the analysis in part 3.2, and they will be used and visualized in that part."
   ]
  },
  {
   "cell_type": "markdown",
   "metadata": {},
   "source": [
    "## 2.2) Key takeaways from the data."
   ]
  },
  {
   "cell_type": "markdown",
   "metadata": {},
   "source": [
    "### 2.2.1 Tweets over time"
   ]
  },
  {
   "cell_type": "markdown",
   "metadata": {},
   "source": [
    "#### 2.2.1.1 First data set\n",
    "How many tweets have been tweeted each month since the first russian troll tweet? "
   ]
  },
  {
   "cell_type": "code",
   "execution_count": 26,
   "metadata": {},
   "outputs": [
    {
     "data": {
      "text/plain": [
       "197"
      ]
     },
     "execution_count": 26,
     "metadata": {},
     "output_type": "execute_result"
    }
   ],
   "source": [
    "early_tweets1 = data1[data1[\"publish_date\"] < \"2014-10\"]\n",
    "early_tweets1.shape[0]"
   ]
  },
  {
   "cell_type": "markdown",
   "metadata": {},
   "source": [
    "Since there are only 197 tweets before october 2014, we remove these from the visualisation since the other numbers are so much higher."
   ]
  },
  {
   "cell_type": "code",
   "execution_count": 27,
   "metadata": {},
   "outputs": [
    {
     "data": {
      "image/png": "[encoded data removed]",
      "text/plain": [
       "<Figure size 1296x648 with 1 Axes>"
      ]
     },
     "metadata": {
      "needs_background": "light"
     },
     "output_type": "display_data"
    }
   ],
   "source": [
    "def name_axises(title, xlab, ylab):\n",
    "    plt.title(title, size=22), plt.xlabel(xlab, size=20), plt.ylabel(ylab, size=20)\n",
    "# A function for future plotting to save some lines.\n",
    "\n",
    "data1_timesorted = data1[data1[\"publish_date\"] > \"2014-09\"].sort_values(\"publish_date\")\n",
    "data1_month_days = data1_timesorted[\"publish_date\"].map(lambda x: str(x)[:7])\n",
    "#if we want only month and days. \n",
    "data1_month_count = data1_month_days.value_counts()\n",
    "\n",
    "fig, ax = plt.subplots(1,1 , figsize =(18,9))\n",
    "over_time_fig = plt.bar(data1_month_count.index, data1_month_count, color = \"#3CB371\", align=\"center\")\n",
    "ax.set_xticklabels(data1_month_count.sort_index().index, rotation=90)\n",
    "name_axises(\"Total amount of english tweets during the first data set's time span\", \"Time\", \"Number of tweets\")"
   ]
  },
  {
   "cell_type": "markdown",
   "metadata": {},
   "source": [
    "The results shows that there were almost no activity until the announcement of the first candidacies in the primaries, with the first visible chart in november 2014. Activity increased in the months just before the election, peaked in december 2016 and decreased a little after that. There were two spikes in July 2015 and August 2017. In August 2017 this was probably because of the Unite The Right rally in Charlottesville, also known as the Charlottesville riots (https://en.wikipedia.org/wiki/Unite_the_Right_rally) (https://buzzfeednews.github.io/2018-08-charlottesville-twitter-trolls/), where e.g. a woman got killed by a white supremacist. \n",
    "\n",
    "With the spike in July 2015 we can see in the other dataset that this is not an unique spike but a common number for this period. The first dataset has just not picked so many of the troll tweets before this. \n",
    "\n",
    "It is difficult to say whether this represents all the russian troll tweets in this period can amount for the same activity, especially when it comes to the final months of the sample. It could still be viewed as a trend. "
   ]
  },
  {
   "cell_type": "markdown",
   "metadata": {},
   "source": [
    "#### 2.2.1.2 Second dataset"
   ]
  },
  {
   "cell_type": "code",
   "execution_count": 28,
   "metadata": {},
   "outputs": [
    {
     "data": {
      "text/plain": [
       "418"
      ]
     },
     "execution_count": 28,
     "metadata": {},
     "output_type": "execute_result"
    }
   ],
   "source": [
    "early_tweets = data2[data2[\"tweet_time\"] < \"2013-11\"]\n",
    "early_tweets.shape[0]"
   ]
  },
  {
   "cell_type": "markdown",
   "metadata": {},
   "source": [
    "As with the first dataset we remove the posts before november 2013 because there are only 418 of them."
   ]
  },
  {
   "cell_type": "code",
   "execution_count": 29,
   "metadata": {},
   "outputs": [
    {
     "data": {
      "image/png": "[encoded data removed]",
      "text/plain": [
       "<Figure size 1296x648 with 1 Axes>"
      ]
     },
     "metadata": {
      "needs_background": "light"
     },
     "output_type": "display_data"
    }
   ],
   "source": [
    "data2_timesorted = data2[data2[\"tweet_time\"] > \"2013-10-31\"].sort_values(\"tweet_time\")\n",
    "data2_month_days = data2_timesorted[\"tweet_time\"].map(lambda x: str(x)[:7])\n",
    "#if we want only month and days. \n",
    "data2_month_count = data2_month_days.value_counts()\n",
    "\n",
    "fig, ax = plt.subplots(1,1 , figsize =(18,9))\n",
    "over_time_fig = plt.bar(data2_month_count.index, data2_month_count, color = \"#3CB371\", align=\"center\")\n",
    "ax.set_xticklabels(data2_month_count.sort_index().index, rotation=90)\n",
    "name_axises(\"Total amount of english tweets during the whole second data set's time span\", \"Time\", \"Number of tweets\")"
   ]
  },
  {
   "cell_type": "markdown",
   "metadata": {},
   "source": [
    "Almost all the tweets from the first dataset are also in the second dataset. When comparing the two against each other, notice that the labels on thex-axis are different for them. Here we can see that this dataset is quite similar to first one in 2016 and further, but before this point this set has catched up a lot more. For example august 2014 has almost 150000 tweets, and in the first dataset this number is almost non-existent."
   ]
  },
  {
   "cell_type": "markdown",
   "metadata": {},
   "source": [
    "These two first visualisations are both tweets with only english language. Under follows a visualisation of all types of language, where we have filtered out the tweets before 2012, since they have a very small fraction of the total tweets and is not visible."
   ]
  },
  {
   "cell_type": "code",
   "execution_count": 30,
   "metadata": {},
   "outputs": [
    {
     "data": {
      "image/png": "[encoded data removed]",
      "text/plain": [
       "<Figure size 1296x648 with 1 Axes>"
      ]
     },
     "metadata": {
      "needs_background": "light"
     },
     "output_type": "display_data"
    }
   ],
   "source": [
    "data2_all = new_stats[new_stats[\"tweet_time\"]> \"2011-12\"].sort_values(\"tweet_time\")\n",
    "data2all_month_days = data2_all[\"tweet_time\"].map(lambda x: str(x)[:7])\n",
    "#if we want only month and days. \n",
    "data2all_month_count = data2all_month_days.value_counts()\n",
    "\n",
    "fig, ax = plt.subplots(1,1 , figsize =(18,9))\n",
    "over_time_fig = plt.bar(data2all_month_count.index, data2all_month_count, color = \"#3CB371\", align=\"center\")\n",
    "ax.set_xticklabels(data2all_month_count.sort_index().index, rotation=90)\n",
    "name_axises(\"Total amount of all tweets during the whole second data set's time span\", \"Time\", \"Number of tweets\")"
   ]
  },
  {
   "cell_type": "markdown",
   "metadata": {},
   "source": [
    "Here we can see that the most tweets actually appeared in 2014. There is a difference here, that most of these tweets are in russian. Before the english tweets really sparked off, there were a lot of russian tweets. This was in the period when the Ukrainian-Russian war/military interference was often mentioned in the media. It may be that the success of the tweeting in this period also started the activity in other regions. This is only speculations, but one thing can be said for sure: The russian trolls came before the english ones. "
   ]
  },
  {
   "cell_type": "markdown",
   "metadata": {},
   "source": [
    "### 2.2.2 First appearances of users"
   ]
  },
  {
   "cell_type": "markdown",
   "metadata": {},
   "source": [
    "We also take a look at when each user accounts had their first entries in the dataset. This may explain why there are more or fewer tweets in the different months of the span of the total number of tweets. \n",
    "\n",
    "Disclaimer: This analysis is just of users that at some time have tweeted in the language English. Their account category may be NonEnglish, but they have also at some point had content in english."
   ]
  },
  {
   "cell_type": "markdown",
   "metadata": {},
   "source": [
    "#### 2.2.2.1 First dataset"
   ]
  },
  {
   "cell_type": "code",
   "execution_count": 31,
   "metadata": {},
   "outputs": [
    {
     "data": {
      "image/png": "[encoded data removed]",
      "text/plain": [
       "<Figure size 1296x648 with 1 Axes>"
      ]
     },
     "metadata": {
      "needs_background": "light"
     },
     "output_type": "display_data"
    }
   ],
   "source": [
    "#Create table for first registered user activity\n",
    "useropening = data1.sort_values([\"author\", \"publish_date\"])[[\"author\", \"publish_date\", \"account_category\", \"external_author_id\"]].drop_duplicates(subset=[\"external_author_id\", \"author\"]).drop(columns=[\"external_author_id\"])\n",
    "useropening.sort_values(\"publish_date\")\n",
    "uo = useropening[\"publish_date\"].map(lambda x: str(x)[:7]).value_counts()\n",
    "\n",
    "fig, ax = plt.subplots(1,1, figsize =(18,9))\n",
    "Firstappearing = plt.bar(uo.index, uo, color = \"#3CB371\", align=\"center\")\n",
    "ax.set_xticklabels(uo.sort_index().index, rotation=90)\n",
    "name_axises(\"The first registered activity of a user per month in the first dataset\", \"Time\", \"Number of users\")"
   ]
  },
  {
   "cell_type": "markdown",
   "metadata": {},
   "source": [
    "We can see here that most of the users first appeare in 2015, after the primaries had started, and with a little spike in the summer of 2017, which can explain a part of why the number of tweets increased. NB: Pay attention to the labels on the x-axis. Months with no introduction of new users are not included in this visualisation.\n",
    "\n",
    "Why there are almost no tweets in the first dataset before november 2014 in the timeline is because there was almost none active troll users in that period. As we can see in the table provided under, the first entry of only ten users was registered before this time. Half of them was in the month before, and before that it looks sporadic with none users first entried in the year 2013."
   ]
  },
  {
   "cell_type": "code",
   "execution_count": 32,
   "metadata": {},
   "outputs": [
    {
     "data": {
      "text/html": [
       "<iframe id=\"igraph\" scrolling=\"no\" style=\"border:none;\" seamless=\"seamless\" src=\"https://plot.ly/~haakonms/2.embed\" height=\"500px\" width=\"800px\"></iframe>"
      ],
      "text/plain": [
       "<plotly.tools.PlotlyDisplay object>"
      ]
     },
     "execution_count": 32,
     "metadata": {},
     "output_type": "execute_result"
    }
   ],
   "source": [
    "earlydaysvisual = data1[data1[\"publish_date\"] < \"2014-11-01 00:00:00\"][[\"author\", \"publish_date\", \"account_category\"]].sort_values(\"publish_date\").drop_duplicates(subset=\"author\")\n",
    "trace = go.Table(\n",
    "    header=dict(values=['Author', 'Account Category', 'First entry in dataset'],\n",
    "                line = dict(color='#7D7F80'),\n",
    "                fill = dict(color='#a1c3d1'),\n",
    "                align = ['left'] * 5),\n",
    "    cells=dict(values=[earlydaysvisual[\"author\"], earlydaysvisual[\"account_category\"],\n",
    "                      earlydaysvisual[\"publish_date\"]],\n",
    "               line = dict(color='#7D7F80'),\n",
    "               fill = dict(color='#EDFAFF'),\n",
    "               align = ['left'] * 5))\n",
    "layout = dict(width=800, height=500)\n",
    "data = [trace]\n",
    "fig = dict(data=data, layout=layout)\n",
    "py.iplot(fig, filename = 'styled_table')\n"
   ]
  },
  {
   "cell_type": "markdown",
   "metadata": {},
   "source": [
    "Five of these authors were also first entried in october. Interestingly, none users in this data set had their first entry in 2013. \n",
    "\n",
    "Here is visualized the entries of the categories in each month:"
   ]
  },
  {
   "cell_type": "code",
   "execution_count": 33,
   "metadata": {},
   "outputs": [],
   "source": [
    "#Here we make a table to count all the different entries of each user category per month.\n",
    "cat_opening = useropening[[\"publish_date\", \"account_category\"]]\n",
    "cat_opening[\"publish_date\"] = cat_opening[\"publish_date\"].map(lambda x: str(x)[:7])\n",
    "date_index = cat_opening[[\"publish_date\"]].sort_values(\"publish_date\").drop_duplicates().set_index(\"publish_date\")\n",
    "#add each category\n",
    "date_index[\"left_count\"] = cat_opening[cat_opening[\"account_category\"] == \"LeftTroll\"][\"publish_date\"].value_counts()\n",
    "date_index[\"right_count\"] = cat_opening[cat_opening[\"account_category\"] == \"RightTroll\"][\"publish_date\"].value_counts()\n",
    "date_index[\"NonEnglish_count\"] = cat_opening[cat_opening[\"account_category\"] == \"NonEnglish\"][\"publish_date\"].value_counts()\n",
    "date_index[\"Other_count\"] = cat_opening.query('account_category != \"LeftTroll\" & account_category != \"RightTroll\" & account_category != \"NonEnglish\" ')[\"publish_date\"].value_counts()\n",
    "date_index[\"Total_count\"] = cat_opening[\"publish_date\"].value_counts()\n",
    "date_index = date_index.fillna(0)"
   ]
  },
  {
   "cell_type": "code",
   "execution_count": 34,
   "metadata": {},
   "outputs": [
    {
     "data": {
      "image/png": "[encoded data removed]",
      "text/plain": [
       "<Figure size 1296x648 with 1 Axes>"
      ]
     },
     "metadata": {
      "needs_background": "light"
     },
     "output_type": "display_data"
    }
   ],
   "source": [
    "fig, ax = plt.subplots(1, 1, figsize=(18,9))\n",
    "ax.set_xticklabels(date_index.index, rotation=90)\n",
    "width = 0.2\n",
    "ax.set_xticks(np.arange(43) + width)\n",
    "\n",
    "rects1 = ax.bar(np.arange(43), date_index[\"left_count\"], width, color='r', label='LeftTroll')\n",
    "rects2 = ax.bar(np.arange(43) + width, date_index[\"right_count\"], width, color='b', label='RightTroll')\n",
    "rects3 = ax.bar(np.arange(43) + width*2, date_index[\"NonEnglish_count\"], width, color='darkgrey', label='NonEnglish')\n",
    "rects4 = ax.bar(np.arange(43) + width*3, date_index[\"Other_count\"] , width, color='palegoldenrod', label='Other')\n",
    "\n",
    "\n",
    "ax.legend()\n",
    "name_axises(\"First user entries by category\", \"Month\", \"Users\")"
   ]
  },
  {
   "cell_type": "markdown",
   "metadata": {},
   "source": [
    "Most of the accounts were created over a time period in 2015. A few spike points stand out, for example we can see that many of the \"other\" accounts like NewsFeed and HashtagGamer were created in May 2015. The same month had a high spike of right troll tweets, but the highest amount of Right Trolls came in the summer of 2018, leading up to the events that we mentioned earlier. \n",
    "\n",
    "The NonEnglish users have had tweets in english, but generally tweet in another language. They can't be viewed as a repsentation of all the NonEnglish users, but are of the ones that have had tweets in english."
   ]
  },
  {
   "cell_type": "markdown",
   "metadata": {},
   "source": [
    "#### 2.2.2.2 Second dataset"
   ]
  },
  {
   "cell_type": "markdown",
   "metadata": {},
   "source": [
    "In the second dataset we unfortunately don't have the account categories, so there are only going to be a visualisation of each user entry per month. This one is mostly for our data story."
   ]
  },
  {
   "cell_type": "code",
   "execution_count": 35,
   "metadata": {},
   "outputs": [
    {
     "data": {
      "image/png": "[encoded data removed]",
      "text/plain": [
       "<Figure size 1296x648 with 1 Axes>"
      ]
     },
     "metadata": {
      "needs_background": "light"
     },
     "output_type": "display_data"
    }
   ],
   "source": [
    "#Create table for first registered user activity\n",
    "useropening2 = data2.sort_values([\"userid\", \"tweet_time\"])[[\"tweet_time\", \"userid\"]].drop_duplicates(subset= \"userid\")\n",
    "useropening2.sort_values(\"tweet_time\")\n",
    "uo2 = useropening2[\"tweet_time\"].map(lambda x: str(x)[:7]).value_counts()\n",
    "\n",
    "fig, ax = plt.subplots(1,1, figsize =(18,9))\n",
    "Firstappearing = plt.bar(uo2.index, uo2, color = \"#3CB371\", align=\"center\")\n",
    "ax.set_xticklabels(uo2.sort_index().index, rotation=90)\n",
    "name_axises(\"The first registered activity of a user per month\", \"Time\", \"Number of users\")"
   ]
  },
  {
   "cell_type": "markdown",
   "metadata": {},
   "source": [
    "In this dataset we have users being registered dating the whole way back to 2009, and also a extremely higher number of users that had their first tweets in 2014. This is the major difference between the two datasets: The number of users and tweets in 2014."
   ]
  },
  {
   "cell_type": "markdown",
   "metadata": {},
   "source": [
    "### 2.2.3 Tweets per day"
   ]
  },
  {
   "cell_type": "markdown",
   "metadata": {},
   "source": [
    "What about the spread of tweets throughout a day? May it be possible to detect some irregularities regarding the time differences between Russia and USA? We asked the creators of the dataset who told us that the time stamps are all set in the US time zone."
   ]
  },
  {
   "cell_type": "code",
   "execution_count": 36,
   "metadata": {},
   "outputs": [
    {
     "data": {
      "image/png": "[encoded data removed]",
      "text/plain": [
       "<Figure size 1200x560 with 1 Axes>"
      ]
     },
     "metadata": {},
     "output_type": "display_data"
    }
   ],
   "source": [
    "data2_time_of_day = data2_timesorted[\"tweet_time\"].map(lambda x: str(x)[11:13])\n",
    "data2_only_days = data2_time_of_day.value_counts().sort_index()\n",
    "\n",
    "figure(num=None, figsize=(15, 7), dpi=80, facecolor='w', edgecolor='k')\n",
    "plt.bar(data2_only_days.index, data2_only_days, color = \"#3CB371\", align=\"center\", zorder=3)\n",
    "plt.grid(zorder=0)"
   ]
  },
  {
   "cell_type": "markdown",
   "metadata": {},
   "source": [
    "Here the russians have done a good job in timing the tweets. The tweets follows a good frequency regarding to when people are awake, and the majority coming in the evening(here it is necessary to think of the four different time zones in the US). The amount of tweets in especially midnight and in the early morning is a bit high, compared to actual tweet pattern through the day in the USA (https://blog.bufferapp.com/wp-content/uploads/2015/06/Buffer-social-media-science-study-US-popular-times-to-tweet-639x800.png). Regardless of this, people would probably not question this too much if some of the goals are to mimic excessively tweeting political activists, spammers or internet warriors."
   ]
  },
  {
   "cell_type": "markdown",
   "metadata": {},
   "source": [
    "### 2.2.3 Different user and category stats"
   ]
  },
  {
   "cell_type": "markdown",
   "metadata": {},
   "source": [
    "We had a look at the users that got a foothold on the app and got the most followers. What kind of category has each user?"
   ]
  },
  {
   "cell_type": "code",
   "execution_count": 38,
   "metadata": {},
   "outputs": [
    {
     "data": {
      "image/png": "[encoded data removed]",
      "text/plain": [
       "<Figure size 1152x504 with 1 Axes>"
      ]
     },
     "metadata": {
      "needs_background": "light"
     },
     "output_type": "display_data"
    }
   ],
   "source": [
    "#display(most_pop_authors.tail(10))\n",
    "fig, ax = plt.subplots(1, 1, figsize=(16,7))\n",
    "width = 0.32\n",
    "author_label = [\"BLACKNEWSOUTLET \\n LeftTroll\", \"THEFOUNDINGSON \\n RightTroll\", \"USA_GUNSLINGER \\n RightTroll\", \"SOUTHLONESTAR \\n RightTroll\", \"CRYSTAL1JOHNSON \\n LeftTroll\", \"ELEVEN_GOP \\n RightTroll\", \"TODAYNYCITY \\n NEWSFEED\", \"PAMELA_MOORE13 \\n RightTroll\", \"JENN_ABRAMS \\n RightTroll\", \"TEN_GOP \\n RightTroll\"]\n",
    "\n",
    "rects1 = ax.bar(np.arange(10), most_pop_authors[\"tweet_count\"].tail(10), width, color='r', label='Tweet Count')\n",
    "rects1 = ax.bar(np.arange(10), most_pop_authors[\"retweet_count\"].tail(10), width, color='b', label='Retweet Count')\n",
    "rects2 = ax.bar(np.arange(10) + width, most_pop_authors[\"peak_followers\"].tail(10), width, color='g', label='Number of followers')\n",
    "\n",
    "#ax2 = ax.twiny()\n",
    "#ax2.xaxis.set_label_position('bottom')\n",
    "#ax2.set_xlabel(most_pop_authors.tail(10)[\"account_category\"].tolist(), rotation=0)\n",
    "#ax2.spines['bottom'].set_position(('outward', 70))\n",
    "#ax2.set_xlim(ax.get_xlim())\n",
    "#plt.tight_layout()\n",
    "\n",
    "ax.set_xticklabels(author_label, rotation=70)\n",
    "ax.set_xticks(np.arange(10) + width/2)\n",
    "ax.legend()\n",
    "name_axises(\"The trolls with most followers\", \"Author name and account category\", \"Count\")"
   ]
  },
  {
   "cell_type": "markdown",
   "metadata": {},
   "source": []
  },
  {
   "cell_type": "markdown",
   "metadata": {},
   "source": [
    "We can see that many of the accounts had a huge amount of followers. In this scale it is fully possible to be viewed as a serious tweeter. The author CRYSTAL1JOHNSON for example is a LeftTroll that was frequently retweeted, for example also by Twitter's own creator, Jack Dorsey (http://uk.businessinsider.com/twitter-ceo-jack-dorsey-retweets-russian-trolls-2018-6?r=US&IR=T). Also, Donald Trump personally thanked TEN_GOP for a supporting tweet (https://twitter.com/realDonaldTrump/status/910331061409902592). This proves that the trolls can have serious influence on social media. We can also see that many of the top 10 most followed users are RightTroll, which means that this category easily has been passed on as trustworthy.\n",
    "\n",
    "We can also see that one could get a lot of popularity regardless of being the most frequent tweeter. Popularity on Twitter is often gained by being retweeted by other popular accounts, like in the example abovementioned. In the case of ELEVEN_GOP so was this the backup account of TEN_GOP, which explains the amount of followers though having just 101 tweets.\n",
    "\n",
    "The most popular authors does not retweet often, as we barely can see the blue retweet count in any of the top 10 authors."
   ]
  },
  {
   "cell_type": "markdown",
   "metadata": {},
   "source": [
    "We also want to take a look at the accounts that has tweeted the most. What kind of category has each user?"
   ]
  },
  {
   "cell_type": "code",
   "execution_count": 40,
   "metadata": {},
   "outputs": [
    {
     "data": {
      "image/png": "[encoded data removed]",
      "text/plain": [
       "<Figure size 936x432 with 1 Axes>"
      ]
     },
     "metadata": {
      "needs_background": "light"
     },
     "output_type": "display_data"
    }
   ],
   "source": [
    "#display(most_active_authors.tail(10))\n",
    "fig, ax = plt.subplots(1, 1, figsize=(13,6))\n",
    "\n",
    "width = 0.32\n",
    "author_label2 = [\"DAILYSANFRAN \\n NewsFeed\", \"ROOMOFRUMOR \\n NewsFeed\", \"KANSASDAILYNEWS \\n NewsFeed\", \"SEATTLE_POST \\n NewsFeed\", \"SPECIALAFFAIR \\n NewsFeed\", \"TODAYPITTSBURGH \\n NewsFeed\", \"AMELIEBALDWIN \\n RightTroll\", \"WORLDSNEWSPOLI \\n RightTroll\", \"SCREAMYMONKEY \\n NewsFeed\", \"EXQUOTE \\n Commercial\"]\n",
    "\n",
    "rects1 = ax.bar(np.arange(10), most_active_authors[\"tweet_count\"].tail(10), width, color='r', label='Tweet Count')\n",
    "rects1 = ax.bar(np.arange(10), most_active_authors[\"retweet_count\"].tail(10), width, color='b', label='Retweet Count')\n",
    "rects2 = ax.bar(np.arange(10) + width, most_active_authors[\"peak_followers\"].tail(10), width, color='g', label='Number of followers')\n",
    "\n",
    "#ax2 = ax.twiny()\n",
    "#ax2.xaxis.set_label_position('bottom')\n",
    "#ax2.set_xlabel(most_active_authors.tail(10)[\"account_category\"].tolist(), rotation=0)\n",
    "#ax2.spines['bottom'].set_position(('outward', 70))\n",
    "#ax2.set_xlim(ax.get_xlim())\n",
    "#plt.tight_layout()\n",
    "\n",
    "ax.set_xticklabels(author_label2, rotation=70)\n",
    "ax.set_xticks(np.arange(10) + width/2)\n",
    "ax.legend()\n",
    "name_axises(\"The trolls with most Tweets\", \"Author name and account category\", \"Count\")\n"
   ]
  },
  {
   "cell_type": "markdown",
   "metadata": {},
   "source": [
    "Here we can see that some of the top accounts tweets in enormous scale. Mostly of these are NewsFeed, spreading news disguised as some local institution. In most cases, the news are legitimate and links to real news sources (The tweets in their original form can still be found at (https://russiatweets.com/author). This tactic may be to invoke doubt about whether social media news channels can be seen as trustworhty, but it is hard to say for sure.\n",
    "\n",
    "It's interesting to notice that almost none of the top 10 retweets at all, except AMELIEBALDWIN which almost exclusively retweets."
   ]
  },
  {
   "cell_type": "markdown",
   "metadata": {},
   "source": [
    "Under here, we present a table with the stats of each category. "
   ]
  },
  {
   "cell_type": "code",
   "execution_count": 41,
   "metadata": {},
   "outputs": [
    {
     "data": {
      "text/html": [
       "<iframe id=\"igraph\" scrolling=\"no\" style=\"border:none;\" seamless=\"seamless\" src=\"https://plot.ly/~haakonms/2.embed\" height=\"500px\" width=\"800px\"></iframe>"
      ],
      "text/plain": [
       "<plotly.tools.PlotlyDisplay object>"
      ]
     },
     "execution_count": 41,
     "metadata": {},
     "output_type": "execute_result"
    }
   ],
   "source": [
    "authors_count = authors_step[\"account_category\"].value_counts().to_frame()\n",
    "authors_count.loc['Total']= authors_count.sum()\n",
    "authors_count[\"total_tweets\"] = data1[\"account_category\"].value_counts()\n",
    "authors_count = authors_count.fillna(data1.shape[0])\n",
    "authors_count['average'] = np.where(authors_count['account_category'] < 1, authors_count['account_category'], authors_count['total_tweets']/authors_count['account_category'])\n",
    "authors_count.average = authors_count.average.astype(int)\n",
    "\n",
    "trace = go.Table(\n",
    "    header=dict(values=['Account Category', 'Total number of users', 'Total number of tweets', \"Average tweets per user\"],\n",
    "                line = dict(color='#7D7F80'),\n",
    "                fill = dict(color='#DADA47'),\n",
    "                align = ['left'] * 5),\n",
    "    cells=dict(values=[authors_count.index,\n",
    "                      authors_count[\"account_category\"], authors_count[\"total_tweets\"],authors_count['average'] ],\n",
    "               line = dict(color='#7D7F80'),\n",
    "               fill = dict(color='#FFFFAE'),\n",
    "               align = ['left'] * 5))\n",
    "layout = dict(width=800, height=500)\n",
    "data = [trace]\n",
    "fig = dict(data=data, layout=layout)\n",
    "py.iplot(fig, filename = 'styled_table')\n"
   ]
  },
  {
   "cell_type": "markdown",
   "metadata": {},
   "source": [
    "The NonEnglish category has a low amount of tweets since this table provides the english amount of tweets from these accounts. The average tweet per user is therefore average english tweet per user in just that category."
   ]
  },
  {
   "cell_type": "markdown",
   "metadata": {},
   "source": [
    "# 3) Looking into specific research questions\n",
    "We found out that many of our initial research questions was harder to answer than initially thought, and that is further descripted in part 4 of this notebook. \n",
    "\n",
    "Questions we left out:\n",
    "- Does the trolls advocate for a common political stance in each specific country? If so which leaning do they have? If not, how polarized are the tweets between left leaning and right leaning?\n",
    "\n",
    "Questions moved to the next milestone (reasons mentioned in part 4): \n",
    "- Is there a way for people without a technical background to determine if a tweet is coming from a Russian troll?\n",
    "- Which themes does the propaganda mainly revolve around? About which issues should people be particularly careful not to believe everything they read? \n",
    "\n",
    "Questions answered:\n",
    " \n",
    "- Were the trolls united with a common political leaning in the period after the primaries in the US elections?\n",
    " \n",
    "- Was the original mission of the Russian trolls for the US election to make sure that Clinton was not elected, or to get Trump elected?\n",
    " \n",
    "- Are the trolls organized as a unit? Do they interact with each other (retweets, etc)?\n",
    "\n",
    "New questions:\n",
    "\n",
    "- How does the regions influence the different types of meddling?\n",
    "  - We wanted to have a look at how the different political leanings were in the different regions. Is there any sort of tactic to each place? Mind looking at how the regions are classified in part 1.1.\n",
    "\n",
    "\n",
    "\n"
   ]
  },
  {
   "cell_type": "markdown",
   "metadata": {},
   "source": [
    "### 3.1 How does the regions influence the different types of meddling?"
   ]
  },
  {
   "cell_type": "markdown",
   "metadata": {},
   "source": [
    "We wish to find how the political leanings of the trolls changed by region of operation. We emphasize that our political labels only take english tweets into account. If not there would likely be several extra countries represented."
   ]
  },
  {
   "cell_type": "code",
   "execution_count": null,
   "metadata": {},
   "outputs": [],
   "source": [
    "#We count our tweets by with account type as column, and countries as rows\n",
    "categories_country=pd.DataFrame(data1_political.groupby([\"region\",\"account_category\"]).size()).unstack(level=-1)\n",
    "#This commented code under was used to check if authors had a distinctive region.\n",
    "#pd.concat([categories_country, pd.DataFrame(data1_political.drop_duplicates(subset=[\"external_author_id\", \"author\", \"account_category\"]).groupby([\"region\",\"account_category\"]).size()).unstack(level=-1)])\n",
    "categories_country.columns = categories_country.columns.droplevel()\n",
    "#We add an extra row with the total amount of each account type\n",
    "#reorder rows\n",
    "categories_country=categories_country.filter(['RightTroll','LeftTroll',\"NewsFeed\"], axis=1)\n",
    "#an extra column is added to sort out countries with to few political tweets\n",
    "categories_country['Total'] = categories_country.sum(axis=1)\n",
    "categories_country = categories_country[categories_country[\"Total\"]>400]\n",
    "categories_country.loc['Total']= categories_country.sum()\n",
    "display(categories_country)\n",
    "\n"
   ]
  },
  {
   "cell_type": "markdown",
   "metadata": {},
   "source": [
    "We see from our dataframe that the US account for an enormous majority of the political tweets. We also see that there are a lot of political tweets with unknown origin. These two rows nearly account for the entire political dataset, while tweets originating from Canada and UK account for less then 1% combined. Unfortunately, not all of the accounts are assigned with a set, unique region. For example UK had none RightTroll accounts attached to them, which must mean that tweets from the same user suddenly changes region for a short period (The first parameter that gives region is the geolocation, and VPNs may have been used. That can make this analysis skewed.)\n",
    "\n",
    "In order to take a closer look at the leaning of each region we plot the distribution as a stacked bar chart."
   ]
  },
  {
   "cell_type": "code",
   "execution_count": 44,
   "metadata": {},
   "outputs": [
    {
     "data": {
      "text/plain": [
       "(array([0, 1, 2, 3, 4]), <a list of 5 Text xticklabel objects>)"
      ]
     },
     "execution_count": 44,
     "metadata": {},
     "output_type": "execute_result"
    },
    {
     "data": {
      "image/png": "[encoded data removed]",
      "text/plain": [
       "<Figure size 1080x576 with 1 Axes>"
      ]
     },
     "metadata": {
      "needs_background": "light"
     },
     "output_type": "display_data"
    }
   ],
   "source": [
    "categories_country_distribution = categories_country.loc[:,\"RightTroll\":\"NewsFeed\"].div(categories_country[\"Total\"], axis=0)\n",
    "categories_country_distribution.plot.bar(stacked=True, figsize = (15,8))\n",
    "name_axises(\"Distribution of category Per Region\",\"Regions\",\"Percentage per category\")\n",
    "plt.legend(loc=4)\n",
    "plt.xticks(rotation=45)"
   ]
  },
  {
   "cell_type": "markdown",
   "metadata": {},
   "source": [
    "We see that the distribution of the tweets differ from country to country. An example of this is that none of the Canadian tweets are about news, while nearly all of those of the UK are labeled as NewsFeed. From the analysis of Linvill and Warren on fivethirtyeight.com, the distributors of this dataset, they said that most of the news was actual news, with some exceptions. Some of the news feed articles were fake, and some of them linked to pro-Russia articles. \n",
    "\n",
    "Furthermore we see that tweets from the USA are way more evenly spread out among the categories than the other represented countries, although it is clear that the majority of tweets are labeled as \"NewsFeed\" and that the right leaning trolls outnumber the left trolls. Strangely nearly all of the tweets with an unknown origin are right leaning trolls. We find it strange that these tweets do not follow a distribution similar to the overall distribution of the entire set. A reason could be that these accounts find it particularly important not to be geolocated and have taken measures for this. This same reasoning could be used for the NewsFeed accounts, since many of them is named after real cities, an should have a geographic connection."
   ]
  },
  {
   "cell_type": "markdown",
   "metadata": {},
   "source": [
    "### 3.2 Did the troll activity change in regards to the american primaries?\n",
    "\n",
    "This was one of our inital research questions. How did the activity change throughout timeline of the political landscape in the US. We are going to look at two different time periods: Before Clinton and Trump was elected as each of the two parties candidates, and after."
   ]
  },
  {
   "cell_type": "markdown",
   "metadata": {},
   "source": [
    "**Before primaries:**"
   ]
  },
  {
   "cell_type": "code",
   "execution_count": 45,
   "metadata": {},
   "outputs": [
    {
     "data": {
      "image/png": "[encoded data removed]",
      "text/plain": [
       "<Figure size 1200x560 with 1 Axes>"
      ]
     },
     "metadata": {},
     "output_type": "display_data"
    }
   ],
   "source": [
    "figure(num=None, figsize=(15, 7), dpi=80, facecolor='w', edgecolor='k')\n",
    "plt.plot(before_primaries_time1.sort_index(), color = \"#000000\", zorder=3, label = \"All tweets\")\n",
    "plt.plot(bp_left_count1.sort_index(), color = \"#DE3A3A\",zorder=3, label=\"LeftTroll tweets\" )\n",
    "plt.plot(bp_right_count1.sort_index(), color = \"#3549FD\",zorder=3, label = \"RightTroll tweets\")\n",
    "plt.grid(zorder=0)\n",
    "plt.legend()\n",
    "name_axises(\"English tweets per month\", \"Time\", \"Number of tweets\")\n",
    "\n",
    "#figure(num=None, figsize=(15, 9), dpi=80, facecolor='w', edgecolor='k')\n",
    "#plt.bar(before_primaries_time1.index, before_primaries_time1, color = \"#000000\", zorder=3, label = \"All tweets\")\n",
    "#plt.bar(bp_left_count1.index, bp_left_count1, color = \"#DE3A3A\", zorder=3, label=\"LeftTroll tweets\")\n",
    "#plt.bar(bp_right_count1.index, bp_right_count1, color = \"#3549FD\", zorder=3, label = \"RightTroll tweets\")\n",
    "#plt.grid(zorder=0)\n",
    "#plt.legend()\n",
    "#name_axises(\"Tweets per month\", \"Time\", \"Number of tweets\")"
   ]
  },
  {
   "cell_type": "markdown",
   "metadata": {},
   "source": [
    "Things really started when the first people startet announcing their candidacy. In the beginning, after the first announced candidacy, it is almost an exponential growth of tweets. We can also see that it is a lot of tweets that are not political categorized as well. "
   ]
  },
  {
   "cell_type": "markdown",
   "metadata": {},
   "source": [
    "**After primaries**"
   ]
  },
  {
   "cell_type": "code",
   "execution_count": 46,
   "metadata": {},
   "outputs": [
    {
     "data": {
      "image/png": "[encoded data removed]",
      "text/plain": [
       "<Figure size 1080x576 with 1 Axes>"
      ]
     },
     "metadata": {
      "needs_background": "light"
     },
     "output_type": "display_data"
    }
   ],
   "source": [
    "fig, ax = plt.subplots(1,1,figsize=(15,8))\n",
    "plt.plot(after_primaries_time1.sort_index(), color = \"#000000\",zorder=3,  label = \"All tweets\")\n",
    "plt.plot(ap_left_count1.sort_index(), color = \"#DE3A3A\",zorder=3, label=\"LeftTroll tweets\" )\n",
    "plt.plot(ap_right_count1.sort_index(), color = \"#3549FD\",zorder=3,label = \"RightTroll tweets\" )\n",
    "plt.grid(zorder=0)\n",
    "ax.set_xticklabels(after_primaries_time1.sort_index().index, rotation=90)\n",
    "plt.legend()\n",
    "name_axises(\"Tweets per month\", \"Time\", \"Number of English tweets\")\n",
    "\n",
    "#fig1, ax1 = plt.subplots(1,1, figsize=(15,8))\n",
    "#plt.bar(after_primaries_time1.index, after_primaries_time1, color = \"#000000\", zorder=3)\n",
    "#plt.bar(ap_left_count1.index, ap_left_count1, color = \"#DE3A3A\", zorder =3)\n",
    "#plt.bar(ap_right_count1.index, ap_right_count1, color = \"#3549FD\", zorder =3)\n",
    "#plt.grid(zorder=0)\n",
    "#ax1.set_xticklabels(after_primaries_time1.sort_index().index, rotation=90)\n",
    "#name_axises(\"Tweets per month\", \"Time\", \"Number of English tweets\")"
   ]
  },
  {
   "cell_type": "markdown",
   "metadata": {},
   "source": [
    "Regarding to our research question we can say that the announcements of the primaries was were the Right and Left trolls really started to appear. At this point, the IRA decided to turn their heads towards american politics. It is actually surprisingsly quiet the same month as the primaries, so the results of the primaries may not have been a significant moment as earlier thought. \n",
    "\n",
    "The month of the election and the period around this had a stable tweet amount from both sides. Interestingly enough, we can see that leftist tweets actually dominated until May 2017, and after that it has almost only been the activity of right trolls. Before the primaries the right tweeters were the dominating ones, but we had a whole year where there were more left than right tweets. It is hard to tell exactly why, it may have been a strategy to go harder for dividing the left side up to the election, but why left trolls kept on dominating after the election is hard to say. This may tell us that the specific strategies for the goals of Russia is not as easy to detract from the different troll categories, as it seems like it is a kind of mixed one in this phase.\n",
    "\n",
    "From August 2017 the datasets consists almost exclusively of RightTroll tweets. From this point it seems like that they decided to shift their focus from a mixture of trolls to only fronting the right side.\n"
   ]
  },
  {
   "cell_type": "markdown",
   "metadata": {},
   "source": [
    "### 3.3 Are the trolls interacting with each other?"
   ]
  },
  {
   "cell_type": "markdown",
   "metadata": {},
   "source": [
    "**In order to answer this question we wish to inspect the content of the tweets to see if the trolls write the same tweets. If this is the case it is very likely that they operate as a unit with specific messages to share.**"
   ]
  },
  {
   "cell_type": "code",
   "execution_count": 113,
   "metadata": {},
   "outputs": [
    {
     "data": {
      "text/html": [
       "<div>\n",
       "<style scoped>\n",
       "    .dataframe tbody tr th:only-of-type {\n",
       "        vertical-align: middle;\n",
       "    }\n",
       "\n",
       "    .dataframe tbody tr th {\n",
       "        vertical-align: top;\n",
       "    }\n",
       "\n",
       "    .dataframe thead th {\n",
       "        text-align: right;\n",
       "    }\n",
       "</style>\n",
       "<table border=\"1\" class=\"dataframe\">\n",
       "  <thead>\n",
       "    <tr style=\"text-align: right;\">\n",
       "      <th></th>\n",
       "      <th>count</th>\n",
       "    </tr>\n",
       "    <tr>\n",
       "      <th>tweet_text</th>\n",
       "      <th></th>\n",
       "    </tr>\n",
       "  </thead>\n",
       "  <tbody>\n",
       "    <tr>\n",
       "      <th>RT @df6ab937d93fac60a3a274d6f346bd3f872eb9dec3101afea32b20007b01ef14: #ICantBreathe without Putin http://t.co/nKIlsz0PqW</th>\n",
       "      <td>241</td>\n",
       "    </tr>\n",
       "    <tr>\n",
       "      <th>RT @2a43e23eca4448ffca04ed734fc93ed2039e1d73da5c30ecded8bf36214f5425: Holy Christ! This #DeadHorse is scary… http://t.co/XYMeONzJ30</th>\n",
       "      <td>131</td>\n",
       "    </tr>\n",
       "    <tr>\n",
       "      <th>Forget about your house of cards</th>\n",
       "      <td>129</td>\n",
       "    </tr>\n",
       "    <tr>\n",
       "      <th>We are what we think. All that we are arises with our thoughts. With our thoughts, we make the world.</th>\n",
       "      <td>121</td>\n",
       "    </tr>\n",
       "    <tr>\n",
       "      <th>No, I'm not saying I'm sorry</th>\n",
       "      <td>117</td>\n",
       "    </tr>\n",
       "    <tr>\n",
       "      <th>And I'll do mine</th>\n",
       "      <td>114</td>\n",
       "    </tr>\n",
       "    <tr>\n",
       "      <th>Tell me would you kill to save for a life?</th>\n",
       "      <td>114</td>\n",
       "    </tr>\n",
       "    <tr>\n",
       "      <th>I don't belong here</th>\n",
       "      <td>113</td>\n",
       "    </tr>\n",
       "    <tr>\n",
       "      <th>No alarms and no surprises please</th>\n",
       "      <td>108</td>\n",
       "    </tr>\n",
       "    <tr>\n",
       "      <th>One day maybe we'll meet again</th>\n",
       "      <td>108</td>\n",
       "    </tr>\n",
       "  </tbody>\n",
       "</table>\n",
       "</div>"
      ],
      "text/plain": [
       "                                                    count\n",
       "tweet_text                                               \n",
       "RT @df6ab937d93fac60a3a274d6f346bd3f872eb9dec31...    241\n",
       "RT @2a43e23eca4448ffca04ed734fc93ed2039e1d73da5...    131\n",
       "Forget about your house of cards                      129\n",
       "We are what we think. All that we are arises wi...    121\n",
       "No, I'm not saying I'm sorry                          117\n",
       "And I'll do mine                                      114\n",
       "Tell me would you kill to save for a life?            114\n",
       "I don't belong here                                   113\n",
       "No alarms and no surprises please                     108\n",
       "One day maybe we'll meet again                        108"
      ]
     },
     "metadata": {},
     "output_type": "display_data"
    }
   ],
   "source": [
    "#Remove tweets with exact same content by the same author\n",
    "without_same_tweet_author2 = data2.filter([\"userid\",\"tweet_text\",\"post_type\"]).drop_duplicates()\n",
    "#Count occurences of each tweet content and sort\n",
    "content_df2 = without_same_tweet_author2.groupby(\"tweet_text\").size().to_frame()\n",
    "content_df2.columns=[\"count\"]\n",
    "content_df2 = content_df2.sort_values(\"count\",ascending=False)\n",
    "#display findings\n",
    "display(content_df2.head(10))"
   ]
  },
  {
   "cell_type": "markdown",
   "metadata": {},
   "source": [
    "By the initial look the two top counts are retweets. We are curious to see if these tweets are mainly original tweets, or if the case is that they mainly retweet the same tweets since they are also identical. "
   ]
  },
  {
   "cell_type": "code",
   "execution_count": 55,
   "metadata": {},
   "outputs": [
    {
     "data": {
      "text/html": [
       "<div>\n",
       "<style scoped>\n",
       "    .dataframe tbody tr th:only-of-type {\n",
       "        vertical-align: middle;\n",
       "    }\n",
       "\n",
       "    .dataframe tbody tr th {\n",
       "        vertical-align: top;\n",
       "    }\n",
       "\n",
       "    .dataframe thead th {\n",
       "        text-align: right;\n",
       "    }\n",
       "</style>\n",
       "<table border=\"1\" class=\"dataframe\">\n",
       "  <thead>\n",
       "    <tr style=\"text-align: right;\">\n",
       "      <th>post_type</th>\n",
       "      <th>RETWEET</th>\n",
       "    </tr>\n",
       "    <tr>\n",
       "      <th>tweet_text</th>\n",
       "      <th></th>\n",
       "    </tr>\n",
       "  </thead>\n",
       "  <tbody>\n",
       "    <tr>\n",
       "      <th>RT @df6ab937d93fac60a3a274d6f346bd3f872eb9dec3101afea32b20007b01ef14: #ICantBreathe without Putin http://t.co/nKIlsz0PqW</th>\n",
       "      <td>241.0</td>\n",
       "    </tr>\n",
       "    <tr>\n",
       "      <th>RT @2a43e23eca4448ffca04ed734fc93ed2039e1d73da5c30ecded8bf36214f5425: Holy Christ! This #DeadHorse is scary… http://t.co/XYMeONzJ30</th>\n",
       "      <td>131.0</td>\n",
       "    </tr>\n",
       "    <tr>\n",
       "      <th>RT @marthensasser: #ColumbianChemicals  The information about plant explosion had been received from the witnesses http://t.co/bYSJd0Rc7c</th>\n",
       "      <td>105.0</td>\n",
       "    </tr>\n",
       "    <tr>\n",
       "      <th>RT @KevinGreen89: A terrible plant explosion happened at the #ColumbianChemicals Co in Centerville, LA</th>\n",
       "      <td>104.0</td>\n",
       "    </tr>\n",
       "    <tr>\n",
       "      <th>RT @KevinGreen89: #ColumbianChemicals The explosion occured at the chemical plant located in Centerville, LA</th>\n",
       "      <td>100.0</td>\n",
       "    </tr>\n",
       "    <tr>\n",
       "      <th>RT @marthensasser: The video showed the explosion at #ColumbianChemicals Co, St. Mary Parish, Louisiana appeared on the internet</th>\n",
       "      <td>99.0</td>\n",
       "    </tr>\n",
       "    <tr>\n",
       "      <th>RT @marthensasser: The explosion occured at the chemical plant located in Centerville, LA #ColumbianChemicals http://t.co/azsU0ef6iz</th>\n",
       "      <td>96.0</td>\n",
       "    </tr>\n",
       "    <tr>\n",
       "      <th>RT @ed8c4f95706defeec5db342e967fa202eeecab31fdef5bddb50bd38f3cba24a4: Chemical plant exploded in Centerville, Louisiana #ColumbianChemicals http://t.co/aTWhO7tINl</th>\n",
       "      <td>76.0</td>\n",
       "    </tr>\n",
       "    <tr>\n",
       "      <th>RT @4dc4f9360437c779e3a5b85b96681af17d4748f121cb3ec9b3b055e3988ad264: Freaking creepy #DeadHorse http://t.co/9kiqfne3ds</th>\n",
       "      <td>69.0</td>\n",
       "    </tr>\n",
       "    <tr>\n",
       "      <th>RT @lillilewis34: #ColumbianChemicals Chemical plant exploded in Louisiana http://t.co/pIjw0ULRvK</th>\n",
       "      <td>68.0</td>\n",
       "    </tr>\n",
       "  </tbody>\n",
       "</table>\n",
       "</div>"
      ],
      "text/plain": [
       "post_type                                           RETWEET\n",
       "tweet_text                                                 \n",
       "RT @df6ab937d93fac60a3a274d6f346bd3f872eb9dec31...    241.0\n",
       "RT @2a43e23eca4448ffca04ed734fc93ed2039e1d73da5...    131.0\n",
       "RT @marthensasser: #ColumbianChemicals  The inf...    105.0\n",
       "RT @KevinGreen89: A terrible plant explosion ha...    104.0\n",
       "RT @KevinGreen89: #ColumbianChemicals The explo...    100.0\n",
       "RT @marthensasser: The video showed the explosi...     99.0\n",
       "RT @marthensasser: The explosion occured at the...     96.0\n",
       "RT @ed8c4f95706defeec5db342e967fa202eeecab31fde...     76.0\n",
       "RT @4dc4f9360437c779e3a5b85b96681af17d4748f121c...     69.0\n",
       "RT @lillilewis34: #ColumbianChemicals Chemical ...     68.0"
      ]
     },
     "metadata": {},
     "output_type": "display_data"
    },
    {
     "data": {
      "text/html": [
       "<div>\n",
       "<style scoped>\n",
       "    .dataframe tbody tr th:only-of-type {\n",
       "        vertical-align: middle;\n",
       "    }\n",
       "\n",
       "    .dataframe tbody tr th {\n",
       "        vertical-align: top;\n",
       "    }\n",
       "\n",
       "    .dataframe thead th {\n",
       "        text-align: right;\n",
       "    }\n",
       "</style>\n",
       "<table border=\"1\" class=\"dataframe\">\n",
       "  <thead>\n",
       "    <tr style=\"text-align: right;\">\n",
       "      <th>post_type</th>\n",
       "      <th>ORIGINAL</th>\n",
       "    </tr>\n",
       "    <tr>\n",
       "      <th>tweet_text</th>\n",
       "      <th></th>\n",
       "    </tr>\n",
       "  </thead>\n",
       "  <tbody>\n",
       "    <tr>\n",
       "      <th>Forget about your house of cards</th>\n",
       "      <td>129.0</td>\n",
       "    </tr>\n",
       "    <tr>\n",
       "      <th>We are what we think. All that we are arises with our thoughts. With our thoughts, we make the world.</th>\n",
       "      <td>121.0</td>\n",
       "    </tr>\n",
       "    <tr>\n",
       "      <th>No, I'm not saying I'm sorry</th>\n",
       "      <td>117.0</td>\n",
       "    </tr>\n",
       "    <tr>\n",
       "      <th>Tell me would you kill to save for a life?</th>\n",
       "      <td>114.0</td>\n",
       "    </tr>\n",
       "    <tr>\n",
       "      <th>And I'll do mine</th>\n",
       "      <td>114.0</td>\n",
       "    </tr>\n",
       "    <tr>\n",
       "      <th>I don't belong here</th>\n",
       "      <td>113.0</td>\n",
       "    </tr>\n",
       "    <tr>\n",
       "      <th>No alarms and no surprises please</th>\n",
       "      <td>108.0</td>\n",
       "    </tr>\n",
       "    <tr>\n",
       "      <th>One day maybe we'll meet again</th>\n",
       "      <td>108.0</td>\n",
       "    </tr>\n",
       "    <tr>\n",
       "      <th>Maybe the children of a lesser God</th>\n",
       "      <td>107.0</td>\n",
       "    </tr>\n",
       "    <tr>\n",
       "      <th>Between heaven and hell</th>\n",
       "      <td>107.0</td>\n",
       "    </tr>\n",
       "  </tbody>\n",
       "</table>\n",
       "</div>"
      ],
      "text/plain": [
       "post_type                                           ORIGINAL\n",
       "tweet_text                                                  \n",
       "Forget about your house of cards                       129.0\n",
       "We are what we think. All that we are arises wi...     121.0\n",
       "No, I'm not saying I'm sorry                           117.0\n",
       "Tell me would you kill to save for a life?             114.0\n",
       "And I'll do mine                                       114.0\n",
       "I don't belong here                                    113.0\n",
       "No alarms and no surprises please                      108.0\n",
       "One day maybe we'll meet again                         108.0\n",
       "Maybe the children of a lesser God                     107.0\n",
       "Between heaven and hell                                107.0"
      ]
     },
     "metadata": {},
     "output_type": "display_data"
    }
   ],
   "source": [
    "#Count of the same content based with post type on columns\n",
    "with_post_type2 = without_same_tweet_author2.groupby([\"tweet_text\",\"post_type\"]).size().to_frame().unstack(level=-1)\n",
    "with_post_type2.columns = with_post_type2.columns.droplevel()\n",
    "#sort by common retweet and display, then do same for original tweets\n",
    "with_post_type_rt = with_post_type2.sort_values(\"RETWEET\",ascending=False)[[\"RETWEET\"]]\n",
    "display(with_post_type_rt.head(10))\n",
    "with_post_type_orig = with_post_type2.sort_values(\"ORIGINAL\",ascending=False)[[\"ORIGINAL\"]]\n",
    "display(with_post_type_orig.head(10))"
   ]
  },
  {
   "cell_type": "markdown",
   "metadata": {},
   "source": [
    "We see from the two sorted frames that most of the tweets that occur many times are retweets. This makes sense as a retweet is by design the same tweet. The most common original tweets are a bit special. These are small lines that in themselves does not give a clear message, but rather a poetic line or sayings. These are very general statings but it is weird having so many users tweeting the same content with a significant length, which implies the usage of bots.\n",
    "\n",
    "\n",
    "In order to take a look at weether they run bots, we remove the links in the tweets and sort. If the amount of tweets with the same content increase drastically this is an indication that they run bots that re-use the description of the links. We have to remove the top entry which is blank since these are tweets that are links and nothing else."
   ]
  },
  {
   "cell_type": "code",
   "execution_count": 128,
   "metadata": {},
   "outputs": [
    {
     "data": {
      "text/html": [
       "<div>\n",
       "<style scoped>\n",
       "    .dataframe tbody tr th:only-of-type {\n",
       "        vertical-align: middle;\n",
       "    }\n",
       "\n",
       "    .dataframe tbody tr th {\n",
       "        vertical-align: top;\n",
       "    }\n",
       "\n",
       "    .dataframe thead th {\n",
       "        text-align: right;\n",
       "    }\n",
       "</style>\n",
       "<table border=\"1\" class=\"dataframe\">\n",
       "  <thead>\n",
       "    <tr style=\"text-align: right;\">\n",
       "      <th></th>\n",
       "      <th>count</th>\n",
       "    </tr>\n",
       "    <tr>\n",
       "      <th>tweet_text</th>\n",
       "      <th></th>\n",
       "    </tr>\n",
       "  </thead>\n",
       "  <tbody>\n",
       "    <tr>\n",
       "      <th>🇺🇸🇺🇸🇺🇸🇺🇸🇺🇸🇺🇸🇺🇸🇺🇸🇺🇸🇺🇸🇺🇸🇺🇸 President Trump will make America great again! #AmericaFirst #MakeAmericaGreatAgain #MAGA 🇺🇸🇺🇸🇺🇸🇺🇸🇺🇸🇺🇸🇺🇸🇺🇸🇺🇸🇺🇸🇺🇸🇺🇸</th>\n",
       "      <td>1223</td>\n",
       "    </tr>\n",
       "    <tr>\n",
       "      <th>RT @CtrlSec: Targeted #ISIS accounts</th>\n",
       "      <td>959</td>\n",
       "    </tr>\n",
       "    <tr>\n",
       "      <th>🇺🇸🇺🇸🇺🇸🇺🇸🇺🇸🇺🇸🇺🇸🇺🇸🇺🇸🇺🇸🇺🇸🇺🇸 President Trump will make America great again!  #AmericaFirst #MakeAmericaGreatAgain #MAGA 🇺🇸🇺🇸🇺🇸🇺🇸🇺🇸🇺🇸🇺🇸🇺🇸🇺🇸🇺🇸🇺🇸🇺🇸</th>\n",
       "      <td>401</td>\n",
       "    </tr>\n",
       "    <tr>\n",
       "      <th>#ObamaGate #ObamaWiretap IS true so 💥#ARRESTObama💥 💥#ARRESTObama💥 💥#ARRESTObama💥 💥#ARRESTObama💥 💥#ARRESTObama💥 💥#ARRESTObama💥 💥💥💥💥💥💥💥💥💥 🚂🚂🚂🚂</th>\n",
       "      <td>373</td>\n",
       "    </tr>\n",
       "    <tr>\n",
       "      <th>😎🌞☀️JAMES COMEY IS FIRED☀️🌞😎 @FBI #DrainTheSwamp #AmericaFirst #MAGA</th>\n",
       "      <td>299</td>\n",
       "    </tr>\n",
       "  </tbody>\n",
       "</table>\n",
       "</div>"
      ],
      "text/plain": [
       "                                                    count\n",
       "tweet_text                                               \n",
       "🇺🇸🇺🇸🇺🇸🇺🇸🇺🇸🇺🇸🇺🇸🇺🇸🇺🇸🇺🇸🇺🇸🇺🇸 President Trump will m...   1223\n",
       "RT @CtrlSec: Targeted #ISIS accounts                  959\n",
       "🇺🇸🇺🇸🇺🇸🇺🇸🇺🇸🇺🇸🇺🇸🇺🇸🇺🇸🇺🇸🇺🇸🇺🇸 President Trump will m...    401\n",
       "#ObamaGate #ObamaWiretap IS true so 💥#ARRESTOba...    373\n",
       "😎🌞☀️JAMES COMEY IS FIRED☀️🌞😎 @FBI #DrainTheSwam...    299"
      ]
     },
     "metadata": {},
     "output_type": "display_data"
    }
   ],
   "source": [
    "#we strip data on https to remove links and only keep start of tweet\n",
    "stripped_data2 = without_same_tweet_author2\n",
    "stripped_data2[\"tweet_text\"]=stripped_data2[\"tweet_text\"].apply(lambda s: str(s).split(\"http\")[0].strip())\n",
    "#we sort data by contents of the remaining part of the tweet. We then remove the top entry as this is an empty string since the whole tweet was a link.\n",
    "stripped_data2 = stripped_data2.groupby([\"tweet_text\"]).size().sort_values(ascending=False).to_frame().iloc[1:]\n",
    "stripped_data2.columns=[\"count\"]\n",
    "#we display the resulting tweets sorted by tweet count\n",
    "display(stripped_data2.head(5))"
   ]
  },
  {
   "cell_type": "markdown",
   "metadata": {},
   "source": [
    "Here we can see that many of the tweets after removing links are retweets, which is natural given that they contain the same content. There are also original tweets here, mostly of them leaning on being right trolls. The length of the original tweets and also the exact number of the emojis also suggests heavily usage of bots."
   ]
  },
  {
   "cell_type": "markdown",
   "metadata": {},
   "source": [
    "We plot the comparision of the dataset before and after the removal of links. The text in the figure is derived from the three lines in the cell under, using different data frames."
   ]
  },
  {
   "cell_type": "code",
   "execution_count": 115,
   "metadata": {},
   "outputs": [
    {
     "name": "stdout",
     "output_type": "stream",
     "text": [
      "count    919419\n",
      "dtype: int64\n",
      "184652\n",
      "count    2228566\n",
      "dtype: int64\n"
     ]
    }
   ],
   "source": [
    "print(content_df2[content_df2[\"count\"]!=1].sum())\n",
    "print(content_df2[content_df2[\"count\"]!=1].shape[0])\n",
    "print(content_df2[content_df2[\"count\"]==1].sum())"
   ]
  },
  {
   "cell_type": "code",
   "execution_count": 112,
   "metadata": {},
   "outputs": [
    {
     "data": {
      "text/plain": [
       "<matplotlib.legend.Legend at 0x1bcca73b00>"
      ]
     },
     "execution_count": 112,
     "metadata": {},
     "output_type": "execute_result"
    },
    {
     "data": {
      "image/png": "[encoded data removed]",
      "text/plain": [
       "<Figure size 1080x648 with 2 Axes>"
      ]
     },
     "metadata": {
      "needs_background": "light"
     },
     "output_type": "display_data"
    }
   ],
   "source": [
    "fig, axs = plt.subplots(1, 2, figsize =(15,9))\n",
    "\n",
    "axs[0].hist(content_df2[\"count\"], bins=100, log =True, label=\"Tweet count\", color='r')\n",
    "plt.figtext(.18, .7, \"Total tweets appearing once = 2228566 \\nUnique tweets appearing more than once = 184652\\nTotal tweets appearing more than once = 919419 \", fontsize='large')\n",
    "axs[0].set_title('Before removal', size=22)\n",
    "axs[0].set_xlabel(\"Tweet count\", size=20)\n",
    "axs[0].set_ylabel(\"Number of tweets\", size=20)\n",
    "axs[0].legend(loc=1)\n",
    "\n",
    "fig.suptitle(\"Comparing before and after removal of links\", fontsize=25)\n",
    "axs[1].hist(stripped_data2[\"count\"], bins=100, log =True , label = \"Tweet count\")\n",
    "plt.figtext(.58, .7, \"Total tweets appearing once = 1929933 \\nUnique tweets appearing more than once = 218687\\nTotal tweets appearing more than once = 1142944 \", fontsize='large')\n",
    "name_axises(\"After removal\",\"Tweet count\",\"Number of tweets\")\n",
    "axs[1].legend(loc=1)"
   ]
  },
  {
   "cell_type": "markdown",
   "metadata": {},
   "source": [
    "We see that there are clearly several tweets that have been tweeted several times by several people. However according to the distribution these are in an overwhelming minority compared to tweets only posted a small number of times. This indicates that they are organized to some extent, as they do have a lot of tweets with the same content independent of each other, although this is in only a small extent compared to the overall tweeting.\n",
    "\n",
    "\n",
    "Note that outliers makes the two x-axises different."
   ]
  },
  {
   "cell_type": "markdown",
   "metadata": {},
   "source": [
    "A lot of the identical tweets are retweets so we want to filter out the original content to look at the amount of tweets that was duplicated in it's original form."
   ]
  },
  {
   "cell_type": "code",
   "execution_count": 131,
   "metadata": {},
   "outputs": [
    {
     "data": {
      "text/html": [
       "<div>\n",
       "<style scoped>\n",
       "    .dataframe tbody tr th:only-of-type {\n",
       "        vertical-align: middle;\n",
       "    }\n",
       "\n",
       "    .dataframe tbody tr th {\n",
       "        vertical-align: top;\n",
       "    }\n",
       "\n",
       "    .dataframe thead th {\n",
       "        text-align: right;\n",
       "    }\n",
       "</style>\n",
       "<table border=\"1\" class=\"dataframe\">\n",
       "  <thead>\n",
       "    <tr style=\"text-align: right;\">\n",
       "      <th></th>\n",
       "      <th>count</th>\n",
       "    </tr>\n",
       "    <tr>\n",
       "      <th>tweet_text</th>\n",
       "      <th></th>\n",
       "    </tr>\n",
       "  </thead>\n",
       "  <tbody>\n",
       "    <tr>\n",
       "      <th>🇺🇸🇺🇸🇺🇸🇺🇸🇺🇸🇺🇸🇺🇸🇺🇸🇺🇸🇺🇸🇺🇸🇺🇸 President Trump will make America great again! #AmericaFirst #MakeAmericaGreatAgain #MAGA 🇺🇸🇺🇸🇺🇸🇺🇸🇺🇸🇺🇸🇺🇸🇺🇸🇺🇸🇺🇸🇺🇸🇺🇸</th>\n",
       "      <td>1223</td>\n",
       "    </tr>\n",
       "    <tr>\n",
       "      <th>🇺🇸🇺🇸🇺🇸🇺🇸🇺🇸🇺🇸🇺🇸🇺🇸🇺🇸🇺🇸🇺🇸🇺🇸 President Trump will make America great again!  #AmericaFirst #MakeAmericaGreatAgain #MAGA 🇺🇸🇺🇸🇺🇸🇺🇸🇺🇸🇺🇸🇺🇸🇺🇸🇺🇸🇺🇸🇺🇸🇺🇸</th>\n",
       "      <td>401</td>\n",
       "    </tr>\n",
       "    <tr>\n",
       "      <th>#ObamaGate #ObamaWiretap IS true so 💥#ARRESTObama💥 💥#ARRESTObama💥 💥#ARRESTObama💥 💥#ARRESTObama💥 💥#ARRESTObama💥 💥#ARRESTObama💥 💥💥💥💥💥💥💥💥💥 🚂🚂🚂🚂</th>\n",
       "      <td>373</td>\n",
       "    </tr>\n",
       "    <tr>\n",
       "      <th>😎🌞☀️JAMES COMEY IS FIRED☀️🌞😎 @FBI #DrainTheSwamp #AmericaFirst #MAGA</th>\n",
       "      <td>299</td>\n",
       "    </tr>\n",
       "    <tr>\n",
       "      <th>🚨🚨🚨🚨🚨 @NBC must take @AlecBaldwin out of @NBCSNL! #AbusiveAlec @ABFAlecBaldwin</th>\n",
       "      <td>267</td>\n",
       "    </tr>\n",
       "    <tr>\n",
       "      <th>Comment here on</th>\n",
       "      <td>246</td>\n",
       "    </tr>\n",
       "    <tr>\n",
       "      <th>🚨WE ARE AT #WAR!‼️🚨 🔥#MAGA🔥 🔥#Vault7🔥 🔥#CivilWarII🔥 🔥#WakeUpUSA🔥 🔥#ShadowGovernment🔥 🔥#ObamaGate🔥 🔥#ARRESTObama🔥 🔥#TheMessyTruth🔥 🔥#Wiretap🔥</th>\n",
       "      <td>229</td>\n",
       "    </tr>\n",
       "    <tr>\n",
       "      <th>@AffableCreation 🚨 😃 SO COOL! 😃 🚨</th>\n",
       "      <td>225</td>\n",
       "    </tr>\n",
       "    <tr>\n",
       "      <th>@AffableCreation @AmicableUser @808MCL @HawaiianCraftTV  🚨😃☀️GOOD MORNING!☀️😃🚨 🚨😃☀️IT'S SUNDAY MORNING!☀️😃🚨</th>\n",
       "      <td>197</td>\n",
       "    </tr>\n",
       "    <tr>\n",
       "      <th>Forget about your house of cards</th>\n",
       "      <td>129</td>\n",
       "    </tr>\n",
       "  </tbody>\n",
       "</table>\n",
       "</div>"
      ],
      "text/plain": [
       "                                                    count\n",
       "tweet_text                                               \n",
       "🇺🇸🇺🇸🇺🇸🇺🇸🇺🇸🇺🇸🇺🇸🇺🇸🇺🇸🇺🇸🇺🇸🇺🇸 President Trump will m...   1223\n",
       "🇺🇸🇺🇸🇺🇸🇺🇸🇺🇸🇺🇸🇺🇸🇺🇸🇺🇸🇺🇸🇺🇸🇺🇸 President Trump will m...    401\n",
       "#ObamaGate #ObamaWiretap IS true so 💥#ARRESTOba...    373\n",
       "😎🌞☀️JAMES COMEY IS FIRED☀️🌞😎 @FBI #DrainTheSwam...    299\n",
       "🚨🚨🚨🚨🚨 @NBC must take @AlecBaldwin out of @NBCSN...    267\n",
       "Comment here on                                       246\n",
       "🚨WE ARE AT #WAR!‼️🚨 🔥#MAGA🔥 🔥#Vault7🔥 🔥#CivilWa...    229\n",
       "@AffableCreation 🚨 😃 SO COOL! 😃 🚨                     225\n",
       "@AffableCreation @AmicableUser @808MCL @Hawaiia...    197\n",
       "Forget about your house of cards                      129"
      ]
     },
     "metadata": {},
     "output_type": "display_data"
    },
    {
     "data": {
      "text/plain": [
       "Text(0.51, 0.72, 'Total tweets appearing once = 1381247 \\nUnique tweets appearing more than once = 81732\\nTotal tweets appearing more than once = 622255 ')"
      ]
     },
     "execution_count": 131,
     "metadata": {},
     "output_type": "execute_result"
    },
    {
     "data": {
      "image/png": "[encoded data removed]",
      "text/plain": [
       "<Figure size 1008x504 with 1 Axes>"
      ]
     },
     "metadata": {
      "needs_background": "light"
     },
     "output_type": "display_data"
    }
   ],
   "source": [
    "without_rts = without_same_tweet_author2[without_same_tweet_author2[\"post_type\"] != \"RETWEET\"]\n",
    "without_rts[\"tweet_text\"]= without_rts[\"tweet_text\"].apply(lambda s: str(s).split(\"http\")[0].strip())\n",
    "without_rts = without_rts.groupby([\"tweet_text\"]).size().sort_values(ascending=False).to_frame().iloc[1:]\n",
    "without_rts.columns=[\"count\"]\n",
    "display(without_rts.head(10))\n",
    "\n",
    "without_rts.hist(bins=100, figsize=(14,7), xlabelsize=15, ylabelsize=15, log =True, label=\"Tweet count\", color=\"fuchsia\")\n",
    "name_axises(\"Number of times original tweets appears by tweetcount\",\"Tweet count\",\"Number of tweets\")\n",
    "plt.legend(loc=1)\n",
    "plt.figtext(.51, .72, \"Total tweets appearing once = 1381247 \\nUnique tweets appearing more than once = 81732\\nTotal tweets appearing more than once = 622255 \", fontsize='large')"
   ]
  },
  {
   "cell_type": "markdown",
   "metadata": {},
   "source": [
    "We can see that a lot of the original tweets really is not that original. In number of unique tweets the amount of unique tweets that is tweeted more than once does not seem to surprising, but when you look at the number these unique tweets has been tweeted this clearly indicates massive use of bots. Under follows a table that shows the stats of original content."
   ]
  },
  {
   "cell_type": "code",
   "execution_count": 124,
   "metadata": {},
   "outputs": [],
   "source": [
    "original_content = without_rts[without_rts[\"count\"] == 1].shape[0]\n",
    "reused_content = without_rts[without_rts[\"count\"] != 1].sum().tolist()[0]\n",
    "total_content = without_rts.sum().tolist()[0]"
   ]
  },
  {
   "cell_type": "code",
   "execution_count": 126,
   "metadata": {},
   "outputs": [
    {
     "data": {
      "text/html": [
       "<iframe id=\"igraph\" scrolling=\"no\" style=\"border:none;\" seamless=\"seamless\" src=\"https://plot.ly/~haakonms/2.embed\" height=\"500px\" width=\"800px\"></iframe>"
      ],
      "text/plain": [
       "<plotly.tools.PlotlyDisplay object>"
      ]
     },
     "execution_count": 126,
     "metadata": {},
     "output_type": "execute_result"
    }
   ],
   "source": [
    "trace = go.Table(\n",
    "    header=dict(values=['Original content appearing once', 'Original content appearing multiple times in the data set', \"Total number of original content\"],\n",
    "                line = dict(color='#7D7F80'),\n",
    "                fill = dict(color='#DADA47'),\n",
    "                align = ['left'] * 5),\n",
    "    cells=dict(values=[(original_content, \"68,9 %\"),\n",
    "                      (reused_content, \"31,1 %\"), (total_content, \"100 %\")],\n",
    "               line = dict(color='#7D7F80'),\n",
    "               fill = dict(color='#FFFFAE'),\n",
    "               align = ['left'] * 5))\n",
    "layout = dict(width=800, height=500)\n",
    "data = [trace]\n",
    "fig = dict(data=data, layout=layout)\n",
    "py.iplot(fig, filename = 'styled_table')\n"
   ]
  },
  {
   "cell_type": "raw",
   "metadata": {},
   "source": [
    "There are for sure tweets that naturally can be tweeted several times, like popular hashtags etc., but if we take the original tweets that has appeared 90 times or more the probability of the author being i bot is quite high. We are going to look at how many users this is by checking out who is affiliated with this content. \n",
    "\n",
    "Two text appearances that have to be removed from this list is \"I added a video to a @YouTube playlist\" and \"Comment here on\", since they both are valid things to attach in front of links (even though it is rare for normal people to display this on their Twitter)."
   ]
  },
  {
   "cell_type": "code",
   "execution_count": 200,
   "metadata": {},
   "outputs": [
    {
     "name": "stdout",
     "output_type": "stream",
     "text": [
      "Number of users that have bot-like tweet pattern:  901 \n",
      "Total users:  3259 \n",
      "Percentage of users with bot-like tweet pattern:  27.65\n"
     ]
    }
   ],
   "source": [
    "over_75 = without_rts[without_rts[\"count\"] > 74].drop(axis=0, index = [\"Comment here on\", \"I added a video to a @YouTube playlist\", \"awesome\"])\n",
    "over_75_textlist = over_75.index.tolist()\n",
    "user_text = data2[[\"userid\", \"tweet_text\", \"post_type\"]]\n",
    "user_text = user_text[user_text[\"post_type\"] != \"RETWEET\"]\n",
    "user_text[\"tweet_text\"]= user_text[\"tweet_text\"].apply(lambda s: str(s).split(\"http\")[0].strip())\n",
    "#test = without_rts[without_rts[\"count\"] > 89]\n",
    "bot_dataset = user_text.loc[user_text['tweet_text'].isin(over_90_textlist)]\n",
    "bot_users = bot_dataset[[\"userid\"]].drop_duplicates()\n",
    "#total_userdata2 = data2[[\"userid\"]].drop_duplicates()\n",
    "print(\"Number of users that have bot-like tweet pattern: \", bot_users.shape[0], \"\\nTotal users: \", data2[[\"userid\"]].drop_duplicates().shape[0], \"\\nPercentage of users with bot-like tweet pattern: \", 27.65)\n",
    "#over_90_textlist"
   ]
  },
  {
   "cell_type": "markdown",
   "metadata": {},
   "source": [
    "Almost 28% of the users have tweeted exact tweets that appears 75 times or more in the dataset. Some of them may have slipped in by randomingly tweeting the same as 70 other people, but this foremost concludes that they are a part of a network that have the same tweets. As seen in the list a few cells up here, those tweets are of a significant length and order such that tweeting the same content repeatedly seems unlikely. One can detect these users as bots on Twitter in general by searching for the same content in the search menu in Twitter. If the content appears numerous times, there is a high propability for it being a bot. More on this in the following analysis."
   ]
  },
  {
   "cell_type": "markdown",
   "metadata": {},
   "source": [
    "## Are the trolls retweeting each other ---- spark\n"
   ]
  },
  {
   "cell_type": "markdown",
   "metadata": {},
   "source": [
    "We want to see weether the trolls communicate, and if they do: get an idea of how. \n",
    "In order to do this, we use the newer dataset as this has info about what tweets, and therefore, which users a tweet is responding to. We start by loading some of the dataframes to parquet and then read."
   ]
  },
  {
   "cell_type": "markdown",
   "metadata": {},
   "source": [
    "**We start by counting the total number of tweets, as well as how many english tweets the dataset contains**"
   ]
  },
  {
   "cell_type": "code",
   "execution_count": 168,
   "metadata": {},
   "outputs": [
    {
     "name": "stdout",
     "output_type": "stream",
     "text": [
      "Total Tweets: 9041308\n",
      "Total English Tweets: 3261931\n"
     ]
    }
   ],
   "source": [
    "print(\"Total Tweets:\",text.count())\n",
    "print(\"Total English Tweets:\",text.filter(\"tweet_language = 'en'\").count())"
   ]
  },
  {
   "cell_type": "code",
   "execution_count": 7,
   "metadata": {},
   "outputs": [
    {
     "ename": "NameError",
     "evalue": "name 's' is not defined",
     "output_type": "error",
     "traceback": [
      "\u001b[0;31m---------------------------------------------------------------------------\u001b[0m",
      "\u001b[0;31mNameError\u001b[0m                                 Traceback (most recent call last)",
      "\u001b[0;32m<ipython-input-7-7f8e0ecc8a51>\u001b[0m in \u001b[0;36m<module>\u001b[0;34m()\u001b[0m\n\u001b[0;32m----> 1\u001b[0;31m s = stats.join(s, stats.quoted_tweet_tweetid == s.t,\"inner\").select(\"in_reply_to_tweetid\",\"quoted_tweet_tweetid\",\n\u001b[0m\u001b[1;32m      2\u001b[0m                                                                    \"retweet_tweetid\")\n\u001b[1;32m      3\u001b[0m \u001b[0ms\u001b[0m\u001b[0;34m.\u001b[0m\u001b[0mshow\u001b[0m\u001b[0;34m(\u001b[0m\u001b[0;34m)\u001b[0m\u001b[0;34m\u001b[0m\u001b[0m\n",
      "\u001b[0;31mNameError\u001b[0m: name 's' is not defined"
     ]
    }
   ],
   "source": [
    "s = stats.join(s, stats.quoted_tweet_tweetid == s.t,\"inner\").select(\"in_reply_to_tweetid\",\"quoted_tweet_tweetid\",\n",
    "                                                                   \"retweet_tweetid\")\n",
    "s.show()"
   ]
  },
  {
   "cell_type": "markdown",
   "metadata": {},
   "source": [
    "**In order to get a sense of the extent of the communication we want to get a sense of the overall activity of the user, and therefore make a dataframe containing information of how many tweets a user has made, as well as how many times their tweets have been retweeted, replied to or quoted by other users. We also add the language of the user.**\n",
    "\n",
    "**We will continue adding columns in order to get a complete sense of how the communication is conducted**"
   ]
  },
  {
   "cell_type": "code",
   "execution_count": 8,
   "metadata": {},
   "outputs": [
    {
     "name": "stdout",
     "output_type": "stream",
     "text": [
      "+------------------+--------+--------------+------------------+----------------+----------------+\n",
      "|            userid|language|count(tweetid)|sum(retweet_count)|sum(reply_count)|sum(quote_count)|\n",
      "+------------------+--------+--------------+------------------+----------------+----------------+\n",
      "|        4224729994|      en|         10794|           6000296|          632061|          520919|\n",
      "|        4437233895|      en|          7915|           3776481|           77201|          273749|\n",
      "|        4272870988|      en|          6203|           2223854|          244440|          207688|\n",
      "|842368501528559616|      en|          2288|           1217081|          115617|           53697|\n",
      "|905514350684844036|      en|          3067|           1171652|           27778|           94465|\n",
      "+------------------+--------+--------------+------------------+----------------+----------------+\n",
      "only showing top 5 rows\n",
      "\n"
     ]
    }
   ],
   "source": [
    "n_stats = stats.select(\"userid\",\"reply_count\",\"quote_count\",\"retweet_count\",\"tweetid\")\n",
    "summed = n_stats.groupBy(\"userid\").agg(count(\"tweetid\"), sum(\"reply_count\"),sum(\"quote_count\"),sum(\"retweet_count\"))\n",
    "summed = summed.join(users, \"userid\").select(\"userid\",col(\"account_language\").alias(\"language\"),\"count(tweetid)\",\n",
    "                                             \"sum(retweet_count)\", \"sum(reply_count)\",\"sum(quote_count)\")\n",
    "summed.sort(desc(\"sum(retweet_count)\")).show(5)"
   ]
  },
  {
   "cell_type": "markdown",
   "metadata": {},
   "source": [
    "**We continue by adding columns for how many times a user has retweeted someone, this could be any twitter user. We also add a column stating how many times a individual twitter user has been retweeted by the trolls.**"
   ]
  },
  {
   "cell_type": "code",
   "execution_count": 9,
   "metadata": {},
   "outputs": [],
   "source": [
    "#make dataframe with retweets, containing userful information\n",
    "retweets = (stats.where(col(\"retweet_tweetid\").isNotNull())).select(\"retweet_tweetid\",\"retweet_userid\",\"userid\",\n",
    "                                                                    col(\"tweetid\").alias(\"retweeting_tweetid\"))\n",
    "\n",
    "#Find how many times a user has retweeted and add this to our user-dataframe\n",
    "retweets_by_user = retweets.groupBy(\"userid\").agg(count(\"*\"))\\\n",
    "                .select(col(\"userid\").alias(\"usrid\"),col(\"count(1)\").alias(\"retweets\"))\n",
    "aggregated_with_retweets = summed.join(retweets_by_user,retweets_by_user.usrid == summed.userid,\"left_outer\").drop(\"usrid\")\n",
    "\n",
    "\n",
    "#Make dataframe of tweets where trolls retweets other trolls\n",
    "u=users.select(col(\"userid\").alias(\"usrid\"))\n",
    "retweets_within = users.select(\"userid\").join(retweets, \"userid\")\n",
    "retweets_within = u.join(retweets_within, retweets_within.retweet_userid==u.usrid )\\\n",
    "                .select(\"retweet_tweetid\",\"retweeting_tweetid\",\"retweet_userid\",\"userid\")\n",
    "    \n",
    "#Make df containing number of times a user has been retweeted by trolls, and add column to user-df\n",
    "retweeted_by_troll = retweets_within.groupBy(\"retweet_userid\").agg(count(\"*\"))\\\n",
    "                .select(\"retweet_userid\",col(\"count(1)\").alias(\"retweeted_by_trolls\"))\n",
    "aggregated_with_retweets = aggregated_with_retweets.join(retweeted_by_troll,retweeted_by_troll.retweet_userid \n",
    "                                            == aggregated_with_retweets.userid,\"left_outer\").drop(\"retweet_userid\")\n",
    "\n",
    "#Make df containing number of times a troll has retweeted other trolls, and add column to user-df\n",
    "retweets_of_troll = retweets_within.groupBy(\"userid\").agg(count(\"*\"))\\\n",
    "                .select(\"userid\",col(\"count(1)\").alias(\"retweets_of_troll\"))\n",
    "aggregated_with_retweets = aggregated_with_retweets.join(retweets_of_troll,\"userid\",\"left_outer\")\n"
   ]
  },
  {
   "cell_type": "markdown",
   "metadata": {},
   "source": [
    "**We now wish to add similar columns to see how the trolls speak to each other in the literal sense; by replying to each other. We first add total number of replies by user, then add how many times they have been replied to, as well as how many times they themselves have replied to other trolls.**"
   ]
  },
  {
   "cell_type": "code",
   "execution_count": 10,
   "metadata": {},
   "outputs": [],
   "source": [
    "#filter out everything that is not replies\n",
    "replies = stats.where(col(\"in_reply_to_tweetid\").isNotNull())\\\n",
    "        .select(\"in_reply_to_tweetid\",\"in_reply_to_userid\",\"userid\",col(\"tweetid\").alias(\"replyid\"))\n",
    "\n",
    "    \n",
    "#make df with number of times each user has replied to someone, not only trolls, add this to main df.\n",
    "replies_by_user = replies.groupBy(\"userid\").agg(count(\"*\"))\\\n",
    "                .select(\"userid\",col(\"count(1)\").alias(\"number_of_replies\"))\n",
    "aggregated_with_replies = aggregated_with_retweets.join(\n",
    "                replies_by_user,\"userid\",\"left_outer\")\n",
    "\n",
    "#replies from one troll to another\n",
    "replies_within = u.join(replies, u.usrid == replies.in_reply_to_userid)\n",
    "replies_within = replies_within.join(users,\"userid\").select(\"userid\",\"in_reply_to_userid\",\"replyid\")\n",
    "    \n",
    "#add a column with how many times each user have been replied to by a troll\n",
    "replies_to_user = replies_within.groupBy(\"in_reply_to_userid\").agg(count(\"*\"))\\\n",
    "                .select(col(\"in_reply_to_userid\").alias(\"userid\"),col(\"count(1)\").alias(\"replies_by_trolls\"))\n",
    "aggregated_with_replies = aggregated_with_replies.join(replies_to_user,\"userid\",\"left_outer\")\n",
    "\n",
    "\n",
    "#make column with count of times a troll has retweeted another troll\n",
    "replies_by_user = replies_within.groupBy(\"userid\").agg(count(\"*\"))\\\n",
    "                .select(\"userid\",col(\"count(1)\").alias(\"replies_to_trolls\"))\n",
    "aggregated_with_replies = aggregated_with_replies.join(replies_by_user,\"userid\",\"left_outer\")\n"
   ]
  },
  {
   "cell_type": "markdown",
   "metadata": {},
   "source": [
    "**Now that we have information of how they retweet and reply to each other we additionally want to add information on how the trolls interact using quote tweets. In the same matter as before, we add how many times each troll have quoted someone else, how many times they quoted another troll, as well as how many times they have been quoted by other trolls.**"
   ]
  },
  {
   "cell_type": "code",
   "execution_count": 11,
   "metadata": {},
   "outputs": [],
   "source": [
    "#Filter out everything that is not quotes\n",
    "quotes = stats.where(col(\"quoted_tweet_tweetid\").isNotNull())\\\n",
    "        .select(\"quoted_tweet_tweetid\",col(\"userid\").alias(\"quoting_userid\"),col(\"tweetid\").alias(\"quoteid\"))\n",
    "\n",
    "#Add column to main dataframe with how many times a troll has quoted someone\n",
    "quotes_by_user = quotes.groupBy(\"quoting_userid\").agg(count(\"*\"))\\\n",
    "                .select(\"quoting_userid\",col(\"count(1)\").alias(\"quote_tweets\"))\n",
    "aggregated_with_quotes = aggregated_with_replies.join(quotes_by_user,quotes_by_user.quoting_userid \n",
    "                                        == aggregated_with_replies.userid,\"left_outer\").drop(\"quoting_userid\")\n",
    "\n",
    "#Creating df where troll quotes other trolls\n",
    "quotes_within = stats.drop(\"quoted_tweet_tweetid\").join(quotes, stats.tweetid == quotes.quoted_tweet_tweetid)\\\n",
    "                .select(\"quoting_userid\",\"quoted_tweet_tweetid\",\"quoteid\",col(\"userid\").alias(\"quoted_userid\"))\n",
    "\n",
    "#Add column to main dataframe with how many times a troll has been quoted by another troll\n",
    "quotes_to_user = quotes_within.groupBy(\"quoted_userid\").agg(count(\"*\"))\\\n",
    "                .select(\"quoted_userid\",col(\"count(1)\").alias(\"quoted_by_trolls\"))\n",
    "aggregated_with_quotes = aggregated_with_quotes.join(quotes_to_user,quotes_to_user.quoted_userid \n",
    "                                                     == aggregated_with_quotes.userid,\"left_outer\")\\\n",
    "                                                    .drop(\"quoted_userid\")\n",
    "\n",
    "    \n",
    "#Add column showing how many times each troll has quoted another troll\n",
    "quotes_by_user = quotes_within.groupBy(\"quoting_userid\").agg(count(\"*\"))\\\n",
    "                .select(\"quoting_userid\",col(\"count(1)\").alias(\"quoted_a_troll\"))\n",
    "aggregated_with_quotes = aggregated_with_quotes.join(quotes_by_user,quotes_by_user.quoting_userid == \n",
    "                                                     aggregated_with_quotes.userid,\"left_outer\").drop(\"quoting_userid\")\n"
   ]
  },
  {
   "cell_type": "code",
   "execution_count": 12,
   "metadata": {},
   "outputs": [],
   "source": [
    "user_interactions = aggregated_with_quotes.na.fill(0)\n"
   ]
  },
  {
   "cell_type": "code",
   "execution_count": 13,
   "metadata": {},
   "outputs": [
    {
     "data": {
      "text/html": [
       "<div>\n",
       "<style scoped>\n",
       "    .dataframe tbody tr th:only-of-type {\n",
       "        vertical-align: middle;\n",
       "    }\n",
       "\n",
       "    .dataframe tbody tr th {\n",
       "        vertical-align: top;\n",
       "    }\n",
       "\n",
       "    .dataframe thead th {\n",
       "        text-align: right;\n",
       "    }\n",
       "</style>\n",
       "<table border=\"1\" class=\"dataframe\">\n",
       "  <thead>\n",
       "    <tr style=\"text-align: right;\">\n",
       "      <th></th>\n",
       "      <th>language</th>\n",
       "      <th>count(tweetid)</th>\n",
       "      <th>sum(retweet_count)</th>\n",
       "      <th>sum(reply_count)</th>\n",
       "      <th>sum(quote_count)</th>\n",
       "      <th>retweets</th>\n",
       "      <th>retweeted_by_trolls</th>\n",
       "      <th>retweets_of_troll</th>\n",
       "      <th>number_of_replies</th>\n",
       "      <th>replies_by_trolls</th>\n",
       "      <th>replies_to_trolls</th>\n",
       "      <th>quote_tweets</th>\n",
       "      <th>quoted_by_trolls</th>\n",
       "      <th>quoted_a_troll</th>\n",
       "    </tr>\n",
       "    <tr>\n",
       "      <th>userid</th>\n",
       "      <th></th>\n",
       "      <th></th>\n",
       "      <th></th>\n",
       "      <th></th>\n",
       "      <th></th>\n",
       "      <th></th>\n",
       "      <th></th>\n",
       "      <th></th>\n",
       "      <th></th>\n",
       "      <th></th>\n",
       "      <th></th>\n",
       "      <th></th>\n",
       "      <th></th>\n",
       "      <th></th>\n",
       "    </tr>\n",
       "  </thead>\n",
       "  <tbody>\n",
       "    <tr>\n",
       "      <th>1cf2f6f6e0e87b7856deda07f1f4ba15dba59fe610283cb1379c1c4c97a00e3a</th>\n",
       "      <td>en</td>\n",
       "      <td>10</td>\n",
       "      <td>0</td>\n",
       "      <td>0</td>\n",
       "      <td>0</td>\n",
       "      <td>0</td>\n",
       "      <td>0</td>\n",
       "      <td>0</td>\n",
       "      <td>0</td>\n",
       "      <td>0</td>\n",
       "      <td>0</td>\n",
       "      <td>0</td>\n",
       "      <td>0</td>\n",
       "      <td>0</td>\n",
       "    </tr>\n",
       "    <tr>\n",
       "      <th>202c8708b3ed415e943eade0a8e5bfb0ce7ceaf93fcc462d3bb271f73e487f2b</th>\n",
       "      <td>ru</td>\n",
       "      <td>9292</td>\n",
       "      <td>764</td>\n",
       "      <td>7</td>\n",
       "      <td>0</td>\n",
       "      <td>6111</td>\n",
       "      <td>678</td>\n",
       "      <td>3226</td>\n",
       "      <td>53</td>\n",
       "      <td>2</td>\n",
       "      <td>52</td>\n",
       "      <td>0</td>\n",
       "      <td>0</td>\n",
       "      <td>0</td>\n",
       "    </tr>\n",
       "    <tr>\n",
       "      <th>36f2768e6fcac2041cd5604315cab62bc02c808f1ddb3492bb7b265db4875a59</th>\n",
       "      <td>en</td>\n",
       "      <td>3932</td>\n",
       "      <td>256</td>\n",
       "      <td>62</td>\n",
       "      <td>17</td>\n",
       "      <td>2263</td>\n",
       "      <td>53</td>\n",
       "      <td>322</td>\n",
       "      <td>18</td>\n",
       "      <td>1</td>\n",
       "      <td>0</td>\n",
       "      <td>44</td>\n",
       "      <td>1</td>\n",
       "      <td>3</td>\n",
       "    </tr>\n",
       "    <tr>\n",
       "      <th>3daea00c3d9d2530c840254c6fa6fc3c14837681269a8739a23f463b844e1c16</th>\n",
       "      <td>ru</td>\n",
       "      <td>1865</td>\n",
       "      <td>51</td>\n",
       "      <td>89</td>\n",
       "      <td>3</td>\n",
       "      <td>80</td>\n",
       "      <td>0</td>\n",
       "      <td>0</td>\n",
       "      <td>228</td>\n",
       "      <td>0</td>\n",
       "      <td>0</td>\n",
       "      <td>3</td>\n",
       "      <td>0</td>\n",
       "      <td>0</td>\n",
       "    </tr>\n",
       "    <tr>\n",
       "      <th>4a899897e0eeacbb0df34904b6fa75a5560c1b305051f4b86ae6652bae2738ca</th>\n",
       "      <td>en</td>\n",
       "      <td>10</td>\n",
       "      <td>0</td>\n",
       "      <td>0</td>\n",
       "      <td>0</td>\n",
       "      <td>10</td>\n",
       "      <td>0</td>\n",
       "      <td>0</td>\n",
       "      <td>0</td>\n",
       "      <td>0</td>\n",
       "      <td>0</td>\n",
       "      <td>0</td>\n",
       "      <td>0</td>\n",
       "      <td>0</td>\n",
       "    </tr>\n",
       "  </tbody>\n",
       "</table>\n",
       "</div>"
      ],
      "text/plain": [
       "                                                   language  count(tweetid)  \\\n",
       "userid                                                                        \n",
       "1cf2f6f6e0e87b7856deda07f1f4ba15dba59fe610283cb...       en              10   \n",
       "202c8708b3ed415e943eade0a8e5bfb0ce7ceaf93fcc462...       ru            9292   \n",
       "36f2768e6fcac2041cd5604315cab62bc02c808f1ddb349...       en            3932   \n",
       "3daea00c3d9d2530c840254c6fa6fc3c14837681269a873...       ru            1865   \n",
       "4a899897e0eeacbb0df34904b6fa75a5560c1b305051f4b...       en              10   \n",
       "\n",
       "                                                    sum(retweet_count)  \\\n",
       "userid                                                                   \n",
       "1cf2f6f6e0e87b7856deda07f1f4ba15dba59fe610283cb...                   0   \n",
       "202c8708b3ed415e943eade0a8e5bfb0ce7ceaf93fcc462...                 764   \n",
       "36f2768e6fcac2041cd5604315cab62bc02c808f1ddb349...                 256   \n",
       "3daea00c3d9d2530c840254c6fa6fc3c14837681269a873...                  51   \n",
       "4a899897e0eeacbb0df34904b6fa75a5560c1b305051f4b...                   0   \n",
       "\n",
       "                                                    sum(reply_count)  \\\n",
       "userid                                                                 \n",
       "1cf2f6f6e0e87b7856deda07f1f4ba15dba59fe610283cb...                 0   \n",
       "202c8708b3ed415e943eade0a8e5bfb0ce7ceaf93fcc462...                 7   \n",
       "36f2768e6fcac2041cd5604315cab62bc02c808f1ddb349...                62   \n",
       "3daea00c3d9d2530c840254c6fa6fc3c14837681269a873...                89   \n",
       "4a899897e0eeacbb0df34904b6fa75a5560c1b305051f4b...                 0   \n",
       "\n",
       "                                                    sum(quote_count)  \\\n",
       "userid                                                                 \n",
       "1cf2f6f6e0e87b7856deda07f1f4ba15dba59fe610283cb...                 0   \n",
       "202c8708b3ed415e943eade0a8e5bfb0ce7ceaf93fcc462...                 0   \n",
       "36f2768e6fcac2041cd5604315cab62bc02c808f1ddb349...                17   \n",
       "3daea00c3d9d2530c840254c6fa6fc3c14837681269a873...                 3   \n",
       "4a899897e0eeacbb0df34904b6fa75a5560c1b305051f4b...                 0   \n",
       "\n",
       "                                                    retweets  \\\n",
       "userid                                                         \n",
       "1cf2f6f6e0e87b7856deda07f1f4ba15dba59fe610283cb...         0   \n",
       "202c8708b3ed415e943eade0a8e5bfb0ce7ceaf93fcc462...      6111   \n",
       "36f2768e6fcac2041cd5604315cab62bc02c808f1ddb349...      2263   \n",
       "3daea00c3d9d2530c840254c6fa6fc3c14837681269a873...        80   \n",
       "4a899897e0eeacbb0df34904b6fa75a5560c1b305051f4b...        10   \n",
       "\n",
       "                                                    retweeted_by_trolls  \\\n",
       "userid                                                                    \n",
       "1cf2f6f6e0e87b7856deda07f1f4ba15dba59fe610283cb...                    0   \n",
       "202c8708b3ed415e943eade0a8e5bfb0ce7ceaf93fcc462...                  678   \n",
       "36f2768e6fcac2041cd5604315cab62bc02c808f1ddb349...                   53   \n",
       "3daea00c3d9d2530c840254c6fa6fc3c14837681269a873...                    0   \n",
       "4a899897e0eeacbb0df34904b6fa75a5560c1b305051f4b...                    0   \n",
       "\n",
       "                                                    retweets_of_troll  \\\n",
       "userid                                                                  \n",
       "1cf2f6f6e0e87b7856deda07f1f4ba15dba59fe610283cb...                  0   \n",
       "202c8708b3ed415e943eade0a8e5bfb0ce7ceaf93fcc462...               3226   \n",
       "36f2768e6fcac2041cd5604315cab62bc02c808f1ddb349...                322   \n",
       "3daea00c3d9d2530c840254c6fa6fc3c14837681269a873...                  0   \n",
       "4a899897e0eeacbb0df34904b6fa75a5560c1b305051f4b...                  0   \n",
       "\n",
       "                                                    number_of_replies  \\\n",
       "userid                                                                  \n",
       "1cf2f6f6e0e87b7856deda07f1f4ba15dba59fe610283cb...                  0   \n",
       "202c8708b3ed415e943eade0a8e5bfb0ce7ceaf93fcc462...                 53   \n",
       "36f2768e6fcac2041cd5604315cab62bc02c808f1ddb349...                 18   \n",
       "3daea00c3d9d2530c840254c6fa6fc3c14837681269a873...                228   \n",
       "4a899897e0eeacbb0df34904b6fa75a5560c1b305051f4b...                  0   \n",
       "\n",
       "                                                    replies_by_trolls  \\\n",
       "userid                                                                  \n",
       "1cf2f6f6e0e87b7856deda07f1f4ba15dba59fe610283cb...                  0   \n",
       "202c8708b3ed415e943eade0a8e5bfb0ce7ceaf93fcc462...                  2   \n",
       "36f2768e6fcac2041cd5604315cab62bc02c808f1ddb349...                  1   \n",
       "3daea00c3d9d2530c840254c6fa6fc3c14837681269a873...                  0   \n",
       "4a899897e0eeacbb0df34904b6fa75a5560c1b305051f4b...                  0   \n",
       "\n",
       "                                                    replies_to_trolls  \\\n",
       "userid                                                                  \n",
       "1cf2f6f6e0e87b7856deda07f1f4ba15dba59fe610283cb...                  0   \n",
       "202c8708b3ed415e943eade0a8e5bfb0ce7ceaf93fcc462...                 52   \n",
       "36f2768e6fcac2041cd5604315cab62bc02c808f1ddb349...                  0   \n",
       "3daea00c3d9d2530c840254c6fa6fc3c14837681269a873...                  0   \n",
       "4a899897e0eeacbb0df34904b6fa75a5560c1b305051f4b...                  0   \n",
       "\n",
       "                                                    quote_tweets  \\\n",
       "userid                                                             \n",
       "1cf2f6f6e0e87b7856deda07f1f4ba15dba59fe610283cb...             0   \n",
       "202c8708b3ed415e943eade0a8e5bfb0ce7ceaf93fcc462...             0   \n",
       "36f2768e6fcac2041cd5604315cab62bc02c808f1ddb349...            44   \n",
       "3daea00c3d9d2530c840254c6fa6fc3c14837681269a873...             3   \n",
       "4a899897e0eeacbb0df34904b6fa75a5560c1b305051f4b...             0   \n",
       "\n",
       "                                                    quoted_by_trolls  \\\n",
       "userid                                                                 \n",
       "1cf2f6f6e0e87b7856deda07f1f4ba15dba59fe610283cb...                 0   \n",
       "202c8708b3ed415e943eade0a8e5bfb0ce7ceaf93fcc462...                 0   \n",
       "36f2768e6fcac2041cd5604315cab62bc02c808f1ddb349...                 1   \n",
       "3daea00c3d9d2530c840254c6fa6fc3c14837681269a873...                 0   \n",
       "4a899897e0eeacbb0df34904b6fa75a5560c1b305051f4b...                 0   \n",
       "\n",
       "                                                    quoted_a_troll  \n",
       "userid                                                              \n",
       "1cf2f6f6e0e87b7856deda07f1f4ba15dba59fe610283cb...               0  \n",
       "202c8708b3ed415e943eade0a8e5bfb0ce7ceaf93fcc462...               0  \n",
       "36f2768e6fcac2041cd5604315cab62bc02c808f1ddb349...               3  \n",
       "3daea00c3d9d2530c840254c6fa6fc3c14837681269a873...               0  \n",
       "4a899897e0eeacbb0df34904b6fa75a5560c1b305051f4b...               0  "
      ]
     },
     "execution_count": 13,
     "metadata": {},
     "output_type": "execute_result"
    }
   ],
   "source": [
    "interactions_df = user_interactions.toPandas().set_index(\"userid\")\n",
    "interactions_df.head(5)"
   ]
  },
  {
   "cell_type": "code",
   "execution_count": 247,
   "metadata": {},
   "outputs": [
    {
     "data": {
      "text/html": [
       "<div>\n",
       "<style scoped>\n",
       "    .dataframe tbody tr th:only-of-type {\n",
       "        vertical-align: middle;\n",
       "    }\n",
       "\n",
       "    .dataframe tbody tr th {\n",
       "        vertical-align: top;\n",
       "    }\n",
       "\n",
       "    .dataframe thead th {\n",
       "        text-align: right;\n",
       "    }\n",
       "</style>\n",
       "<table border=\"1\" class=\"dataframe\">\n",
       "  <thead>\n",
       "    <tr style=\"text-align: right;\">\n",
       "      <th></th>\n",
       "      <th>count(tweetid)</th>\n",
       "      <th>sum(retweet_count)</th>\n",
       "      <th>sum(reply_count)</th>\n",
       "      <th>sum(quote_count)</th>\n",
       "      <th>retweets</th>\n",
       "      <th>retweeted_by_trolls</th>\n",
       "      <th>retweets_of_troll</th>\n",
       "      <th>number_of_replies</th>\n",
       "      <th>replies_by_trolls</th>\n",
       "      <th>replies_to_trolls</th>\n",
       "      <th>quote_tweets</th>\n",
       "      <th>quoted_by_trolls</th>\n",
       "      <th>quoted_a_troll</th>\n",
       "    </tr>\n",
       "    <tr>\n",
       "      <th>language</th>\n",
       "      <th></th>\n",
       "      <th></th>\n",
       "      <th></th>\n",
       "      <th></th>\n",
       "      <th></th>\n",
       "      <th></th>\n",
       "      <th></th>\n",
       "      <th></th>\n",
       "      <th></th>\n",
       "      <th></th>\n",
       "      <th></th>\n",
       "      <th></th>\n",
       "      <th></th>\n",
       "    </tr>\n",
       "  </thead>\n",
       "  <tbody>\n",
       "    <tr>\n",
       "      <th>ar</th>\n",
       "      <td>3452</td>\n",
       "      <td>344</td>\n",
       "      <td>193</td>\n",
       "      <td>0</td>\n",
       "      <td>590</td>\n",
       "      <td>2</td>\n",
       "      <td>65</td>\n",
       "      <td>1617</td>\n",
       "      <td>8</td>\n",
       "      <td>3</td>\n",
       "      <td>162</td>\n",
       "      <td>1</td>\n",
       "      <td>0</td>\n",
       "    </tr>\n",
       "    <tr>\n",
       "      <th>de</th>\n",
       "      <td>102657</td>\n",
       "      <td>70081</td>\n",
       "      <td>15051</td>\n",
       "      <td>8736</td>\n",
       "      <td>12550</td>\n",
       "      <td>1316</td>\n",
       "      <td>1271</td>\n",
       "      <td>2035</td>\n",
       "      <td>359</td>\n",
       "      <td>359</td>\n",
       "      <td>1144</td>\n",
       "      <td>54</td>\n",
       "      <td>54</td>\n",
       "    </tr>\n",
       "    <tr>\n",
       "      <th>en</th>\n",
       "      <td>4608003</td>\n",
       "      <td>23066172</td>\n",
       "      <td>1773081</td>\n",
       "      <td>1667743</td>\n",
       "      <td>1711236</td>\n",
       "      <td>368552</td>\n",
       "      <td>305737</td>\n",
       "      <td>133147</td>\n",
       "      <td>17323</td>\n",
       "      <td>19525</td>\n",
       "      <td>157600</td>\n",
       "      <td>14064</td>\n",
       "      <td>13962</td>\n",
       "    </tr>\n",
       "    <tr>\n",
       "      <th>en-gb</th>\n",
       "      <td>21494</td>\n",
       "      <td>68453</td>\n",
       "      <td>3575</td>\n",
       "      <td>1561</td>\n",
       "      <td>1849</td>\n",
       "      <td>8016</td>\n",
       "      <td>599</td>\n",
       "      <td>23</td>\n",
       "      <td>456</td>\n",
       "      <td>2</td>\n",
       "      <td>1</td>\n",
       "      <td>3</td>\n",
       "      <td>0</td>\n",
       "    </tr>\n",
       "    <tr>\n",
       "      <th>es</th>\n",
       "      <td>285044</td>\n",
       "      <td>103021</td>\n",
       "      <td>15310</td>\n",
       "      <td>9207</td>\n",
       "      <td>860</td>\n",
       "      <td>263</td>\n",
       "      <td>256</td>\n",
       "      <td>1</td>\n",
       "      <td>0</td>\n",
       "      <td>0</td>\n",
       "      <td>10702</td>\n",
       "      <td>34</td>\n",
       "      <td>114</td>\n",
       "    </tr>\n",
       "    <tr>\n",
       "      <th>fr</th>\n",
       "      <td>1409</td>\n",
       "      <td>72</td>\n",
       "      <td>21</td>\n",
       "      <td>1</td>\n",
       "      <td>265</td>\n",
       "      <td>0</td>\n",
       "      <td>0</td>\n",
       "      <td>46</td>\n",
       "      <td>0</td>\n",
       "      <td>0</td>\n",
       "      <td>39</td>\n",
       "      <td>0</td>\n",
       "      <td>0</td>\n",
       "    </tr>\n",
       "    <tr>\n",
       "      <th>id</th>\n",
       "      <td>22966</td>\n",
       "      <td>155</td>\n",
       "      <td>68</td>\n",
       "      <td>6</td>\n",
       "      <td>0</td>\n",
       "      <td>0</td>\n",
       "      <td>0</td>\n",
       "      <td>0</td>\n",
       "      <td>0</td>\n",
       "      <td>0</td>\n",
       "      <td>1</td>\n",
       "      <td>0</td>\n",
       "      <td>0</td>\n",
       "    </tr>\n",
       "    <tr>\n",
       "      <th>it</th>\n",
       "      <td>13105</td>\n",
       "      <td>0</td>\n",
       "      <td>4</td>\n",
       "      <td>0</td>\n",
       "      <td>13098</td>\n",
       "      <td>0</td>\n",
       "      <td>0</td>\n",
       "      <td>0</td>\n",
       "      <td>0</td>\n",
       "      <td>0</td>\n",
       "      <td>106</td>\n",
       "      <td>0</td>\n",
       "      <td>0</td>\n",
       "    </tr>\n",
       "    <tr>\n",
       "      <th>ru</th>\n",
       "      <td>3953675</td>\n",
       "      <td>7940616</td>\n",
       "      <td>730729</td>\n",
       "      <td>104105</td>\n",
       "      <td>1592734</td>\n",
       "      <td>522156</td>\n",
       "      <td>592377</td>\n",
       "      <td>129339</td>\n",
       "      <td>26370</td>\n",
       "      <td>24627</td>\n",
       "      <td>18112</td>\n",
       "      <td>685</td>\n",
       "      <td>711</td>\n",
       "    </tr>\n",
       "    <tr>\n",
       "      <th>uk</th>\n",
       "      <td>90</td>\n",
       "      <td>1</td>\n",
       "      <td>0</td>\n",
       "      <td>0</td>\n",
       "      <td>1</td>\n",
       "      <td>0</td>\n",
       "      <td>0</td>\n",
       "      <td>0</td>\n",
       "      <td>0</td>\n",
       "      <td>0</td>\n",
       "      <td>0</td>\n",
       "      <td>0</td>\n",
       "      <td>0</td>\n",
       "    </tr>\n",
       "    <tr>\n",
       "      <th>zh-cn</th>\n",
       "      <td>29413</td>\n",
       "      <td>1620</td>\n",
       "      <td>2223</td>\n",
       "      <td>0</td>\n",
       "      <td>1</td>\n",
       "      <td>0</td>\n",
       "      <td>0</td>\n",
       "      <td>0</td>\n",
       "      <td>0</td>\n",
       "      <td>0</td>\n",
       "      <td>46</td>\n",
       "      <td>0</td>\n",
       "      <td>0</td>\n",
       "    </tr>\n",
       "  </tbody>\n",
       "</table>\n",
       "</div>"
      ],
      "text/plain": [
       "          count(tweetid)  sum(retweet_count)  sum(reply_count)  \\\n",
       "language                                                         \n",
       "ar                  3452                 344               193   \n",
       "de                102657               70081             15051   \n",
       "en               4608003            23066172           1773081   \n",
       "en-gb              21494               68453              3575   \n",
       "es                285044              103021             15310   \n",
       "fr                  1409                  72                21   \n",
       "id                 22966                 155                68   \n",
       "it                 13105                   0                 4   \n",
       "ru               3953675             7940616            730729   \n",
       "uk                    90                   1                 0   \n",
       "zh-cn              29413                1620              2223   \n",
       "\n",
       "          sum(quote_count)  retweets  retweeted_by_trolls  retweets_of_troll  \\\n",
       "language                                                                       \n",
       "ar                       0       590                    2                 65   \n",
       "de                    8736     12550                 1316               1271   \n",
       "en                 1667743   1711236               368552             305737   \n",
       "en-gb                 1561      1849                 8016                599   \n",
       "es                    9207       860                  263                256   \n",
       "fr                       1       265                    0                  0   \n",
       "id                       6         0                    0                  0   \n",
       "it                       0     13098                    0                  0   \n",
       "ru                  104105   1592734               522156             592377   \n",
       "uk                       0         1                    0                  0   \n",
       "zh-cn                    0         1                    0                  0   \n",
       "\n",
       "          number_of_replies  replies_by_trolls  replies_to_trolls  \\\n",
       "language                                                            \n",
       "ar                     1617                  8                  3   \n",
       "de                     2035                359                359   \n",
       "en                   133147              17323              19525   \n",
       "en-gb                    23                456                  2   \n",
       "es                        1                  0                  0   \n",
       "fr                       46                  0                  0   \n",
       "id                        0                  0                  0   \n",
       "it                        0                  0                  0   \n",
       "ru                   129339              26370              24627   \n",
       "uk                        0                  0                  0   \n",
       "zh-cn                     0                  0                  0   \n",
       "\n",
       "          quote_tweets  quoted_by_trolls  quoted_a_troll  \n",
       "language                                                  \n",
       "ar                 162                 1               0  \n",
       "de                1144                54              54  \n",
       "en              157600             14064           13962  \n",
       "en-gb                1                 3               0  \n",
       "es               10702                34             114  \n",
       "fr                  39                 0               0  \n",
       "id                   1                 0               0  \n",
       "it                 106                 0               0  \n",
       "ru               18112               685             711  \n",
       "uk                   0                 0               0  \n",
       "zh-cn               46                 0               0  "
      ]
     },
     "execution_count": 247,
     "metadata": {},
     "output_type": "execute_result"
    }
   ],
   "source": [
    "interactions_df.groupby(\"language\").sum()"
   ]
  },
  {
   "cell_type": "markdown",
   "metadata": {},
   "source": [
    "### Total user interactions"
   ]
  },
  {
   "cell_type": "code",
   "execution_count": 14,
   "metadata": {},
   "outputs": [
    {
     "data": {
      "text/html": [
       "<div>\n",
       "<style scoped>\n",
       "    .dataframe tbody tr th:only-of-type {\n",
       "        vertical-align: middle;\n",
       "    }\n",
       "\n",
       "    .dataframe tbody tr th {\n",
       "        vertical-align: top;\n",
       "    }\n",
       "\n",
       "    .dataframe thead th {\n",
       "        text-align: right;\n",
       "    }\n",
       "</style>\n",
       "<table border=\"1\" class=\"dataframe\">\n",
       "  <thead>\n",
       "    <tr style=\"text-align: right;\">\n",
       "      <th></th>\n",
       "      <th>language</th>\n",
       "      <th>count(tweetid)</th>\n",
       "      <th>sum(retweet_count)</th>\n",
       "      <th>sum(reply_count)</th>\n",
       "      <th>sum(quote_count)</th>\n",
       "      <th>retweets</th>\n",
       "      <th>retweeted_by_trolls</th>\n",
       "      <th>retweets_of_troll</th>\n",
       "      <th>number_of_replies</th>\n",
       "      <th>replies_by_trolls</th>\n",
       "      <th>...</th>\n",
       "      <th>quote_tweets</th>\n",
       "      <th>quoted_by_trolls</th>\n",
       "      <th>quoted_a_troll</th>\n",
       "      <th>Total_reactions_from_trolls</th>\n",
       "      <th>Total_reactions_to_trolls</th>\n",
       "      <th>Total_interactions</th>\n",
       "      <th>Total_times_interacted_with</th>\n",
       "      <th>Ratio_reactions_to_trolls</th>\n",
       "      <th>Ratio_reactions_from_trolls</th>\n",
       "      <th>Ratio_interaction_with_trolls</th>\n",
       "    </tr>\n",
       "    <tr>\n",
       "      <th>userid</th>\n",
       "      <th></th>\n",
       "      <th></th>\n",
       "      <th></th>\n",
       "      <th></th>\n",
       "      <th></th>\n",
       "      <th></th>\n",
       "      <th></th>\n",
       "      <th></th>\n",
       "      <th></th>\n",
       "      <th></th>\n",
       "      <th></th>\n",
       "      <th></th>\n",
       "      <th></th>\n",
       "      <th></th>\n",
       "      <th></th>\n",
       "      <th></th>\n",
       "      <th></th>\n",
       "      <th></th>\n",
       "      <th></th>\n",
       "      <th></th>\n",
       "      <th></th>\n",
       "    </tr>\n",
       "  </thead>\n",
       "  <tbody>\n",
       "    <tr>\n",
       "      <th>9517e09eeb67a37282972f2cf008232a12a599ce5668a1c576aeea2595218d4b</th>\n",
       "      <td>en</td>\n",
       "      <td>304</td>\n",
       "      <td>0</td>\n",
       "      <td>1</td>\n",
       "      <td>0</td>\n",
       "      <td>1</td>\n",
       "      <td>0</td>\n",
       "      <td>1</td>\n",
       "      <td>0</td>\n",
       "      <td>0</td>\n",
       "      <td>...</td>\n",
       "      <td>0</td>\n",
       "      <td>0</td>\n",
       "      <td>0</td>\n",
       "      <td>0</td>\n",
       "      <td>1</td>\n",
       "      <td>1</td>\n",
       "      <td>1</td>\n",
       "      <td>0.003289</td>\n",
       "      <td>0.000000</td>\n",
       "      <td>1.0</td>\n",
       "    </tr>\n",
       "    <tr>\n",
       "      <th>0e082da92a7b3629b1d1cd21c31f3277acf9858b7842453810a7809d6a1bf3b5</th>\n",
       "      <td>en</td>\n",
       "      <td>336</td>\n",
       "      <td>12</td>\n",
       "      <td>1</td>\n",
       "      <td>0</td>\n",
       "      <td>13</td>\n",
       "      <td>10</td>\n",
       "      <td>13</td>\n",
       "      <td>0</td>\n",
       "      <td>0</td>\n",
       "      <td>...</td>\n",
       "      <td>0</td>\n",
       "      <td>0</td>\n",
       "      <td>0</td>\n",
       "      <td>10</td>\n",
       "      <td>13</td>\n",
       "      <td>13</td>\n",
       "      <td>13</td>\n",
       "      <td>0.038690</td>\n",
       "      <td>0.769231</td>\n",
       "      <td>1.0</td>\n",
       "    </tr>\n",
       "    <tr>\n",
       "      <th>f89b723499511b0b5621e3add659a0887be0fd0ba4caff151c3cf2691440b426</th>\n",
       "      <td>ru</td>\n",
       "      <td>3559</td>\n",
       "      <td>31</td>\n",
       "      <td>9</td>\n",
       "      <td>1</td>\n",
       "      <td>75</td>\n",
       "      <td>0</td>\n",
       "      <td>75</td>\n",
       "      <td>0</td>\n",
       "      <td>0</td>\n",
       "      <td>...</td>\n",
       "      <td>0</td>\n",
       "      <td>0</td>\n",
       "      <td>0</td>\n",
       "      <td>0</td>\n",
       "      <td>75</td>\n",
       "      <td>75</td>\n",
       "      <td>41</td>\n",
       "      <td>0.021073</td>\n",
       "      <td>0.000000</td>\n",
       "      <td>1.0</td>\n",
       "    </tr>\n",
       "    <tr>\n",
       "      <th>1faa1319a9c2539731e5eea4c48036e69393a1fefe644ce480ae9b6e511d6f75</th>\n",
       "      <td>en</td>\n",
       "      <td>435</td>\n",
       "      <td>0</td>\n",
       "      <td>3</td>\n",
       "      <td>0</td>\n",
       "      <td>2</td>\n",
       "      <td>0</td>\n",
       "      <td>2</td>\n",
       "      <td>0</td>\n",
       "      <td>0</td>\n",
       "      <td>...</td>\n",
       "      <td>0</td>\n",
       "      <td>0</td>\n",
       "      <td>0</td>\n",
       "      <td>0</td>\n",
       "      <td>2</td>\n",
       "      <td>2</td>\n",
       "      <td>3</td>\n",
       "      <td>0.004598</td>\n",
       "      <td>0.000000</td>\n",
       "      <td>1.0</td>\n",
       "    </tr>\n",
       "    <tr>\n",
       "      <th>19c3780ee74251c5fc9e5a5e5129dc3b8d3816dbf7a8a1d698e4f1d5a49fc5c8</th>\n",
       "      <td>ru</td>\n",
       "      <td>7387</td>\n",
       "      <td>129</td>\n",
       "      <td>11</td>\n",
       "      <td>5</td>\n",
       "      <td>77</td>\n",
       "      <td>0</td>\n",
       "      <td>77</td>\n",
       "      <td>0</td>\n",
       "      <td>0</td>\n",
       "      <td>...</td>\n",
       "      <td>0</td>\n",
       "      <td>0</td>\n",
       "      <td>0</td>\n",
       "      <td>0</td>\n",
       "      <td>77</td>\n",
       "      <td>77</td>\n",
       "      <td>145</td>\n",
       "      <td>0.010424</td>\n",
       "      <td>0.000000</td>\n",
       "      <td>1.0</td>\n",
       "    </tr>\n",
       "    <tr>\n",
       "      <th>16f8c4b676bce3e976deaca42821c8849f234488967fda4cb1cd7fc5fdef6767</th>\n",
       "      <td>en</td>\n",
       "      <td>428</td>\n",
       "      <td>5</td>\n",
       "      <td>2</td>\n",
       "      <td>0</td>\n",
       "      <td>3</td>\n",
       "      <td>0</td>\n",
       "      <td>3</td>\n",
       "      <td>0</td>\n",
       "      <td>0</td>\n",
       "      <td>...</td>\n",
       "      <td>0</td>\n",
       "      <td>0</td>\n",
       "      <td>0</td>\n",
       "      <td>0</td>\n",
       "      <td>3</td>\n",
       "      <td>3</td>\n",
       "      <td>7</td>\n",
       "      <td>0.007009</td>\n",
       "      <td>0.000000</td>\n",
       "      <td>1.0</td>\n",
       "    </tr>\n",
       "    <tr>\n",
       "      <th>d291b85b92411ae679ddc39e27e9824f933edeb3e3a3ae497af8ff2ce64676e1</th>\n",
       "      <td>en</td>\n",
       "      <td>300</td>\n",
       "      <td>0</td>\n",
       "      <td>0</td>\n",
       "      <td>0</td>\n",
       "      <td>1</td>\n",
       "      <td>0</td>\n",
       "      <td>1</td>\n",
       "      <td>0</td>\n",
       "      <td>0</td>\n",
       "      <td>...</td>\n",
       "      <td>0</td>\n",
       "      <td>0</td>\n",
       "      <td>0</td>\n",
       "      <td>0</td>\n",
       "      <td>1</td>\n",
       "      <td>1</td>\n",
       "      <td>0</td>\n",
       "      <td>0.003333</td>\n",
       "      <td>NaN</td>\n",
       "      <td>1.0</td>\n",
       "    </tr>\n",
       "    <tr>\n",
       "      <th>f53718cfb6d0333d9d89b8af297735e32410a8823f38dd8541f33678fdd86daa</th>\n",
       "      <td>ru</td>\n",
       "      <td>11947</td>\n",
       "      <td>1288</td>\n",
       "      <td>119</td>\n",
       "      <td>35</td>\n",
       "      <td>2</td>\n",
       "      <td>2</td>\n",
       "      <td>2</td>\n",
       "      <td>0</td>\n",
       "      <td>0</td>\n",
       "      <td>...</td>\n",
       "      <td>0</td>\n",
       "      <td>1</td>\n",
       "      <td>0</td>\n",
       "      <td>3</td>\n",
       "      <td>2</td>\n",
       "      <td>2</td>\n",
       "      <td>1442</td>\n",
       "      <td>0.000167</td>\n",
       "      <td>0.002080</td>\n",
       "      <td>1.0</td>\n",
       "    </tr>\n",
       "    <tr>\n",
       "      <th>54f515c6e1a14eb41d34ee911f3a1a7268d67624e3a34e720b22f2d84ebe6558</th>\n",
       "      <td>ru</td>\n",
       "      <td>4448</td>\n",
       "      <td>317</td>\n",
       "      <td>25</td>\n",
       "      <td>6</td>\n",
       "      <td>73</td>\n",
       "      <td>0</td>\n",
       "      <td>73</td>\n",
       "      <td>0</td>\n",
       "      <td>0</td>\n",
       "      <td>...</td>\n",
       "      <td>0</td>\n",
       "      <td>0</td>\n",
       "      <td>0</td>\n",
       "      <td>0</td>\n",
       "      <td>73</td>\n",
       "      <td>73</td>\n",
       "      <td>348</td>\n",
       "      <td>0.016412</td>\n",
       "      <td>0.000000</td>\n",
       "      <td>1.0</td>\n",
       "    </tr>\n",
       "    <tr>\n",
       "      <th>f813a80d1ddb8fe57c7280fe083fcf5d201116ed2f42a1c4844eb1706ee13892</th>\n",
       "      <td>ru</td>\n",
       "      <td>4</td>\n",
       "      <td>0</td>\n",
       "      <td>0</td>\n",
       "      <td>0</td>\n",
       "      <td>1</td>\n",
       "      <td>0</td>\n",
       "      <td>1</td>\n",
       "      <td>2</td>\n",
       "      <td>0</td>\n",
       "      <td>...</td>\n",
       "      <td>0</td>\n",
       "      <td>0</td>\n",
       "      <td>0</td>\n",
       "      <td>0</td>\n",
       "      <td>3</td>\n",
       "      <td>3</td>\n",
       "      <td>0</td>\n",
       "      <td>0.750000</td>\n",
       "      <td>NaN</td>\n",
       "      <td>1.0</td>\n",
       "    </tr>\n",
       "  </tbody>\n",
       "</table>\n",
       "<p>10 rows × 21 columns</p>\n",
       "</div>"
      ],
      "text/plain": [
       "                                                   language  count(tweetid)  \\\n",
       "userid                                                                        \n",
       "9517e09eeb67a37282972f2cf008232a12a599ce5668a1c...       en             304   \n",
       "0e082da92a7b3629b1d1cd21c31f3277acf9858b7842453...       en             336   \n",
       "f89b723499511b0b5621e3add659a0887be0fd0ba4caff1...       ru            3559   \n",
       "1faa1319a9c2539731e5eea4c48036e69393a1fefe644ce...       en             435   \n",
       "19c3780ee74251c5fc9e5a5e5129dc3b8d3816dbf7a8a1d...       ru            7387   \n",
       "16f8c4b676bce3e976deaca42821c8849f234488967fda4...       en             428   \n",
       "d291b85b92411ae679ddc39e27e9824f933edeb3e3a3ae4...       en             300   \n",
       "f53718cfb6d0333d9d89b8af297735e32410a8823f38dd8...       ru           11947   \n",
       "54f515c6e1a14eb41d34ee911f3a1a7268d67624e3a34e7...       ru            4448   \n",
       "f813a80d1ddb8fe57c7280fe083fcf5d201116ed2f42a1c...       ru               4   \n",
       "\n",
       "                                                    sum(retweet_count)  \\\n",
       "userid                                                                   \n",
       "9517e09eeb67a37282972f2cf008232a12a599ce5668a1c...                   0   \n",
       "0e082da92a7b3629b1d1cd21c31f3277acf9858b7842453...                  12   \n",
       "f89b723499511b0b5621e3add659a0887be0fd0ba4caff1...                  31   \n",
       "1faa1319a9c2539731e5eea4c48036e69393a1fefe644ce...                   0   \n",
       "19c3780ee74251c5fc9e5a5e5129dc3b8d3816dbf7a8a1d...                 129   \n",
       "16f8c4b676bce3e976deaca42821c8849f234488967fda4...                   5   \n",
       "d291b85b92411ae679ddc39e27e9824f933edeb3e3a3ae4...                   0   \n",
       "f53718cfb6d0333d9d89b8af297735e32410a8823f38dd8...                1288   \n",
       "54f515c6e1a14eb41d34ee911f3a1a7268d67624e3a34e7...                 317   \n",
       "f813a80d1ddb8fe57c7280fe083fcf5d201116ed2f42a1c...                   0   \n",
       "\n",
       "                                                    sum(reply_count)  \\\n",
       "userid                                                                 \n",
       "9517e09eeb67a37282972f2cf008232a12a599ce5668a1c...                 1   \n",
       "0e082da92a7b3629b1d1cd21c31f3277acf9858b7842453...                 1   \n",
       "f89b723499511b0b5621e3add659a0887be0fd0ba4caff1...                 9   \n",
       "1faa1319a9c2539731e5eea4c48036e69393a1fefe644ce...                 3   \n",
       "19c3780ee74251c5fc9e5a5e5129dc3b8d3816dbf7a8a1d...                11   \n",
       "16f8c4b676bce3e976deaca42821c8849f234488967fda4...                 2   \n",
       "d291b85b92411ae679ddc39e27e9824f933edeb3e3a3ae4...                 0   \n",
       "f53718cfb6d0333d9d89b8af297735e32410a8823f38dd8...               119   \n",
       "54f515c6e1a14eb41d34ee911f3a1a7268d67624e3a34e7...                25   \n",
       "f813a80d1ddb8fe57c7280fe083fcf5d201116ed2f42a1c...                 0   \n",
       "\n",
       "                                                    sum(quote_count)  \\\n",
       "userid                                                                 \n",
       "9517e09eeb67a37282972f2cf008232a12a599ce5668a1c...                 0   \n",
       "0e082da92a7b3629b1d1cd21c31f3277acf9858b7842453...                 0   \n",
       "f89b723499511b0b5621e3add659a0887be0fd0ba4caff1...                 1   \n",
       "1faa1319a9c2539731e5eea4c48036e69393a1fefe644ce...                 0   \n",
       "19c3780ee74251c5fc9e5a5e5129dc3b8d3816dbf7a8a1d...                 5   \n",
       "16f8c4b676bce3e976deaca42821c8849f234488967fda4...                 0   \n",
       "d291b85b92411ae679ddc39e27e9824f933edeb3e3a3ae4...                 0   \n",
       "f53718cfb6d0333d9d89b8af297735e32410a8823f38dd8...                35   \n",
       "54f515c6e1a14eb41d34ee911f3a1a7268d67624e3a34e7...                 6   \n",
       "f813a80d1ddb8fe57c7280fe083fcf5d201116ed2f42a1c...                 0   \n",
       "\n",
       "                                                    retweets  \\\n",
       "userid                                                         \n",
       "9517e09eeb67a37282972f2cf008232a12a599ce5668a1c...         1   \n",
       "0e082da92a7b3629b1d1cd21c31f3277acf9858b7842453...        13   \n",
       "f89b723499511b0b5621e3add659a0887be0fd0ba4caff1...        75   \n",
       "1faa1319a9c2539731e5eea4c48036e69393a1fefe644ce...         2   \n",
       "19c3780ee74251c5fc9e5a5e5129dc3b8d3816dbf7a8a1d...        77   \n",
       "16f8c4b676bce3e976deaca42821c8849f234488967fda4...         3   \n",
       "d291b85b92411ae679ddc39e27e9824f933edeb3e3a3ae4...         1   \n",
       "f53718cfb6d0333d9d89b8af297735e32410a8823f38dd8...         2   \n",
       "54f515c6e1a14eb41d34ee911f3a1a7268d67624e3a34e7...        73   \n",
       "f813a80d1ddb8fe57c7280fe083fcf5d201116ed2f42a1c...         1   \n",
       "\n",
       "                                                    retweeted_by_trolls  \\\n",
       "userid                                                                    \n",
       "9517e09eeb67a37282972f2cf008232a12a599ce5668a1c...                    0   \n",
       "0e082da92a7b3629b1d1cd21c31f3277acf9858b7842453...                   10   \n",
       "f89b723499511b0b5621e3add659a0887be0fd0ba4caff1...                    0   \n",
       "1faa1319a9c2539731e5eea4c48036e69393a1fefe644ce...                    0   \n",
       "19c3780ee74251c5fc9e5a5e5129dc3b8d3816dbf7a8a1d...                    0   \n",
       "16f8c4b676bce3e976deaca42821c8849f234488967fda4...                    0   \n",
       "d291b85b92411ae679ddc39e27e9824f933edeb3e3a3ae4...                    0   \n",
       "f53718cfb6d0333d9d89b8af297735e32410a8823f38dd8...                    2   \n",
       "54f515c6e1a14eb41d34ee911f3a1a7268d67624e3a34e7...                    0   \n",
       "f813a80d1ddb8fe57c7280fe083fcf5d201116ed2f42a1c...                    0   \n",
       "\n",
       "                                                    retweets_of_troll  \\\n",
       "userid                                                                  \n",
       "9517e09eeb67a37282972f2cf008232a12a599ce5668a1c...                  1   \n",
       "0e082da92a7b3629b1d1cd21c31f3277acf9858b7842453...                 13   \n",
       "f89b723499511b0b5621e3add659a0887be0fd0ba4caff1...                 75   \n",
       "1faa1319a9c2539731e5eea4c48036e69393a1fefe644ce...                  2   \n",
       "19c3780ee74251c5fc9e5a5e5129dc3b8d3816dbf7a8a1d...                 77   \n",
       "16f8c4b676bce3e976deaca42821c8849f234488967fda4...                  3   \n",
       "d291b85b92411ae679ddc39e27e9824f933edeb3e3a3ae4...                  1   \n",
       "f53718cfb6d0333d9d89b8af297735e32410a8823f38dd8...                  2   \n",
       "54f515c6e1a14eb41d34ee911f3a1a7268d67624e3a34e7...                 73   \n",
       "f813a80d1ddb8fe57c7280fe083fcf5d201116ed2f42a1c...                  1   \n",
       "\n",
       "                                                    number_of_replies  \\\n",
       "userid                                                                  \n",
       "9517e09eeb67a37282972f2cf008232a12a599ce5668a1c...                  0   \n",
       "0e082da92a7b3629b1d1cd21c31f3277acf9858b7842453...                  0   \n",
       "f89b723499511b0b5621e3add659a0887be0fd0ba4caff1...                  0   \n",
       "1faa1319a9c2539731e5eea4c48036e69393a1fefe644ce...                  0   \n",
       "19c3780ee74251c5fc9e5a5e5129dc3b8d3816dbf7a8a1d...                  0   \n",
       "16f8c4b676bce3e976deaca42821c8849f234488967fda4...                  0   \n",
       "d291b85b92411ae679ddc39e27e9824f933edeb3e3a3ae4...                  0   \n",
       "f53718cfb6d0333d9d89b8af297735e32410a8823f38dd8...                  0   \n",
       "54f515c6e1a14eb41d34ee911f3a1a7268d67624e3a34e7...                  0   \n",
       "f813a80d1ddb8fe57c7280fe083fcf5d201116ed2f42a1c...                  2   \n",
       "\n",
       "                                                    replies_by_trolls  \\\n",
       "userid                                                                  \n",
       "9517e09eeb67a37282972f2cf008232a12a599ce5668a1c...                  0   \n",
       "0e082da92a7b3629b1d1cd21c31f3277acf9858b7842453...                  0   \n",
       "f89b723499511b0b5621e3add659a0887be0fd0ba4caff1...                  0   \n",
       "1faa1319a9c2539731e5eea4c48036e69393a1fefe644ce...                  0   \n",
       "19c3780ee74251c5fc9e5a5e5129dc3b8d3816dbf7a8a1d...                  0   \n",
       "16f8c4b676bce3e976deaca42821c8849f234488967fda4...                  0   \n",
       "d291b85b92411ae679ddc39e27e9824f933edeb3e3a3ae4...                  0   \n",
       "f53718cfb6d0333d9d89b8af297735e32410a8823f38dd8...                  0   \n",
       "54f515c6e1a14eb41d34ee911f3a1a7268d67624e3a34e7...                  0   \n",
       "f813a80d1ddb8fe57c7280fe083fcf5d201116ed2f42a1c...                  0   \n",
       "\n",
       "                                                                ...                \\\n",
       "userid                                                          ...                 \n",
       "9517e09eeb67a37282972f2cf008232a12a599ce5668a1c...              ...                 \n",
       "0e082da92a7b3629b1d1cd21c31f3277acf9858b7842453...              ...                 \n",
       "f89b723499511b0b5621e3add659a0887be0fd0ba4caff1...              ...                 \n",
       "1faa1319a9c2539731e5eea4c48036e69393a1fefe644ce...              ...                 \n",
       "19c3780ee74251c5fc9e5a5e5129dc3b8d3816dbf7a8a1d...              ...                 \n",
       "16f8c4b676bce3e976deaca42821c8849f234488967fda4...              ...                 \n",
       "d291b85b92411ae679ddc39e27e9824f933edeb3e3a3ae4...              ...                 \n",
       "f53718cfb6d0333d9d89b8af297735e32410a8823f38dd8...              ...                 \n",
       "54f515c6e1a14eb41d34ee911f3a1a7268d67624e3a34e7...              ...                 \n",
       "f813a80d1ddb8fe57c7280fe083fcf5d201116ed2f42a1c...              ...                 \n",
       "\n",
       "                                                    quote_tweets  \\\n",
       "userid                                                             \n",
       "9517e09eeb67a37282972f2cf008232a12a599ce5668a1c...             0   \n",
       "0e082da92a7b3629b1d1cd21c31f3277acf9858b7842453...             0   \n",
       "f89b723499511b0b5621e3add659a0887be0fd0ba4caff1...             0   \n",
       "1faa1319a9c2539731e5eea4c48036e69393a1fefe644ce...             0   \n",
       "19c3780ee74251c5fc9e5a5e5129dc3b8d3816dbf7a8a1d...             0   \n",
       "16f8c4b676bce3e976deaca42821c8849f234488967fda4...             0   \n",
       "d291b85b92411ae679ddc39e27e9824f933edeb3e3a3ae4...             0   \n",
       "f53718cfb6d0333d9d89b8af297735e32410a8823f38dd8...             0   \n",
       "54f515c6e1a14eb41d34ee911f3a1a7268d67624e3a34e7...             0   \n",
       "f813a80d1ddb8fe57c7280fe083fcf5d201116ed2f42a1c...             0   \n",
       "\n",
       "                                                    quoted_by_trolls  \\\n",
       "userid                                                                 \n",
       "9517e09eeb67a37282972f2cf008232a12a599ce5668a1c...                 0   \n",
       "0e082da92a7b3629b1d1cd21c31f3277acf9858b7842453...                 0   \n",
       "f89b723499511b0b5621e3add659a0887be0fd0ba4caff1...                 0   \n",
       "1faa1319a9c2539731e5eea4c48036e69393a1fefe644ce...                 0   \n",
       "19c3780ee74251c5fc9e5a5e5129dc3b8d3816dbf7a8a1d...                 0   \n",
       "16f8c4b676bce3e976deaca42821c8849f234488967fda4...                 0   \n",
       "d291b85b92411ae679ddc39e27e9824f933edeb3e3a3ae4...                 0   \n",
       "f53718cfb6d0333d9d89b8af297735e32410a8823f38dd8...                 1   \n",
       "54f515c6e1a14eb41d34ee911f3a1a7268d67624e3a34e7...                 0   \n",
       "f813a80d1ddb8fe57c7280fe083fcf5d201116ed2f42a1c...                 0   \n",
       "\n",
       "                                                    quoted_a_troll  \\\n",
       "userid                                                               \n",
       "9517e09eeb67a37282972f2cf008232a12a599ce5668a1c...               0   \n",
       "0e082da92a7b3629b1d1cd21c31f3277acf9858b7842453...               0   \n",
       "f89b723499511b0b5621e3add659a0887be0fd0ba4caff1...               0   \n",
       "1faa1319a9c2539731e5eea4c48036e69393a1fefe644ce...               0   \n",
       "19c3780ee74251c5fc9e5a5e5129dc3b8d3816dbf7a8a1d...               0   \n",
       "16f8c4b676bce3e976deaca42821c8849f234488967fda4...               0   \n",
       "d291b85b92411ae679ddc39e27e9824f933edeb3e3a3ae4...               0   \n",
       "f53718cfb6d0333d9d89b8af297735e32410a8823f38dd8...               0   \n",
       "54f515c6e1a14eb41d34ee911f3a1a7268d67624e3a34e7...               0   \n",
       "f813a80d1ddb8fe57c7280fe083fcf5d201116ed2f42a1c...               0   \n",
       "\n",
       "                                                    Total_reactions_from_trolls  \\\n",
       "userid                                                                            \n",
       "9517e09eeb67a37282972f2cf008232a12a599ce5668a1c...                            0   \n",
       "0e082da92a7b3629b1d1cd21c31f3277acf9858b7842453...                           10   \n",
       "f89b723499511b0b5621e3add659a0887be0fd0ba4caff1...                            0   \n",
       "1faa1319a9c2539731e5eea4c48036e69393a1fefe644ce...                            0   \n",
       "19c3780ee74251c5fc9e5a5e5129dc3b8d3816dbf7a8a1d...                            0   \n",
       "16f8c4b676bce3e976deaca42821c8849f234488967fda4...                            0   \n",
       "d291b85b92411ae679ddc39e27e9824f933edeb3e3a3ae4...                            0   \n",
       "f53718cfb6d0333d9d89b8af297735e32410a8823f38dd8...                            3   \n",
       "54f515c6e1a14eb41d34ee911f3a1a7268d67624e3a34e7...                            0   \n",
       "f813a80d1ddb8fe57c7280fe083fcf5d201116ed2f42a1c...                            0   \n",
       "\n",
       "                                                    Total_reactions_to_trolls  \\\n",
       "userid                                                                          \n",
       "9517e09eeb67a37282972f2cf008232a12a599ce5668a1c...                          1   \n",
       "0e082da92a7b3629b1d1cd21c31f3277acf9858b7842453...                         13   \n",
       "f89b723499511b0b5621e3add659a0887be0fd0ba4caff1...                         75   \n",
       "1faa1319a9c2539731e5eea4c48036e69393a1fefe644ce...                          2   \n",
       "19c3780ee74251c5fc9e5a5e5129dc3b8d3816dbf7a8a1d...                         77   \n",
       "16f8c4b676bce3e976deaca42821c8849f234488967fda4...                          3   \n",
       "d291b85b92411ae679ddc39e27e9824f933edeb3e3a3ae4...                          1   \n",
       "f53718cfb6d0333d9d89b8af297735e32410a8823f38dd8...                          2   \n",
       "54f515c6e1a14eb41d34ee911f3a1a7268d67624e3a34e7...                         73   \n",
       "f813a80d1ddb8fe57c7280fe083fcf5d201116ed2f42a1c...                          3   \n",
       "\n",
       "                                                    Total_interactions  \\\n",
       "userid                                                                   \n",
       "9517e09eeb67a37282972f2cf008232a12a599ce5668a1c...                   1   \n",
       "0e082da92a7b3629b1d1cd21c31f3277acf9858b7842453...                  13   \n",
       "f89b723499511b0b5621e3add659a0887be0fd0ba4caff1...                  75   \n",
       "1faa1319a9c2539731e5eea4c48036e69393a1fefe644ce...                   2   \n",
       "19c3780ee74251c5fc9e5a5e5129dc3b8d3816dbf7a8a1d...                  77   \n",
       "16f8c4b676bce3e976deaca42821c8849f234488967fda4...                   3   \n",
       "d291b85b92411ae679ddc39e27e9824f933edeb3e3a3ae4...                   1   \n",
       "f53718cfb6d0333d9d89b8af297735e32410a8823f38dd8...                   2   \n",
       "54f515c6e1a14eb41d34ee911f3a1a7268d67624e3a34e7...                  73   \n",
       "f813a80d1ddb8fe57c7280fe083fcf5d201116ed2f42a1c...                   3   \n",
       "\n",
       "                                                    Total_times_interacted_with  \\\n",
       "userid                                                                            \n",
       "9517e09eeb67a37282972f2cf008232a12a599ce5668a1c...                            1   \n",
       "0e082da92a7b3629b1d1cd21c31f3277acf9858b7842453...                           13   \n",
       "f89b723499511b0b5621e3add659a0887be0fd0ba4caff1...                           41   \n",
       "1faa1319a9c2539731e5eea4c48036e69393a1fefe644ce...                            3   \n",
       "19c3780ee74251c5fc9e5a5e5129dc3b8d3816dbf7a8a1d...                          145   \n",
       "16f8c4b676bce3e976deaca42821c8849f234488967fda4...                            7   \n",
       "d291b85b92411ae679ddc39e27e9824f933edeb3e3a3ae4...                            0   \n",
       "f53718cfb6d0333d9d89b8af297735e32410a8823f38dd8...                         1442   \n",
       "54f515c6e1a14eb41d34ee911f3a1a7268d67624e3a34e7...                          348   \n",
       "f813a80d1ddb8fe57c7280fe083fcf5d201116ed2f42a1c...                            0   \n",
       "\n",
       "                                                    Ratio_reactions_to_trolls  \\\n",
       "userid                                                                          \n",
       "9517e09eeb67a37282972f2cf008232a12a599ce5668a1c...                   0.003289   \n",
       "0e082da92a7b3629b1d1cd21c31f3277acf9858b7842453...                   0.038690   \n",
       "f89b723499511b0b5621e3add659a0887be0fd0ba4caff1...                   0.021073   \n",
       "1faa1319a9c2539731e5eea4c48036e69393a1fefe644ce...                   0.004598   \n",
       "19c3780ee74251c5fc9e5a5e5129dc3b8d3816dbf7a8a1d...                   0.010424   \n",
       "16f8c4b676bce3e976deaca42821c8849f234488967fda4...                   0.007009   \n",
       "d291b85b92411ae679ddc39e27e9824f933edeb3e3a3ae4...                   0.003333   \n",
       "f53718cfb6d0333d9d89b8af297735e32410a8823f38dd8...                   0.000167   \n",
       "54f515c6e1a14eb41d34ee911f3a1a7268d67624e3a34e7...                   0.016412   \n",
       "f813a80d1ddb8fe57c7280fe083fcf5d201116ed2f42a1c...                   0.750000   \n",
       "\n",
       "                                                    Ratio_reactions_from_trolls  \\\n",
       "userid                                                                            \n",
       "9517e09eeb67a37282972f2cf008232a12a599ce5668a1c...                     0.000000   \n",
       "0e082da92a7b3629b1d1cd21c31f3277acf9858b7842453...                     0.769231   \n",
       "f89b723499511b0b5621e3add659a0887be0fd0ba4caff1...                     0.000000   \n",
       "1faa1319a9c2539731e5eea4c48036e69393a1fefe644ce...                     0.000000   \n",
       "19c3780ee74251c5fc9e5a5e5129dc3b8d3816dbf7a8a1d...                     0.000000   \n",
       "16f8c4b676bce3e976deaca42821c8849f234488967fda4...                     0.000000   \n",
       "d291b85b92411ae679ddc39e27e9824f933edeb3e3a3ae4...                          NaN   \n",
       "f53718cfb6d0333d9d89b8af297735e32410a8823f38dd8...                     0.002080   \n",
       "54f515c6e1a14eb41d34ee911f3a1a7268d67624e3a34e7...                     0.000000   \n",
       "f813a80d1ddb8fe57c7280fe083fcf5d201116ed2f42a1c...                          NaN   \n",
       "\n",
       "                                                    Ratio_interaction_with_trolls  \n",
       "userid                                                                             \n",
       "9517e09eeb67a37282972f2cf008232a12a599ce5668a1c...                            1.0  \n",
       "0e082da92a7b3629b1d1cd21c31f3277acf9858b7842453...                            1.0  \n",
       "f89b723499511b0b5621e3add659a0887be0fd0ba4caff1...                            1.0  \n",
       "1faa1319a9c2539731e5eea4c48036e69393a1fefe644ce...                            1.0  \n",
       "19c3780ee74251c5fc9e5a5e5129dc3b8d3816dbf7a8a1d...                            1.0  \n",
       "16f8c4b676bce3e976deaca42821c8849f234488967fda4...                            1.0  \n",
       "d291b85b92411ae679ddc39e27e9824f933edeb3e3a3ae4...                            1.0  \n",
       "f53718cfb6d0333d9d89b8af297735e32410a8823f38dd8...                            1.0  \n",
       "54f515c6e1a14eb41d34ee911f3a1a7268d67624e3a34e7...                            1.0  \n",
       "f813a80d1ddb8fe57c7280fe083fcf5d201116ed2f42a1c...                            1.0  \n",
       "\n",
       "[10 rows x 21 columns]"
      ]
     },
     "execution_count": 14,
     "metadata": {},
     "output_type": "execute_result"
    }
   ],
   "source": [
    "interactions_df[\"Total_reactions_from_trolls\"] = interactions_df[\"retweeted_by_trolls\"]+interactions_df[\"replies_by_trolls\"]+interactions_df[\"quoted_by_trolls\"]\n",
    "interactions_df[\"Total_reactions_to_trolls\"] = interactions_df[\"retweets_of_troll\"]+interactions_df[\"replies_to_trolls\"]+interactions_df[\"quoted_a_troll\"]\n",
    "interactions_df[\"Total_interactions\"]=interactions_df[\"retweets\"]+interactions_df[\"number_of_replies\"]+interactions_df[\"quote_tweets\"]\n",
    "interactions_df[\"Total_times_interacted_with\"]=(interactions_df[\"sum(retweet_count)\"]+interactions_df[\"sum(reply_count)\"]+interactions_df[\"sum(quote_count)\"])\n",
    "interactions_df[\"Ratio_reactions_to_trolls\"] = interactions_df[\"Total_reactions_to_trolls\"]/interactions_df[\"count(tweetid)\"]\n",
    "interactions_df[\"Ratio_reactions_from_trolls\"] = interactions_df[\"Total_reactions_from_trolls\"]/interactions_df[\"Total_times_interacted_with\"]\n",
    "interactions_df[\"Ratio_interaction_with_trolls\"] = interactions_df[\"Total_reactions_to_trolls\"]/interactions_df[\"Total_interactions\"]\n",
    "interactions_df = interactions_df.sort_values(\"Ratio_interaction_with_trolls\",ascending=False)\n",
    "\n",
    "interactions_df.head(10)"
   ]
  },
  {
   "cell_type": "code",
   "execution_count": 24,
   "metadata": {},
   "outputs": [],
   "source": [
    "interactions_df.to_parquet('interactions.parquet.gzip', compression='gzip')"
   ]
  },
  {
   "cell_type": "markdown",
   "metadata": {},
   "source": [
    "## visualisation"
   ]
  },
  {
   "cell_type": "markdown",
   "metadata": {},
   "source": [
    "**tweet count histogram**"
   ]
  },
  {
   "cell_type": "code",
   "execution_count": 21,
   "metadata": {},
   "outputs": [],
   "source": [
    "interactions_en = interactions_df[interactions_df[\"language\"]==\"en\"]"
   ]
  },
  {
   "cell_type": "markdown",
   "metadata": {},
   "source": [
    "Number of tweets per user:"
   ]
  },
  {
   "cell_type": "code",
   "execution_count": 22,
   "metadata": {},
   "outputs": [
    {
     "data": {
      "text/plain": [
       "array([[<matplotlib.axes._subplots.AxesSubplot object at 0x1a1411be10>]],\n",
       "      dtype=object)"
      ]
     },
     "execution_count": 22,
     "metadata": {},
     "output_type": "execute_result"
    },
    {
     "data": {
      "image/png": "[encoded data removed]",
      "text/plain": [
       "<matplotlib.figure.Figure at 0x1a140d5be0>"
      ]
     },
     "metadata": {},
     "output_type": "display_data"
    }
   ],
   "source": [
    "interactions_en[[\"count(tweetid)\"]].hist(bins=100, log =True, figsize = (15,9))\n"
   ]
  },
  {
   "cell_type": "markdown",
   "metadata": {},
   "source": [
    "**Total user interactions hist**"
   ]
  },
  {
   "cell_type": "markdown",
   "metadata": {},
   "source": [
    "We want to sort out the users that have tweeted less than ten times, since they can not be represented in statistics because of their low sample size."
   ]
  },
  {
   "cell_type": "code",
   "execution_count": 23,
   "metadata": {},
   "outputs": [
    {
     "data": {
      "text/plain": [
       "array([[<matplotlib.axes._subplots.AxesSubplot object at 0x1a144c0940>]],\n",
       "      dtype=object)"
      ]
     },
     "execution_count": 23,
     "metadata": {},
     "output_type": "execute_result"
    },
    {
     "data": {
      "image/png": "[encoded data removed]",
      "text/plain": [
       "<matplotlib.figure.Figure at 0x1a14190be0>"
      ]
     },
     "metadata": {},
     "output_type": "display_data"
    }
   ],
   "source": [
    "enough_tweets = interactions_en[interactions_en[\"count(tweetid)\"]>10]\n",
    "enough_tweets[[\"Total_reactions_to_trolls\"]].hist(bins=20, figsize=(8,6), xlabelsize=15, ylabelsize=15, log =True)\n"
   ]
  },
  {
   "cell_type": "markdown",
   "metadata": {},
   "source": [
    "**We see that most trolls rarely interact with users, although some of them react a whole lot to them**"
   ]
  },
  {
   "cell_type": "markdown",
   "metadata": {},
   "source": [
    "### Top interacting users"
   ]
  },
  {
   "cell_type": "code",
   "execution_count": 257,
   "metadata": {},
   "outputs": [
    {
     "data": {
      "text/plain": [
       "<matplotlib.axes._subplots.AxesSubplot at 0x1b11884e10>"
      ]
     },
     "execution_count": 257,
     "metadata": {},
     "output_type": "execute_result"
    },
    {
     "data": {
      "image/png": "[encoded data removed]",
      "text/plain": [
       "<matplotlib.figure.Figure at 0x1b104e08d0>"
      ]
     },
     "metadata": {},
     "output_type": "display_data"
    }
   ],
   "source": [
    "most_interacting = interactions_df.sort_values(\"Total_interactions\",ascending=False).head(10)\n",
    "most_interacting[\"Interactions_with_others\"]= 1-most_interacting[\"Ratio_reactions_to_trolls\"]\n",
    "most_interacting[[\"Interactions_with_others\",\"Ratio_reactions_to_trolls\"]].plot.bar(stacked=True)\n"
   ]
  },
  {
   "cell_type": "markdown",
   "metadata": {},
   "source": [
    "### Top interacted with users"
   ]
  },
  {
   "cell_type": "code",
   "execution_count": 260,
   "metadata": {},
   "outputs": [
    {
     "data": {
      "text/plain": [
       "<matplotlib.axes._subplots.AxesSubplot at 0x1b11c07898>"
      ]
     },
     "execution_count": 260,
     "metadata": {},
     "output_type": "execute_result"
    },
    {
     "data": {
      "image/png": "[encoded data removed]",
      "text/plain": [
       "<matplotlib.figure.Figure at 0x1b11c1d438>"
      ]
     },
     "metadata": {},
     "output_type": "display_data"
    }
   ],
   "source": [
    "most_interacted_with = interactions_df.sort_values(\"Total_times_interacted_with\",ascending=False).head(10)\n",
    "most_interacted_with[\"Interactions_from_others\"]= 1-most_interacted_with[\"Ratio_reactions_from_trolls\"]\n",
    "most_interacted_with[[\"Interactions_from_others\",\"Ratio_reactions_from_trolls\"]].plot.bar(stacked=True)"
   ]
  },
  {
   "cell_type": "markdown",
   "metadata": {},
   "source": [
    "### Tweets by "
   ]
  },
  {
   "cell_type": "code",
   "execution_count": null,
   "metadata": {},
   "outputs": [],
   "source": []
  },
  {
   "cell_type": "code",
   "execution_count": 41,
   "metadata": {},
   "outputs": [],
   "source": [
    "tweets_by_most_retweeting_users = most_retweeting_users.withColumnRenamed(\"userid\",\"usrid\")\n",
    "tweets_by_most_retweeting_users = tweets_by_most_retweeting_users\\\n",
    "                                .join(stats, stats.userid == most_retweeting_users.usrid)\\\n",
    "                        .select(\"userid\",\"tweetid\")\n",
    "tweets_by_most_retweeting_users = tweets_by_most_retweeting_users.groupBy(\"userid\").agg(count('*')).\\\n",
    "                select(\"userid\", col(\"Count(1)\").alias(\"total_tweets\")).sort(desc(\"total_tweets\"))\n",
    "tweets_by_most_retweeting_users = tweets_by_most_retweeting_users.join(most_retweeting_users,\n",
    "                                                                       tweets_by_most_retweeting_users.userid ==\n",
    "                                                                      most_retweeting_users.usrid)\\\n",
    "                                    .select(\"userid\",\"total_tweets\",\"retweets_of_trolls\")"
   ]
  },
  {
   "cell_type": "code",
   "execution_count": 39,
   "metadata": {},
   "outputs": [
    {
     "name": "stdout",
     "output_type": "stream",
     "text": [
      "+--------------------+------------+------------------+------------------+\n",
      "|              userid|total_tweets|retweets_of_trolls|        Percentage|\n",
      "+--------------------+------------+------------------+------------------+\n",
      "|9bd87edcd300b276a...|         119|               118|0.9915966386554622|\n",
      "|9304dbfe749ac1b87...|         106|               103|0.9716981132075472|\n",
      "|ed18ded2abb68f0bc...|         116|               112|0.9655172413793104|\n",
      "|9f08edeb78f6dee82...|         110|               106|0.9636363636363636|\n",
      "|1bed07f5349b6e10b...|         108|               104|0.9629629629629629|\n",
      "|dfee299ad7755c7ac...|         107|               103|0.9626168224299065|\n",
      "|9d1a1ff4e8016ea1d...|         122|               117|0.9590163934426229|\n",
      "|179019db26001208f...|         124|               118|0.9516129032258065|\n",
      "|f81678fb42a6bae9c...|         121|               112|0.9256198347107438|\n",
      "|4584ea5091944dd0d...|         125|               114|             0.912|\n",
      "|7a139f4631e610230...|         118|               104|0.8813559322033898|\n",
      "|9d6cca646e3e183e2...|         146|               114|0.7808219178082192|\n",
      "|e29cf564295188f03...|         322|               249|0.7732919254658385|\n",
      "|44d631516b64aaaf9...|        1056|               811|0.7679924242424242|\n",
      "|726a39d0e2547bf4f...|         155|               116|0.7483870967741936|\n",
      "|49f9357f85ba8a69f...|         307|               226|0.7361563517915309|\n",
      "|7b9567b5a07873c7c...|         249|               180|0.7228915662650602|\n",
      "|b01886e1288f7648a...|         203|               140|0.6896551724137931|\n",
      "|cd9204fca7692f952...|         193|               133| 0.689119170984456|\n",
      "|21d94530a89f07224...|         876|               576|0.6575342465753424|\n",
      "+--------------------+------------+------------------+------------------+\n",
      "only showing top 20 rows\n",
      "\n"
     ]
    }
   ],
   "source": [
    "tweets_by_most_retweeting_users = tweets_by_most_retweeting_users.withColumn(\n",
    "                                \"Percentage\", (col(\"retweets_of_trolls\") /col(\"total_tweets\"))).sort(desc(\"Percentage\"))\n",
    "\n",
    "                \n",
    "tweets_by_most_retweeting_users.show()"
   ]
  },
  {
   "cell_type": "code",
   "execution_count": null,
   "metadata": {},
   "outputs": [],
   "source": []
  },
  {
   "cell_type": "code",
   "execution_count": null,
   "metadata": {},
   "outputs": [],
   "source": [
    "print(retweeted_users.count())\n",
    "print(retweeted_users.filter(\"retweets_by_trolls >= 10\").count())\n",
    "print(retweeted_users.filter(\"retweets_by_trolls >= 100\").count())\n",
    "print(retweeted_users.filter(\"retweets_by_trolls >= 1000\").count())\n",
    "print(retweeted_users.filter(\"retweets_by_trolls >= 10000\").count())\n",
    "\n",
    "print(retweeting_users.count())\n",
    "most_retweeting_users = retweeting_users.filter(\"retweets_of_trolls >= 100\").withColumnRenamed(\"userid\",\"usrid\")\n",
    "print(most_retweeting_users.count())\n",
    "print(retweeting_users.filter(\"retweets_of_trolls >= 100\").count())\n",
    "most_retweeting_users.show(10)"
   ]
  },
  {
   "cell_type": "markdown",
   "metadata": {},
   "source": [
    "# 4) Discussion of our project so far"
   ]
  },
  {
   "cell_type": "code",
   "execution_count": null,
   "metadata": {},
   "outputs": [],
   "source": []
  },
  {
   "cell_type": "markdown",
   "metadata": {},
   "source": [
    "## 4.1) Critique of own analysis and sources of potential error\n",
    "\n",
    "For many of our tasks it is unclear whether one can say that this is an total accurate representation of russian meddling on twitter. We only have a data sample, and it is likely that some of these accounts were taken down, given up on by IRA or by other reasons are not as active through the total period. In, it shows a general trend of the activity.\n",
    "\n",
    "Disclaimer: Many of the visualizations still needs major improvements. Especially part 3.2 and some of the early descriptive statistics.\n",
    "\n"
   ]
  },
  {
   "cell_type": "markdown",
   "metadata": {},
   "source": [
    "## 4.2) Own thoughts of milestone 2\n"
   ]
  },
  {
   "cell_type": "markdown",
   "metadata": {},
   "source": [
    "### 4.2.1) Thoughts regarding the data sets\n",
    "\n",
    "**First dataset:**\n",
    "The first data set had some features that initally was thought to be useful that ended up not being so much, especially region and language. This encoding was not fully correct, and we therefore had to use them much more careful than earlier believed. \n",
    "**Second dataset:**\n",
    "\n",
    "Things got a little changed when we got the possibility to work with a second data set on Sunday 18th November. The new data set featured a bunch of new interesting features, as well as not being categorized in the same manner as the first. We have not been able to look too much into it yet, but we really like the idea of combining the two and then getting more data samples. Right now, the second dataset does not have that many features, but we will be adding some more that we think will be useful for further analysing."
   ]
  },
  {
   "cell_type": "markdown",
   "metadata": {},
   "source": [
    "### 4.2.2) Dropped ideas or changed approaches to them.\n",
    "**Other languages**\n",
    "\n",
    "We worked a while on trying to analyse some of the non-english tweets, in particular the european ones. It was a significant amount, especially of the german data, but we struggled to get something in particular out of it. In general text classification became harder than initially thought. \n",
    "\n",
    "**General text classification** \n",
    "\n",
    "We was originally going to do this regarding the question how someone could determine whethter a twitter account is a troll. We knew that the TextBlob library had the application to create a sentiment, subjectivity and polarization tweets. We applied this, but when we were visualizing it we found out that it did not work as we had hoped. We found out that many of the tweets were not giving values even though there were clear indication of negative speak or positive speak. We also saw that the library struggled when tweets were particulary short. \n",
    "\n",
    "**Concerning traits to look for whether a user is a troll**\n",
    "\n",
    "We found out that many of the twitter users have irregular rhytms when it comes to followers and the update of them after tweeting. Some had sudden drops of hundreds of followers and following in just a few minutes, which may imply buying of fake or real followers (or own methods of phishing to get them). Others had irregular amounts of tweets in short time span, and also some users were sharing the same rhythm of the same tweets. Unfortunately we did not have time for analysing this in whole before the end of milestone 2.\n"
   ]
  },
  {
   "cell_type": "markdown",
   "metadata": {},
   "source": [
    "# 5) Plan for the next milestone"
   ]
  },
  {
   "cell_type": "markdown",
   "metadata": {},
   "source": [
    "Visualization:\n",
    "- We are not pleased with the visualization at the moment, and want to increase our quality here.\n",
    "- Look for other alternatives than used right now or effectively improve those we already have.\n",
    "\n",
    "Modeling:\n",
    "- Try to create a model that could determine which category each twitter user is. This may be difficult to manage, but the idea is to split the original dataset into a training and test set and create a model that could classify the different categories. Then apply this one the new one and see if it actually has made an improvement on the dataset and could be used as an actual classifier.\n",
    "\n",
    "Perform the analysis regarding our most important research question - \"Is there a way for people without a technical background to determine if a tweet is coming from a Russian troll?\":\n",
    "- Analyse followers and following to look deeper into the movement of this.\n",
    "- Look at the frequency and patterns of the time the tweets were tweeted.\n",
    "\n",
    "Improving the second data set:\n",
    "- Enrich the second data set by creating similar and new subsets.\n",
    "- Look more into the interaction between trolls in the new set, since we also have the user ID of each tweet.\n",
    "\n",
    "Create the data story:\n",
    "- Look for suitable tools to create our data story in.\n",
    "- Extract our most important findings and present something that actually provides meaningful insight to how the russian trolls operates.\n",
    "- Search for and add features unique for the data story. Animations e.g.\n",
    "- Finish the data story.\n",
    "\n",
    "Create the poster:\n",
    "- Sort out the visuals that works best in paper format, and choose the most interesting results for this.\n"
   ]
  }
 ],
 "metadata": {
  "kernelspec": {
   "display_name": "Python 3",
   "language": "python",
   "name": "python3"
  },
  "language_info": {
   "codemirror_mode": {
    "name": "ipython",
    "version": 3
   },
   "file_extension": ".py",
   "mimetype": "text/x-python",
   "name": "python",
   "nbconvert_exporter": "python",
   "pygments_lexer": "ipython3",
   "version": "3.6.4"
  }
 },
 "nbformat": 4,
 "nbformat_minor": 2
}
